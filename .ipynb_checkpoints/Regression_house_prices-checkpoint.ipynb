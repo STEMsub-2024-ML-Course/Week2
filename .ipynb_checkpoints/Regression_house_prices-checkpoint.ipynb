{
 "cells": [
  {
   "cell_type": "markdown",
   "metadata": {
    "id": "iAq0_crOQNcc"
   },
   "source": [
    "# Regression Notebook - House Prices\n",
    "## UW STEMsub\n",
    "### Instructor: Amanda Worthy \n",
    "\n",
    "In this notebook we'll practice working with `pandas` `DataFrames` and train a linear regression model to predict house prices.\n",
    "\n",
    "Fill in the cells provided marked `TODO` with code to answer the questions. Answers should do the computation stated rather than writing in hard-coded values. So for example, if a problem asks you to compute the average age of people in a dataset, you should be writing Python code in this notebook to do the computation instead of plugging it into some calculator and saving the hard-coded answer in the variable. In other words, we should be able to run your code on a smaller/larger dataset and get correct answers for those datasets with your code.\n",
    "\n",
    "It is generally a good idea to restart the kernel and run all cells (especially before turning it in) to make sure your code runs correctly from start to finish."
   ]
  },
  {
   "cell_type": "code",
   "execution_count": 1,
   "metadata": {
    "id": "QKwr7dcJQNch"
   },
   "outputs": [],
   "source": [
    "# Conventionally people rename the pandas import to pd for brevity\n",
    "import pandas as pd\n",
    "import seaborn as sn\n",
    "import plotly.express as px\n",
    "import numpy as np\n",
    "import matplotlib.pyplot as plt\n",
    "import fiona\n",
    "import pyproj\n",
    "import os\n",
    "import requests\n",
    "import matplotlib.ticker as ticker\n",
    "import glob\n",
    "import openpyxl\n",
    "\n",
    "!pip install gdown\n",
    "import gdown"
   ]
  },
  {
   "cell_type": "code",
   "execution_count": 8,
   "metadata": {},
   "outputs": [
    {
     "name": "stdout",
     "output_type": "stream",
     "text": [
      "/Users/amandaworthy/opt/anaconda3/envs/uwgda2022/lib/python3.9/site-packages/gdown/__main__.py:140: FutureWarning: Option `--id` was deprecated in version 4.3.1 and will be removed in 5.0. You don't need to pass it anymore to use a file ID.\n",
      "  warnings.warn(\n",
      "Downloading...\n",
      "From: https://drive.google.com/uc?id=1zZksuEOdxsxk-KMKiVw0-Wczag2h14aS\n",
      "To: /Users/amandaworthy/2024_STEMsub/Week2/home_data.csv\n",
      "100%|██████████████████████████████████████| 2.38M/2.38M [00:00<00:00, 11.5MB/s]\n"
     ]
    }
   ],
   "source": [
    "## NOTE: MAKE SURE YOU RUN THIS CELL\n",
    "\n",
    "# Lets import the data from my google drive\n",
    "# I am using this for sharing purposes, we can also import datasets on our own\n",
    "\n",
    "\n",
    "#https://drive.google.com/file/d/1zZksuEOdxsxk-KMKiVw0-Wczag2h14aS/view?usp=sharing\n",
    "\n",
    "!gdown --id 1zZksuEOdxsxk-KMKiVw0-Wczag2h14aS #this is a bash command, you are welcome to read more about them!\n",
    "\n"
   ]
  },
  {
   "cell_type": "code",
   "execution_count": 9,
   "metadata": {},
   "outputs": [
    {
     "name": "stdout",
     "output_type": "stream",
     "text": [
      "BigFoot.csv                          README.md\r\n",
      "Credit.csv                           Regression_house_prices.ipynb\r\n",
      "Exploratory_Analysis_In_Pandas.ipynb UW_building_energy.csv\r\n",
      "Homework 1.ipynb                     home_data.csv\r\n",
      "Homework_2_Regression.ipynb\r\n"
     ]
    }
   ],
   "source": [
    "! ls\n",
    "\n",
    "\n",
    "# IF IT WORKED 'home_data.csv' will show up "
   ]
  },
  {
   "cell_type": "code",
   "execution_count": 10,
   "metadata": {
    "id": "ca1_IOsVQNcq"
   },
   "outputs": [
    {
     "data": {
      "text/html": [
       "<div>\n",
       "<style scoped>\n",
       "    .dataframe tbody tr th:only-of-type {\n",
       "        vertical-align: middle;\n",
       "    }\n",
       "\n",
       "    .dataframe tbody tr th {\n",
       "        vertical-align: top;\n",
       "    }\n",
       "\n",
       "    .dataframe thead th {\n",
       "        text-align: right;\n",
       "    }\n",
       "</style>\n",
       "<table border=\"1\" class=\"dataframe\">\n",
       "  <thead>\n",
       "    <tr style=\"text-align: right;\">\n",
       "      <th></th>\n",
       "      <th>id</th>\n",
       "      <th>date</th>\n",
       "      <th>price</th>\n",
       "      <th>bedrooms</th>\n",
       "      <th>bathrooms</th>\n",
       "      <th>sqft_living</th>\n",
       "      <th>sqft_lot</th>\n",
       "      <th>floors</th>\n",
       "      <th>waterfront</th>\n",
       "      <th>view</th>\n",
       "      <th>...</th>\n",
       "      <th>grade</th>\n",
       "      <th>sqft_above</th>\n",
       "      <th>sqft_basement</th>\n",
       "      <th>yr_built</th>\n",
       "      <th>yr_renovated</th>\n",
       "      <th>zipcode</th>\n",
       "      <th>lat</th>\n",
       "      <th>long</th>\n",
       "      <th>sqft_living15</th>\n",
       "      <th>sqft_lot15</th>\n",
       "    </tr>\n",
       "  </thead>\n",
       "  <tbody>\n",
       "    <tr>\n",
       "      <th>0</th>\n",
       "      <td>7129300520</td>\n",
       "      <td>20141013T000000</td>\n",
       "      <td>221900</td>\n",
       "      <td>3</td>\n",
       "      <td>1.00</td>\n",
       "      <td>1180</td>\n",
       "      <td>5650</td>\n",
       "      <td>1.0</td>\n",
       "      <td>0</td>\n",
       "      <td>0</td>\n",
       "      <td>...</td>\n",
       "      <td>7</td>\n",
       "      <td>1180</td>\n",
       "      <td>0</td>\n",
       "      <td>1955</td>\n",
       "      <td>0</td>\n",
       "      <td>98178</td>\n",
       "      <td>47.5112</td>\n",
       "      <td>-122.257</td>\n",
       "      <td>1340</td>\n",
       "      <td>5650</td>\n",
       "    </tr>\n",
       "    <tr>\n",
       "      <th>1</th>\n",
       "      <td>6414100192</td>\n",
       "      <td>20141209T000000</td>\n",
       "      <td>538000</td>\n",
       "      <td>3</td>\n",
       "      <td>2.25</td>\n",
       "      <td>2570</td>\n",
       "      <td>7242</td>\n",
       "      <td>2.0</td>\n",
       "      <td>0</td>\n",
       "      <td>0</td>\n",
       "      <td>...</td>\n",
       "      <td>7</td>\n",
       "      <td>2170</td>\n",
       "      <td>400</td>\n",
       "      <td>1951</td>\n",
       "      <td>1991</td>\n",
       "      <td>98125</td>\n",
       "      <td>47.7210</td>\n",
       "      <td>-122.319</td>\n",
       "      <td>1690</td>\n",
       "      <td>7639</td>\n",
       "    </tr>\n",
       "    <tr>\n",
       "      <th>2</th>\n",
       "      <td>5631500400</td>\n",
       "      <td>20150225T000000</td>\n",
       "      <td>180000</td>\n",
       "      <td>2</td>\n",
       "      <td>1.00</td>\n",
       "      <td>770</td>\n",
       "      <td>10000</td>\n",
       "      <td>1.0</td>\n",
       "      <td>0</td>\n",
       "      <td>0</td>\n",
       "      <td>...</td>\n",
       "      <td>6</td>\n",
       "      <td>770</td>\n",
       "      <td>0</td>\n",
       "      <td>1933</td>\n",
       "      <td>0</td>\n",
       "      <td>98028</td>\n",
       "      <td>47.7379</td>\n",
       "      <td>-122.233</td>\n",
       "      <td>2720</td>\n",
       "      <td>8062</td>\n",
       "    </tr>\n",
       "    <tr>\n",
       "      <th>3</th>\n",
       "      <td>2487200875</td>\n",
       "      <td>20141209T000000</td>\n",
       "      <td>604000</td>\n",
       "      <td>4</td>\n",
       "      <td>3.00</td>\n",
       "      <td>1960</td>\n",
       "      <td>5000</td>\n",
       "      <td>1.0</td>\n",
       "      <td>0</td>\n",
       "      <td>0</td>\n",
       "      <td>...</td>\n",
       "      <td>7</td>\n",
       "      <td>1050</td>\n",
       "      <td>910</td>\n",
       "      <td>1965</td>\n",
       "      <td>0</td>\n",
       "      <td>98136</td>\n",
       "      <td>47.5208</td>\n",
       "      <td>-122.393</td>\n",
       "      <td>1360</td>\n",
       "      <td>5000</td>\n",
       "    </tr>\n",
       "    <tr>\n",
       "      <th>4</th>\n",
       "      <td>1954400510</td>\n",
       "      <td>20150218T000000</td>\n",
       "      <td>510000</td>\n",
       "      <td>3</td>\n",
       "      <td>2.00</td>\n",
       "      <td>1680</td>\n",
       "      <td>8080</td>\n",
       "      <td>1.0</td>\n",
       "      <td>0</td>\n",
       "      <td>0</td>\n",
       "      <td>...</td>\n",
       "      <td>8</td>\n",
       "      <td>1680</td>\n",
       "      <td>0</td>\n",
       "      <td>1987</td>\n",
       "      <td>0</td>\n",
       "      <td>98074</td>\n",
       "      <td>47.6168</td>\n",
       "      <td>-122.045</td>\n",
       "      <td>1800</td>\n",
       "      <td>7503</td>\n",
       "    </tr>\n",
       "  </tbody>\n",
       "</table>\n",
       "<p>5 rows × 21 columns</p>\n",
       "</div>"
      ],
      "text/plain": [
       "           id             date   price  bedrooms  bathrooms  sqft_living  \\\n",
       "0  7129300520  20141013T000000  221900         3       1.00         1180   \n",
       "1  6414100192  20141209T000000  538000         3       2.25         2570   \n",
       "2  5631500400  20150225T000000  180000         2       1.00          770   \n",
       "3  2487200875  20141209T000000  604000         4       3.00         1960   \n",
       "4  1954400510  20150218T000000  510000         3       2.00         1680   \n",
       "\n",
       "   sqft_lot  floors  waterfront  view  ...  grade  sqft_above  sqft_basement  \\\n",
       "0      5650     1.0           0     0  ...      7        1180              0   \n",
       "1      7242     2.0           0     0  ...      7        2170            400   \n",
       "2     10000     1.0           0     0  ...      6         770              0   \n",
       "3      5000     1.0           0     0  ...      7        1050            910   \n",
       "4      8080     1.0           0     0  ...      8        1680              0   \n",
       "\n",
       "   yr_built  yr_renovated  zipcode      lat     long  sqft_living15  \\\n",
       "0      1955             0    98178  47.5112 -122.257           1340   \n",
       "1      1951          1991    98125  47.7210 -122.319           1690   \n",
       "2      1933             0    98028  47.7379 -122.233           2720   \n",
       "3      1965             0    98136  47.5208 -122.393           1360   \n",
       "4      1987             0    98074  47.6168 -122.045           1800   \n",
       "\n",
       "   sqft_lot15  \n",
       "0        5650  \n",
       "1        7639  \n",
       "2        8062  \n",
       "3        5000  \n",
       "4        7503  \n",
       "\n",
       "[5 rows x 21 columns]"
      ]
     },
     "execution_count": 10,
     "metadata": {},
     "output_type": "execute_result"
    }
   ],
   "source": [
    "# Load in the data and preview it\n",
    "sales = pd.read_csv('home_data.csv') \n",
    "sales.head()"
   ]
  },
  {
   "cell_type": "code",
   "execution_count": 3,
   "metadata": {},
   "outputs": [
    {
     "data": {
      "text/plain": [
       "Index(['id', 'date', 'price', 'bedrooms', 'bathrooms', 'sqft_living',\n",
       "       'sqft_lot', 'floors', 'waterfront', 'view', 'condition', 'grade',\n",
       "       'sqft_above', 'sqft_basement', 'yr_built', 'yr_renovated', 'zipcode',\n",
       "       'lat', 'long', 'sqft_living15', 'sqft_lot15'],\n",
       "      dtype='object')"
      ]
     },
     "execution_count": 3,
     "metadata": {},
     "output_type": "execute_result"
    }
   ],
   "source": [
    "sales.columns"
   ]
  },
  {
   "cell_type": "markdown",
   "metadata": {
    "id": "ly8hIsWdQNcq"
   },
   "source": [
    "---\n",
    "# Exploring the data.\n",
    "This question asks you to explore the dataset we will be using. Answer the following three sentences by writing code to compute the dsecribed values in the given variables names. Note that Q1 has 3 sub-questions.\n",
    "\n",
    "## Q1) Exploring the data\n",
    "\n",
    "1. Lets start by looking at the dataframe column names.\n",
    "2. How many houses do we have in our data set? This should correspond to the number of rows in the dataset. Save the number of rows in a variable called `num_rows`.\n",
    "3. Which column are we trying to predict given the other features (i.e. what's our output `y`)? Save the column values in a variable called `y`.\n",
    "4. How many inputs do we have in total in the data set (i.e. what is the size of our input `x`)? Save the number of inputs in a variable called `num_inputs`. Lets use the `shape` built in function. \n",
    "\n",
    "Each one of these questions should be answered in the next cells respectively.\n",
    "\n",
    "*Hint:* You can use `len()` to get the length of anything in Python. Note that when you use it on a DataFrame, it will give you the number of rows, not columns.\n"
   ]
  },
  {
   "cell_type": "code",
   "execution_count": 4,
   "metadata": {},
   "outputs": [
    {
     "data": {
      "text/html": [
       "<div>\n",
       "<style scoped>\n",
       "    .dataframe tbody tr th:only-of-type {\n",
       "        vertical-align: middle;\n",
       "    }\n",
       "\n",
       "    .dataframe tbody tr th {\n",
       "        vertical-align: top;\n",
       "    }\n",
       "\n",
       "    .dataframe thead th {\n",
       "        text-align: right;\n",
       "    }\n",
       "</style>\n",
       "<table border=\"1\" class=\"dataframe\">\n",
       "  <thead>\n",
       "    <tr style=\"text-align: right;\">\n",
       "      <th></th>\n",
       "      <th>id</th>\n",
       "      <th>date</th>\n",
       "      <th>price</th>\n",
       "      <th>bedrooms</th>\n",
       "      <th>bathrooms</th>\n",
       "      <th>sqft_living</th>\n",
       "      <th>sqft_lot</th>\n",
       "      <th>floors</th>\n",
       "      <th>waterfront</th>\n",
       "      <th>view</th>\n",
       "      <th>...</th>\n",
       "      <th>grade</th>\n",
       "      <th>sqft_above</th>\n",
       "      <th>sqft_basement</th>\n",
       "      <th>yr_built</th>\n",
       "      <th>yr_renovated</th>\n",
       "      <th>zipcode</th>\n",
       "      <th>lat</th>\n",
       "      <th>long</th>\n",
       "      <th>sqft_living15</th>\n",
       "      <th>sqft_lot15</th>\n",
       "    </tr>\n",
       "  </thead>\n",
       "  <tbody>\n",
       "    <tr>\n",
       "      <th>0</th>\n",
       "      <td>7129300520</td>\n",
       "      <td>20141013T000000</td>\n",
       "      <td>221900</td>\n",
       "      <td>3</td>\n",
       "      <td>1.00</td>\n",
       "      <td>1180</td>\n",
       "      <td>5650</td>\n",
       "      <td>1.0</td>\n",
       "      <td>0</td>\n",
       "      <td>0</td>\n",
       "      <td>...</td>\n",
       "      <td>7</td>\n",
       "      <td>1180</td>\n",
       "      <td>0</td>\n",
       "      <td>1955</td>\n",
       "      <td>0</td>\n",
       "      <td>98178</td>\n",
       "      <td>47.5112</td>\n",
       "      <td>-122.257</td>\n",
       "      <td>1340</td>\n",
       "      <td>5650</td>\n",
       "    </tr>\n",
       "    <tr>\n",
       "      <th>1</th>\n",
       "      <td>6414100192</td>\n",
       "      <td>20141209T000000</td>\n",
       "      <td>538000</td>\n",
       "      <td>3</td>\n",
       "      <td>2.25</td>\n",
       "      <td>2570</td>\n",
       "      <td>7242</td>\n",
       "      <td>2.0</td>\n",
       "      <td>0</td>\n",
       "      <td>0</td>\n",
       "      <td>...</td>\n",
       "      <td>7</td>\n",
       "      <td>2170</td>\n",
       "      <td>400</td>\n",
       "      <td>1951</td>\n",
       "      <td>1991</td>\n",
       "      <td>98125</td>\n",
       "      <td>47.7210</td>\n",
       "      <td>-122.319</td>\n",
       "      <td>1690</td>\n",
       "      <td>7639</td>\n",
       "    </tr>\n",
       "    <tr>\n",
       "      <th>2</th>\n",
       "      <td>5631500400</td>\n",
       "      <td>20150225T000000</td>\n",
       "      <td>180000</td>\n",
       "      <td>2</td>\n",
       "      <td>1.00</td>\n",
       "      <td>770</td>\n",
       "      <td>10000</td>\n",
       "      <td>1.0</td>\n",
       "      <td>0</td>\n",
       "      <td>0</td>\n",
       "      <td>...</td>\n",
       "      <td>6</td>\n",
       "      <td>770</td>\n",
       "      <td>0</td>\n",
       "      <td>1933</td>\n",
       "      <td>0</td>\n",
       "      <td>98028</td>\n",
       "      <td>47.7379</td>\n",
       "      <td>-122.233</td>\n",
       "      <td>2720</td>\n",
       "      <td>8062</td>\n",
       "    </tr>\n",
       "    <tr>\n",
       "      <th>3</th>\n",
       "      <td>2487200875</td>\n",
       "      <td>20141209T000000</td>\n",
       "      <td>604000</td>\n",
       "      <td>4</td>\n",
       "      <td>3.00</td>\n",
       "      <td>1960</td>\n",
       "      <td>5000</td>\n",
       "      <td>1.0</td>\n",
       "      <td>0</td>\n",
       "      <td>0</td>\n",
       "      <td>...</td>\n",
       "      <td>7</td>\n",
       "      <td>1050</td>\n",
       "      <td>910</td>\n",
       "      <td>1965</td>\n",
       "      <td>0</td>\n",
       "      <td>98136</td>\n",
       "      <td>47.5208</td>\n",
       "      <td>-122.393</td>\n",
       "      <td>1360</td>\n",
       "      <td>5000</td>\n",
       "    </tr>\n",
       "    <tr>\n",
       "      <th>4</th>\n",
       "      <td>1954400510</td>\n",
       "      <td>20150218T000000</td>\n",
       "      <td>510000</td>\n",
       "      <td>3</td>\n",
       "      <td>2.00</td>\n",
       "      <td>1680</td>\n",
       "      <td>8080</td>\n",
       "      <td>1.0</td>\n",
       "      <td>0</td>\n",
       "      <td>0</td>\n",
       "      <td>...</td>\n",
       "      <td>8</td>\n",
       "      <td>1680</td>\n",
       "      <td>0</td>\n",
       "      <td>1987</td>\n",
       "      <td>0</td>\n",
       "      <td>98074</td>\n",
       "      <td>47.6168</td>\n",
       "      <td>-122.045</td>\n",
       "      <td>1800</td>\n",
       "      <td>7503</td>\n",
       "    </tr>\n",
       "    <tr>\n",
       "      <th>...</th>\n",
       "      <td>...</td>\n",
       "      <td>...</td>\n",
       "      <td>...</td>\n",
       "      <td>...</td>\n",
       "      <td>...</td>\n",
       "      <td>...</td>\n",
       "      <td>...</td>\n",
       "      <td>...</td>\n",
       "      <td>...</td>\n",
       "      <td>...</td>\n",
       "      <td>...</td>\n",
       "      <td>...</td>\n",
       "      <td>...</td>\n",
       "      <td>...</td>\n",
       "      <td>...</td>\n",
       "      <td>...</td>\n",
       "      <td>...</td>\n",
       "      <td>...</td>\n",
       "      <td>...</td>\n",
       "      <td>...</td>\n",
       "      <td>...</td>\n",
       "    </tr>\n",
       "    <tr>\n",
       "      <th>21608</th>\n",
       "      <td>263000018</td>\n",
       "      <td>20140521T000000</td>\n",
       "      <td>360000</td>\n",
       "      <td>3</td>\n",
       "      <td>2.50</td>\n",
       "      <td>1530</td>\n",
       "      <td>1131</td>\n",
       "      <td>3.0</td>\n",
       "      <td>0</td>\n",
       "      <td>0</td>\n",
       "      <td>...</td>\n",
       "      <td>8</td>\n",
       "      <td>1530</td>\n",
       "      <td>0</td>\n",
       "      <td>2009</td>\n",
       "      <td>0</td>\n",
       "      <td>98103</td>\n",
       "      <td>47.6993</td>\n",
       "      <td>-122.346</td>\n",
       "      <td>1530</td>\n",
       "      <td>1509</td>\n",
       "    </tr>\n",
       "    <tr>\n",
       "      <th>21609</th>\n",
       "      <td>6600060120</td>\n",
       "      <td>20150223T000000</td>\n",
       "      <td>400000</td>\n",
       "      <td>4</td>\n",
       "      <td>2.50</td>\n",
       "      <td>2310</td>\n",
       "      <td>5813</td>\n",
       "      <td>2.0</td>\n",
       "      <td>0</td>\n",
       "      <td>0</td>\n",
       "      <td>...</td>\n",
       "      <td>8</td>\n",
       "      <td>2310</td>\n",
       "      <td>0</td>\n",
       "      <td>2014</td>\n",
       "      <td>0</td>\n",
       "      <td>98146</td>\n",
       "      <td>47.5107</td>\n",
       "      <td>-122.362</td>\n",
       "      <td>1830</td>\n",
       "      <td>7200</td>\n",
       "    </tr>\n",
       "    <tr>\n",
       "      <th>21610</th>\n",
       "      <td>1523300141</td>\n",
       "      <td>20140623T000000</td>\n",
       "      <td>402101</td>\n",
       "      <td>2</td>\n",
       "      <td>0.75</td>\n",
       "      <td>1020</td>\n",
       "      <td>1350</td>\n",
       "      <td>2.0</td>\n",
       "      <td>0</td>\n",
       "      <td>0</td>\n",
       "      <td>...</td>\n",
       "      <td>7</td>\n",
       "      <td>1020</td>\n",
       "      <td>0</td>\n",
       "      <td>2009</td>\n",
       "      <td>0</td>\n",
       "      <td>98144</td>\n",
       "      <td>47.5944</td>\n",
       "      <td>-122.299</td>\n",
       "      <td>1020</td>\n",
       "      <td>2007</td>\n",
       "    </tr>\n",
       "    <tr>\n",
       "      <th>21611</th>\n",
       "      <td>291310100</td>\n",
       "      <td>20150116T000000</td>\n",
       "      <td>400000</td>\n",
       "      <td>3</td>\n",
       "      <td>2.50</td>\n",
       "      <td>1600</td>\n",
       "      <td>2388</td>\n",
       "      <td>2.0</td>\n",
       "      <td>0</td>\n",
       "      <td>0</td>\n",
       "      <td>...</td>\n",
       "      <td>8</td>\n",
       "      <td>1600</td>\n",
       "      <td>0</td>\n",
       "      <td>2004</td>\n",
       "      <td>0</td>\n",
       "      <td>98027</td>\n",
       "      <td>47.5345</td>\n",
       "      <td>-122.069</td>\n",
       "      <td>1410</td>\n",
       "      <td>1287</td>\n",
       "    </tr>\n",
       "    <tr>\n",
       "      <th>21612</th>\n",
       "      <td>1523300157</td>\n",
       "      <td>20141015T000000</td>\n",
       "      <td>325000</td>\n",
       "      <td>2</td>\n",
       "      <td>0.75</td>\n",
       "      <td>1020</td>\n",
       "      <td>1076</td>\n",
       "      <td>2.0</td>\n",
       "      <td>0</td>\n",
       "      <td>0</td>\n",
       "      <td>...</td>\n",
       "      <td>7</td>\n",
       "      <td>1020</td>\n",
       "      <td>0</td>\n",
       "      <td>2008</td>\n",
       "      <td>0</td>\n",
       "      <td>98144</td>\n",
       "      <td>47.5941</td>\n",
       "      <td>-122.299</td>\n",
       "      <td>1020</td>\n",
       "      <td>1357</td>\n",
       "    </tr>\n",
       "  </tbody>\n",
       "</table>\n",
       "<p>21613 rows × 21 columns</p>\n",
       "</div>"
      ],
      "text/plain": [
       "               id             date   price  bedrooms  bathrooms  sqft_living  \\\n",
       "0      7129300520  20141013T000000  221900         3       1.00         1180   \n",
       "1      6414100192  20141209T000000  538000         3       2.25         2570   \n",
       "2      5631500400  20150225T000000  180000         2       1.00          770   \n",
       "3      2487200875  20141209T000000  604000         4       3.00         1960   \n",
       "4      1954400510  20150218T000000  510000         3       2.00         1680   \n",
       "...           ...              ...     ...       ...        ...          ...   \n",
       "21608   263000018  20140521T000000  360000         3       2.50         1530   \n",
       "21609  6600060120  20150223T000000  400000         4       2.50         2310   \n",
       "21610  1523300141  20140623T000000  402101         2       0.75         1020   \n",
       "21611   291310100  20150116T000000  400000         3       2.50         1600   \n",
       "21612  1523300157  20141015T000000  325000         2       0.75         1020   \n",
       "\n",
       "       sqft_lot  floors  waterfront  view  ...  grade  sqft_above  \\\n",
       "0          5650     1.0           0     0  ...      7        1180   \n",
       "1          7242     2.0           0     0  ...      7        2170   \n",
       "2         10000     1.0           0     0  ...      6         770   \n",
       "3          5000     1.0           0     0  ...      7        1050   \n",
       "4          8080     1.0           0     0  ...      8        1680   \n",
       "...         ...     ...         ...   ...  ...    ...         ...   \n",
       "21608      1131     3.0           0     0  ...      8        1530   \n",
       "21609      5813     2.0           0     0  ...      8        2310   \n",
       "21610      1350     2.0           0     0  ...      7        1020   \n",
       "21611      2388     2.0           0     0  ...      8        1600   \n",
       "21612      1076     2.0           0     0  ...      7        1020   \n",
       "\n",
       "       sqft_basement  yr_built  yr_renovated  zipcode      lat     long  \\\n",
       "0                  0      1955             0    98178  47.5112 -122.257   \n",
       "1                400      1951          1991    98125  47.7210 -122.319   \n",
       "2                  0      1933             0    98028  47.7379 -122.233   \n",
       "3                910      1965             0    98136  47.5208 -122.393   \n",
       "4                  0      1987             0    98074  47.6168 -122.045   \n",
       "...              ...       ...           ...      ...      ...      ...   \n",
       "21608              0      2009             0    98103  47.6993 -122.346   \n",
       "21609              0      2014             0    98146  47.5107 -122.362   \n",
       "21610              0      2009             0    98144  47.5944 -122.299   \n",
       "21611              0      2004             0    98027  47.5345 -122.069   \n",
       "21612              0      2008             0    98144  47.5941 -122.299   \n",
       "\n",
       "       sqft_living15  sqft_lot15  \n",
       "0               1340        5650  \n",
       "1               1690        7639  \n",
       "2               2720        8062  \n",
       "3               1360        5000  \n",
       "4               1800        7503  \n",
       "...              ...         ...  \n",
       "21608           1530        1509  \n",
       "21609           1830        7200  \n",
       "21610           1020        2007  \n",
       "21611           1410        1287  \n",
       "21612           1020        1357  \n",
       "\n",
       "[21613 rows x 21 columns]"
      ]
     },
     "execution_count": 4,
     "metadata": {},
     "output_type": "execute_result"
    }
   ],
   "source": [
    "# explore the dataset\n",
    "\n",
    "sales"
   ]
  },
  {
   "cell_type": "code",
   "execution_count": 5,
   "metadata": {},
   "outputs": [
    {
     "data": {
      "text/plain": [
       "['id',\n",
       " 'date',\n",
       " 'price',\n",
       " 'bedrooms',\n",
       " 'bathrooms',\n",
       " 'sqft_living',\n",
       " 'sqft_lot',\n",
       " 'floors',\n",
       " 'waterfront',\n",
       " 'view',\n",
       " 'condition',\n",
       " 'grade',\n",
       " 'sqft_above',\n",
       " 'sqft_basement',\n",
       " 'yr_built',\n",
       " 'yr_renovated',\n",
       " 'zipcode',\n",
       " 'lat',\n",
       " 'long',\n",
       " 'sqft_living15',\n",
       " 'sqft_lot15']"
      ]
     },
     "execution_count": 5,
     "metadata": {},
     "output_type": "execute_result"
    }
   ],
   "source": [
    "# lets start by looking at the column names \n",
    "\n",
    "list(sales.columns)"
   ]
  },
  {
   "cell_type": "code",
   "execution_count": 11,
   "metadata": {
    "id": "5bDfbILfQNcr"
   },
   "outputs": [],
   "source": [
    "# now the number of rows \n",
    "\n"
   ]
  },
  {
   "cell_type": "code",
   "execution_count": null,
   "metadata": {},
   "outputs": [],
   "source": [
    "#what about the number of columns \n",
    "\n"
   ]
  },
  {
   "cell_type": "code",
   "execution_count": 7,
   "metadata": {
    "id": "0djI_eeFQNcs"
   },
   "outputs": [
    {
     "data": {
      "text/plain": [
       "0    221900\n",
       "1    538000\n",
       "2    180000\n",
       "3    604000\n",
       "4    510000\n",
       "Name: price, dtype: int64"
      ]
     },
     "execution_count": 7,
     "metadata": {},
     "output_type": "execute_result"
    }
   ],
   "source": [
    "# now we will define the y varriable \n",
    "\n",
    "y= sales.price\n",
    "\n",
    "y.head(5)"
   ]
  },
  {
   "cell_type": "code",
   "execution_count": 12,
   "metadata": {
    "id": "knqdHVEFQNcs"
   },
   "outputs": [],
   "source": [
    "# okay lets look at the number of columns to look at \n",
    "\n"
   ]
  },
  {
   "cell_type": "markdown",
   "metadata": {
    "id": "LWNCt7Q9QNct"
   },
   "source": [
    "---\n",
    "## Q2) What is the average price of houses with 3 bedrooms?\n",
    "\n",
    "Compute the average price of houses in the dataset with 3 bedrooms. Save the result in `avg_price_3_bed`."
   ]
  },
  {
   "cell_type": "code",
   "execution_count": 14,
   "metadata": {
    "id": "ybH34jaVQNct"
   },
   "outputs": [],
   "source": [
    "# we will do this by filtering \n",
    "\n"
   ]
  },
  {
   "cell_type": "markdown",
   "metadata": {
    "id": "Ny465pKAQNcu"
   },
   "source": [
    "---\n",
    "## Q3) What fraction of the properties are have `sqft_living` between 2000-4000?\n",
    "\n",
    "Compute the fraction of properties with `sqft_living` between 2000 (inclusive) and 4000 (exclusive). Your answer should be stored in `percent_q3` and it should be a number between 0 and 1.\n",
    " "
   ]
  },
  {
   "cell_type": "code",
   "execution_count": null,
   "metadata": {
    "id": "traXJ23PQNcu"
   },
   "outputs": [],
   "source": [
    "\n"
   ]
  },
  {
   "cell_type": "markdown",
   "metadata": {
    "id": "pH7yjdfyQNcv"
   },
   "source": [
    "---\n",
    "# Training Linear Regression Models\n",
    "\n",
    "## Q4) Training a Linear Regression Model.\n",
    "\n",
    "We will now train a linear regression model to make useful predictions. Work through the steps below and then answer the following questions. Even though a lot of the code is pre-written, you should understand what it is doing! You may be asked to write some of this code on future assignments.\n",
    "\n",
    "First we split the data into a training set and a test set.\n"
   ]
  },
  {
   "cell_type": "code",
   "execution_count": 12,
   "metadata": {
    "id": "Kzh667KAQNcv"
   },
   "outputs": [],
   "source": [
    "from sklearn.model_selection import train_test_split\n",
    "\n",
    "# Split data into 80% train and 20% test\n",
    "train_data, test_data = train_test_split(sales, test_size=0.2)"
   ]
  },
  {
   "cell_type": "markdown",
   "metadata": {
    "id": "RukAJ1tCQNcw"
   },
   "source": [
    "Lets plot some of the data to get a sense of what we are dealing with. You do not need to understand every part of the plotting code here, but plotting is a good skill in Python so it will help to read over this."
   ]
  },
  {
   "cell_type": "code",
   "execution_count": 13,
   "metadata": {
    "id": "fx5pyKpaQNcw"
   },
   "outputs": [
    {
     "data": {
      "text/plain": [
       "Text(0, 0.5, 'Price')"
      ]
     },
     "execution_count": 13,
     "metadata": {},
     "output_type": "execute_result"
    },
    {
     "data": {
      "image/png": "[encoded data removed]",
      "text/plain": [
       "<Figure size 432x288 with 1 Axes>"
      ]
     },
     "metadata": {
      "needs_background": "light"
     },
     "output_type": "display_data"
    }
   ],
   "source": [
    "import matplotlib.pyplot as plt\n",
    "%matplotlib inline\n",
    "\n",
    "# Plot sqft_living vs housing price for the train and test da\n",
    "plt.scatter(train_data['sqft_living'], train_data['price'], marker='+', label='Train')\n",
    "plt.scatter(test_data['sqft_living'], test_data['price'], marker='.', label='Test')\n",
    "\n",
    "# Code to customize the axis labels\n",
    "plt.legend()\n",
    "plt.xlabel('Sqft Living')\n",
    "plt.ylabel('Price')"
   ]
  },
  {
   "cell_type": "markdown",
   "metadata": {
    "id": "D-KdzWk8QNcw"
   },
   "source": [
    "For this problem, we will look at using two sets of features derived from the data inputs. The basic set of features only contains a few data inputs while the advanced features contain them and more."
   ]
  },
  {
   "cell_type": "code",
   "execution_count": 14,
   "metadata": {
    "id": "QIf_CwfXQNcw"
   },
   "outputs": [],
   "source": [
    "basic_features = ['bedrooms', 'bathrooms', 'sqft_living', 'sqft_lot', 'floors', 'zipcode']"
   ]
  },
  {
   "cell_type": "code",
   "execution_count": 15,
   "metadata": {
    "id": "4CWvMo5oQNcx"
   },
   "outputs": [],
   "source": [
    "advanced_features = basic_features + [\n",
    "    'condition',      # condition of the house\n",
    "    'grade',          # measure of qality of construction\n",
    "    'waterfront',     # waterfront property \n",
    "    'view',           # type of view\n",
    "    'sqft_above',     # square feet above ground\n",
    "    'sqft_basement',  # square feet in basementab\n",
    "    'yr_built',       # the year built\n",
    "    'yr_renovated',   # the year renovated\n",
    "    'lat',            # the longitude of the parcel\n",
    "    'long',           # the latitide of the parcel\n",
    "    'sqft_living15',  # average sq.ft. of 15 nearest neighbors \n",
    "    'sqft_lot15',     # average lot size of 15 nearest neighbors \n",
    "]"
   ]
  },
  {
   "cell_type": "markdown",
   "metadata": {
    "id": "rfwDDVVFQNcx"
   },
   "source": [
    "---\n",
    "In the following cell, you should train two linear regression models\n",
    "* The first should be saved in a variable called `basic_model` that only uses the basic features\n",
    "* The seconod should be saved in a variable called `advanced_model` that uses the advanced features\n",
    "\n",
    "You'll need to look through the [LinearRegression](https://scikit-learn.org/stable/modules/generated/sklearn.linear_model.LinearRegression.html) class from scikit-learn to look into how to train a regression model for this task. In particular, make sure you check out the `fit` function.\n",
    "\n",
    "Notice that our goal is to eventually make a prediction of how the model will do in the future. You should keep this in mind when deciding which datasets to use where."
   ]
  },
  {
   "cell_type": "code",
   "execution_count": 16,
   "metadata": {
    "id": "yTBfZRbbQNcx"
   },
   "outputs": [
    {
     "data": {
      "text/plain": [
       "array([-5.90248047e+04,  1.41902567e+04,  3.20170255e+02, -2.84574087e-01,\n",
       "       -7.36018259e+03,  6.05970602e+02])"
      ]
     },
     "execution_count": 16,
     "metadata": {},
     "output_type": "execute_result"
    }
   ],
   "source": [
    "import numpy as np\n",
    "from sklearn.linear_model import LinearRegression\n",
    "from sklearn import datasets, linear_model\n",
    "from sklearn.metrics import mean_squared_error, r2_score\n",
    "\n",
    "#basic model\n",
    "y_basic= train_data['price']\n",
    "x_basic= train_data[basic_features]\n",
    "regr = linear_model.LinearRegression()\n",
    "\n",
    "basic_model= regr.fit(x_basic, y_basic)\n",
    "basic_model\n",
    "\n",
    "basic_model.coef_"
   ]
  },
  {
   "cell_type": "code",
   "execution_count": 17,
   "metadata": {},
   "outputs": [
    {
     "data": {
      "text/plain": [
       "array([-3.65397232e+04,  4.19128973e+04,  1.13499781e+02,  1.19028718e-01,\n",
       "        3.62533842e+03, -5.82714069e+02,  2.58104195e+04,  9.37213563e+04,\n",
       "        5.84058911e+05,  5.57274807e+04,  7.46660704e+01,  3.88337109e+01,\n",
       "       -2.67398379e+03,  2.34340630e+01,  5.96795377e+05, -2.18311759e+05,\n",
       "        2.10746692e+01, -4.17948882e-01])"
      ]
     },
     "execution_count": 17,
     "metadata": {},
     "output_type": "execute_result"
    }
   ],
   "source": [
    "y_complex= train_data['price']\n",
    "x_complex= train_data[advanced_features]\n",
    "\n",
    "regr = linear_model.LinearRegression()\n",
    "\n",
    "advanced_model= regr.fit(x_complex, y_complex)\n",
    "advanced_model\n",
    "\n",
    "advanced_model.coef_"
   ]
  },
  {
   "cell_type": "markdown",
   "metadata": {
    "id": "V0xb9McKQNcx"
   },
   "source": [
    "Now, we will evaluate the models' predictions to see how they perform.\n",
    "\n",
    "---\n",
    "# Root Mean Square Error (RMSE) of trained predictors\n",
    "\n",
    "## Q5) What are your Root Mean Squared Errors (RMSE) on your training data using the basic model and the advanced model?\n",
    "\n",
    "\n",
    "Use the models you trained in last section to predict what it thinks the values for the data points should be. You can look at the documentation from the `LinearRegression` model to see how to make predictions. \n",
    "\n",
    "The RMSE is another commonly reported metric used for regression models. The RMSE is similar to RSS but is modified slightly to scale the number down. The RMSE is defined as $$RMSE = \\sqrt{\\frac{1}{n}RSS}$$\n",
    "\n",
    "where the thing inside the square root is refered to as the Mean Square Error (MSE). You will also need to use the `mean_squared_error` function from sklearn (documentation [here](https://scikit-learn.org/stable/modules/generated/sklearn.metrics.mean_squared_error.html#sklearn.metrics.mean_squared_error)) which you'll have to import as well. \n",
    "\n",
    "**Save your result in variables named `train_rmse_basic` and `train_rmse_advanced` respectively.**\n",
    "\n",
    "**Remember, we want you to report the square root of the MSE numbers**."
   ]
  },
  {
   "cell_type": "code",
   "execution_count": null,
   "metadata": {},
   "outputs": [],
   "source": [
    "# we will first look at the basic model \n",
    "\n",
    "basic_model_Y_train = basic_model.predict(train_data[basic_features])\n",
    "basic_model_Y_train\n",
    "\n",
    "train_data['basic']= basic_model_Y_train\n",
    "\n",
    "train_data.head() "
   ]
  },
  {
   "cell_type": "code",
   "execution_count": 18,
   "metadata": {},
   "outputs": [
    {
     "name": "stdout",
     "output_type": "stream",
     "text": [
      "(17290, 23)\n"
     ]
    },
    {
     "data": {
      "text/html": [
       "<div>\n",
       "<style scoped>\n",
       "    .dataframe tbody tr th:only-of-type {\n",
       "        vertical-align: middle;\n",
       "    }\n",
       "\n",
       "    .dataframe tbody tr th {\n",
       "        vertical-align: top;\n",
       "    }\n",
       "\n",
       "    .dataframe thead th {\n",
       "        text-align: right;\n",
       "    }\n",
       "</style>\n",
       "<table border=\"1\" class=\"dataframe\">\n",
       "  <thead>\n",
       "    <tr style=\"text-align: right;\">\n",
       "      <th></th>\n",
       "      <th>id</th>\n",
       "      <th>date</th>\n",
       "      <th>price</th>\n",
       "      <th>bedrooms</th>\n",
       "      <th>bathrooms</th>\n",
       "      <th>sqft_living</th>\n",
       "      <th>sqft_lot</th>\n",
       "      <th>floors</th>\n",
       "      <th>waterfront</th>\n",
       "      <th>view</th>\n",
       "      <th>...</th>\n",
       "      <th>sqft_basement</th>\n",
       "      <th>yr_built</th>\n",
       "      <th>yr_renovated</th>\n",
       "      <th>zipcode</th>\n",
       "      <th>lat</th>\n",
       "      <th>long</th>\n",
       "      <th>sqft_living15</th>\n",
       "      <th>sqft_lot15</th>\n",
       "      <th>adv</th>\n",
       "      <th>basic</th>\n",
       "    </tr>\n",
       "  </thead>\n",
       "  <tbody>\n",
       "    <tr>\n",
       "      <th>10081</th>\n",
       "      <td>3592500340</td>\n",
       "      <td>20150313T000000</td>\n",
       "      <td>1100000</td>\n",
       "      <td>5</td>\n",
       "      <td>2.75</td>\n",
       "      <td>2520</td>\n",
       "      <td>4643</td>\n",
       "      <td>1.5</td>\n",
       "      <td>0</td>\n",
       "      <td>0</td>\n",
       "      <td>...</td>\n",
       "      <td>400</td>\n",
       "      <td>1916</td>\n",
       "      <td>0</td>\n",
       "      <td>98112</td>\n",
       "      <td>47.6348</td>\n",
       "      <td>-122.301</td>\n",
       "      <td>2100</td>\n",
       "      <td>4564</td>\n",
       "      <td>810274.718544</td>\n",
       "      <td>619013.525975</td>\n",
       "    </tr>\n",
       "    <tr>\n",
       "      <th>1019</th>\n",
       "      <td>2379300340</td>\n",
       "      <td>20150331T000000</td>\n",
       "      <td>321500</td>\n",
       "      <td>4</td>\n",
       "      <td>2.50</td>\n",
       "      <td>1930</td>\n",
       "      <td>6228</td>\n",
       "      <td>2.0</td>\n",
       "      <td>0</td>\n",
       "      <td>0</td>\n",
       "      <td>...</td>\n",
       "      <td>0</td>\n",
       "      <td>2000</td>\n",
       "      <td>0</td>\n",
       "      <td>98030</td>\n",
       "      <td>47.3572</td>\n",
       "      <td>-122.191</td>\n",
       "      <td>1930</td>\n",
       "      <td>6168</td>\n",
       "      <td>345072.360189</td>\n",
       "      <td>431769.585349</td>\n",
       "    </tr>\n",
       "    <tr>\n",
       "      <th>1870</th>\n",
       "      <td>7942601805</td>\n",
       "      <td>20140911T000000</td>\n",
       "      <td>618000</td>\n",
       "      <td>3</td>\n",
       "      <td>2.50</td>\n",
       "      <td>2340</td>\n",
       "      <td>3630</td>\n",
       "      <td>2.0</td>\n",
       "      <td>0</td>\n",
       "      <td>0</td>\n",
       "      <td>...</td>\n",
       "      <td>0</td>\n",
       "      <td>1998</td>\n",
       "      <td>0</td>\n",
       "      <td>98122</td>\n",
       "      <td>47.6059</td>\n",
       "      <td>-122.307</td>\n",
       "      <td>1820</td>\n",
       "      <td>5120</td>\n",
       "      <td>675777.446576</td>\n",
       "      <td>678552.813578</td>\n",
       "    </tr>\n",
       "    <tr>\n",
       "      <th>4142</th>\n",
       "      <td>8731901810</td>\n",
       "      <td>20150309T000000</td>\n",
       "      <td>260000</td>\n",
       "      <td>4</td>\n",
       "      <td>1.75</td>\n",
       "      <td>1960</td>\n",
       "      <td>8400</td>\n",
       "      <td>1.0</td>\n",
       "      <td>0</td>\n",
       "      <td>0</td>\n",
       "      <td>...</td>\n",
       "      <td>0</td>\n",
       "      <td>1967</td>\n",
       "      <td>0</td>\n",
       "      <td>98023</td>\n",
       "      <td>47.3111</td>\n",
       "      <td>-122.379</td>\n",
       "      <td>2080</td>\n",
       "      <td>8400</td>\n",
       "      <td>449805.420036</td>\n",
       "      <td>433232.293969</td>\n",
       "    </tr>\n",
       "    <tr>\n",
       "      <th>19198</th>\n",
       "      <td>5016001619</td>\n",
       "      <td>20150122T000000</td>\n",
       "      <td>699999</td>\n",
       "      <td>3</td>\n",
       "      <td>0.75</td>\n",
       "      <td>1240</td>\n",
       "      <td>4000</td>\n",
       "      <td>1.0</td>\n",
       "      <td>0</td>\n",
       "      <td>0</td>\n",
       "      <td>...</td>\n",
       "      <td>0</td>\n",
       "      <td>1968</td>\n",
       "      <td>0</td>\n",
       "      <td>98112</td>\n",
       "      <td>47.6239</td>\n",
       "      <td>-122.297</td>\n",
       "      <td>1460</td>\n",
       "      <td>4000</td>\n",
       "      <td>317720.923775</td>\n",
       "      <td>302727.767749</td>\n",
       "    </tr>\n",
       "  </tbody>\n",
       "</table>\n",
       "<p>5 rows × 23 columns</p>\n",
       "</div>"
      ],
      "text/plain": [
       "               id             date    price  bedrooms  bathrooms  sqft_living  \\\n",
       "10081  3592500340  20150313T000000  1100000         5       2.75         2520   \n",
       "1019   2379300340  20150331T000000   321500         4       2.50         1930   \n",
       "1870   7942601805  20140911T000000   618000         3       2.50         2340   \n",
       "4142   8731901810  20150309T000000   260000         4       1.75         1960   \n",
       "19198  5016001619  20150122T000000   699999         3       0.75         1240   \n",
       "\n",
       "       sqft_lot  floors  waterfront  view  ...  sqft_basement  yr_built  \\\n",
       "10081      4643     1.5           0     0  ...            400      1916   \n",
       "1019       6228     2.0           0     0  ...              0      2000   \n",
       "1870       3630     2.0           0     0  ...              0      1998   \n",
       "4142       8400     1.0           0     0  ...              0      1967   \n",
       "19198      4000     1.0           0     0  ...              0      1968   \n",
       "\n",
       "       yr_renovated  zipcode      lat     long  sqft_living15  sqft_lot15  \\\n",
       "10081             0    98112  47.6348 -122.301           2100        4564   \n",
       "1019              0    98030  47.3572 -122.191           1930        6168   \n",
       "1870              0    98122  47.6059 -122.307           1820        5120   \n",
       "4142              0    98023  47.3111 -122.379           2080        8400   \n",
       "19198             0    98112  47.6239 -122.297           1460        4000   \n",
       "\n",
       "                 adv          basic  \n",
       "10081  810274.718544  619013.525975  \n",
       "1019   345072.360189  431769.585349  \n",
       "1870   675777.446576  678552.813578  \n",
       "4142   449805.420036  433232.293969  \n",
       "19198  317720.923775  302727.767749  \n",
       "\n",
       "[5 rows x 23 columns]"
      ]
     },
     "execution_count": 18,
     "metadata": {},
     "output_type": "execute_result"
    }
   ],
   "source": [
    "#now do the advanced model on your own \n",
    "\n",
    "advanced_model_Y_train = advanced_model.predict(train_data[advanced_features])\n",
    "\n",
    "advanced_model_Y_train\n",
    "\n",
    "train_data['adv']= advanced_model_Y_train\n",
    "\n",
    "print(train_data.shape)\n",
    "train_data.head()"
   ]
  },
  {
   "cell_type": "code",
   "execution_count": 81,
   "metadata": {
    "id": "SPnQ_chKQNcx"
   },
   "outputs": [
    {
     "data": {
      "text/plain": [
       "256830.62590387545"
      ]
     },
     "execution_count": 81,
     "metadata": {},
     "output_type": "execute_result"
    }
   ],
   "source": [
    "from sklearn.metrics import mean_squared_error\n",
    "\n",
    "#lets look at the RMSE for the basic model for the TRAINING errors\n",
    "\n",
    "train_rmse_basic = mean_squared_error(train_data['price'], train_data['basic'], squared=False)\n",
    "train_rmse_basic\n"
   ]
  },
  {
   "cell_type": "code",
   "execution_count": 84,
   "metadata": {},
   "outputs": [
    {
     "data": {
      "text/plain": [
       "203684.37222107282"
      ]
     },
     "execution_count": 84,
     "metadata": {},
     "output_type": "execute_result"
    }
   ],
   "source": [
    "#and now the advanced model for the TRAINING errors\n",
    "\n",
    "train_rmse_advanced = mean_squared_error(train_data['price'], train_data['adv'], squared=False)\n",
    "train_rmse_advanced"
   ]
  },
  {
   "cell_type": "markdown",
   "metadata": {
    "id": "lw4PbVEwQNcy"
   },
   "source": [
    "---\n",
    "## Q6) What are your RMSE errors on your test data using the basic model and then the advanced model?\n",
    "\n",
    "Similar to the last problem, but compute the test RMSE. Store your results in `test_rmse_basic` and `test_rmse_advanced`."
   ]
  },
  {
   "cell_type": "code",
   "execution_count": 92,
   "metadata": {},
   "outputs": [
    {
     "name": "stdout",
     "output_type": "stream",
     "text": [
      "(4323, 23)\n"
     ]
    },
    {
     "data": {
      "text/html": [
       "<div>\n",
       "<style scoped>\n",
       "    .dataframe tbody tr th:only-of-type {\n",
       "        vertical-align: middle;\n",
       "    }\n",
       "\n",
       "    .dataframe tbody tr th {\n",
       "        vertical-align: top;\n",
       "    }\n",
       "\n",
       "    .dataframe thead th {\n",
       "        text-align: right;\n",
       "    }\n",
       "</style>\n",
       "<table border=\"1\" class=\"dataframe\">\n",
       "  <thead>\n",
       "    <tr style=\"text-align: right;\">\n",
       "      <th></th>\n",
       "      <th>id</th>\n",
       "      <th>date</th>\n",
       "      <th>price</th>\n",
       "      <th>bedrooms</th>\n",
       "      <th>bathrooms</th>\n",
       "      <th>sqft_living</th>\n",
       "      <th>sqft_lot</th>\n",
       "      <th>floors</th>\n",
       "      <th>waterfront</th>\n",
       "      <th>view</th>\n",
       "      <th>...</th>\n",
       "      <th>sqft_basement</th>\n",
       "      <th>yr_built</th>\n",
       "      <th>yr_renovated</th>\n",
       "      <th>zipcode</th>\n",
       "      <th>lat</th>\n",
       "      <th>long</th>\n",
       "      <th>sqft_living15</th>\n",
       "      <th>sqft_lot15</th>\n",
       "      <th>adv</th>\n",
       "      <th>basic</th>\n",
       "    </tr>\n",
       "  </thead>\n",
       "  <tbody>\n",
       "    <tr>\n",
       "      <th>5146</th>\n",
       "      <td>2780700050</td>\n",
       "      <td>20141106T000000</td>\n",
       "      <td>432000</td>\n",
       "      <td>3</td>\n",
       "      <td>2.5</td>\n",
       "      <td>1920</td>\n",
       "      <td>9812</td>\n",
       "      <td>2.0</td>\n",
       "      <td>0</td>\n",
       "      <td>0</td>\n",
       "      <td>...</td>\n",
       "      <td>0</td>\n",
       "      <td>2000</td>\n",
       "      <td>0</td>\n",
       "      <td>98028</td>\n",
       "      <td>47.7633</td>\n",
       "      <td>-122.243</td>\n",
       "      <td>1830</td>\n",
       "      <td>10534</td>\n",
       "      <td>634874.999213</td>\n",
       "      <td>486455.306499</td>\n",
       "    </tr>\n",
       "    <tr>\n",
       "      <th>20917</th>\n",
       "      <td>6762700452</td>\n",
       "      <td>20140613T000000</td>\n",
       "      <td>575000</td>\n",
       "      <td>3</td>\n",
       "      <td>3.0</td>\n",
       "      <td>1384</td>\n",
       "      <td>1287</td>\n",
       "      <td>2.0</td>\n",
       "      <td>0</td>\n",
       "      <td>0</td>\n",
       "      <td>...</td>\n",
       "      <td>240</td>\n",
       "      <td>2006</td>\n",
       "      <td>0</td>\n",
       "      <td>98102</td>\n",
       "      <td>47.6295</td>\n",
       "      <td>-122.320</td>\n",
       "      <td>1570</td>\n",
       "      <td>1288</td>\n",
       "      <td>421606.684173</td>\n",
       "      <td>365272.988447</td>\n",
       "    </tr>\n",
       "    <tr>\n",
       "      <th>15792</th>\n",
       "      <td>4027700795</td>\n",
       "      <td>20150318T000000</td>\n",
       "      <td>268300</td>\n",
       "      <td>3</td>\n",
       "      <td>1.0</td>\n",
       "      <td>1190</td>\n",
       "      <td>9000</td>\n",
       "      <td>1.0</td>\n",
       "      <td>0</td>\n",
       "      <td>0</td>\n",
       "      <td>...</td>\n",
       "      <td>0</td>\n",
       "      <td>1968</td>\n",
       "      <td>0</td>\n",
       "      <td>98028</td>\n",
       "      <td>47.7700</td>\n",
       "      <td>-122.264</td>\n",
       "      <td>1960</td>\n",
       "      <td>7200</td>\n",
       "      <td>432653.620766</td>\n",
       "      <td>240482.009429</td>\n",
       "    </tr>\n",
       "    <tr>\n",
       "      <th>3260</th>\n",
       "      <td>9842300485</td>\n",
       "      <td>20150311T000000</td>\n",
       "      <td>380000</td>\n",
       "      <td>2</td>\n",
       "      <td>1.0</td>\n",
       "      <td>1040</td>\n",
       "      <td>7372</td>\n",
       "      <td>1.0</td>\n",
       "      <td>0</td>\n",
       "      <td>0</td>\n",
       "      <td>...</td>\n",
       "      <td>200</td>\n",
       "      <td>1939</td>\n",
       "      <td>0</td>\n",
       "      <td>98126</td>\n",
       "      <td>47.5285</td>\n",
       "      <td>-122.378</td>\n",
       "      <td>1930</td>\n",
       "      <td>5150</td>\n",
       "      <td>383504.765990</td>\n",
       "      <td>308170.043932</td>\n",
       "    </tr>\n",
       "    <tr>\n",
       "      <th>15217</th>\n",
       "      <td>1023059108</td>\n",
       "      <td>20150430T000000</td>\n",
       "      <td>390000</td>\n",
       "      <td>2</td>\n",
       "      <td>1.0</td>\n",
       "      <td>670</td>\n",
       "      <td>11505</td>\n",
       "      <td>1.0</td>\n",
       "      <td>0</td>\n",
       "      <td>0</td>\n",
       "      <td>...</td>\n",
       "      <td>0</td>\n",
       "      <td>2003</td>\n",
       "      <td>0</td>\n",
       "      <td>98059</td>\n",
       "      <td>47.4990</td>\n",
       "      <td>-122.157</td>\n",
       "      <td>2180</td>\n",
       "      <td>11505</td>\n",
       "      <td>-110041.777746</td>\n",
       "      <td>149710.559114</td>\n",
       "    </tr>\n",
       "  </tbody>\n",
       "</table>\n",
       "<p>5 rows × 23 columns</p>\n",
       "</div>"
      ],
      "text/plain": [
       "               id             date   price  bedrooms  bathrooms  sqft_living  \\\n",
       "5146   2780700050  20141106T000000  432000         3        2.5         1920   \n",
       "20917  6762700452  20140613T000000  575000         3        3.0         1384   \n",
       "15792  4027700795  20150318T000000  268300         3        1.0         1190   \n",
       "3260   9842300485  20150311T000000  380000         2        1.0         1040   \n",
       "15217  1023059108  20150430T000000  390000         2        1.0          670   \n",
       "\n",
       "       sqft_lot  floors  waterfront  view  ...  sqft_basement  yr_built  \\\n",
       "5146       9812     2.0           0     0  ...              0      2000   \n",
       "20917      1287     2.0           0     0  ...            240      2006   \n",
       "15792      9000     1.0           0     0  ...              0      1968   \n",
       "3260       7372     1.0           0     0  ...            200      1939   \n",
       "15217     11505     1.0           0     0  ...              0      2003   \n",
       "\n",
       "       yr_renovated  zipcode      lat     long  sqft_living15  sqft_lot15  \\\n",
       "5146              0    98028  47.7633 -122.243           1830       10534   \n",
       "20917             0    98102  47.6295 -122.320           1570        1288   \n",
       "15792             0    98028  47.7700 -122.264           1960        7200   \n",
       "3260              0    98126  47.5285 -122.378           1930        5150   \n",
       "15217             0    98059  47.4990 -122.157           2180       11505   \n",
       "\n",
       "                 adv          basic  \n",
       "5146   634874.999213  486455.306499  \n",
       "20917  421606.684173  365272.988447  \n",
       "15792  432653.620766  240482.009429  \n",
       "3260   383504.765990  308170.043932  \n",
       "15217 -110041.777746  149710.559114  \n",
       "\n",
       "[5 rows x 23 columns]"
      ]
     },
     "execution_count": 92,
     "metadata": {},
     "output_type": "execute_result"
    }
   ],
   "source": [
    "advanced_model_Y_test = advanced_model.predict(test_data[advanced_features])\n",
    "\n",
    "advanced_model_Y_test\n",
    "\n",
    "basic_model_Y_test = basic_model.predict(test_data[basic_features])\n",
    "\n",
    "basic_model_Y_test\n",
    "\n",
    "test_data['adv']= advanced_model_Y_test\n",
    "test_data['basic']= basic_model_Y_test\n",
    "\n",
    "\n",
    "print(test_data.shape)\n",
    "\n",
    "test_data.head()\n"
   ]
  },
  {
   "cell_type": "code",
   "execution_count": 93,
   "metadata": {
    "id": "itZa5y8mQNcy"
   },
   "outputs": [
    {
     "data": {
      "text/plain": [
       "250891.0905675471"
      ]
     },
     "execution_count": 93,
     "metadata": {},
     "output_type": "execute_result"
    }
   ],
   "source": [
    "test_rmse_basic = mean_squared_error(test_data['price'], test_data['basic'], squared=False)\n",
    "test_rmse_basic\n"
   ]
  },
  {
   "cell_type": "code",
   "execution_count": 94,
   "metadata": {},
   "outputs": [
    {
     "data": {
      "text/plain": [
       "191028.34186715388"
      ]
     },
     "execution_count": 94,
     "metadata": {},
     "output_type": "execute_result"
    }
   ],
   "source": [
    "test_rmse_advanced = mean_squared_error(test_data['price'], test_data['adv'], squared=False)\n",
    "test_rmse_advanced"
   ]
  },
  {
   "cell_type": "markdown",
   "metadata": {
    "id": "EJZLNA-bQNcy"
   },
   "source": [
    "---\n",
    "## Q7) Which model would you choose and why?\n",
    "These questions do not need any code to answer them. Instead, save a variable with the specified name with a string of the specified option.\n",
    "\n",
    "\n",
    "### Q7.1) Which model would you choose?\n",
    "\n",
    "Ignore the fact that we do not have a validation set for this assignment (we will get to that in the next assignment). Which model do you think would perform better in the future?\n",
    "\n",
    "* a) Model with the basic features\n",
    "* b) Model with the advanced features\n",
    "\n",
    "Save your result in a variable named `q7_1`. For example, if your anwer is option a, write \n",
    "\n",
    "```\n",
    "q7_1 = 'a'\n",
    "```\n"
   ]
  },
  {
   "cell_type": "code",
   "execution_count": null,
   "metadata": {
    "id": "rZY_v-k2QNcy"
   },
   "outputs": [],
   "source": [
    "q7_1 = 'b'"
   ]
  },
  {
   "cell_type": "markdown",
   "metadata": {
    "id": "V6LF2r_pQNcy"
   },
   "source": [
    "### Q7.2) Why?\n",
    "\n",
    "Same as before, select on one option to describe why you would select the model in the previous question. Save your result as a string in a variable named `q7_2`.\n",
    "\n",
    "* a) It has higher training error\n",
    "* b) It uses more features\n",
    "* c) It has lower test error\n",
    "* d) It has lower training error\n",
    "* e) It has higher test error"
   ]
  },
  {
   "cell_type": "code",
   "execution_count": null,
   "metadata": {
    "id": "Ikg4KPHBQNcy"
   },
   "outputs": [],
   "source": [
    "q7_2 = 'c'"
   ]
  },
  {
   "cell_type": "markdown",
   "metadata": {
    "id": "uho__mb-QNcz"
   },
   "source": [
    "> Copyright ©2020 Emily Fox and Hunter Schafer.  All rights reserved.  Permission is hereby granted to students registered for University of Washington CSE/STAT 416 for use solely during Autumn Quarter 2021 for purposes of the course.  No other use, copying, distribution, or modification is permitted without prior written consent. Copyrights for third-party components of this work must be honored.  Instructors interested in reusing these course materials should contact the author."
   ]
  }
 ],
 "metadata": {
  "colab": {
   "collapsed_sections": [],
   "name": "HW1_House_Prices.ipynb",
   "provenance": []
  },
  "kernelspec": {
   "display_name": "Python 3 (ipykernel)",
   "language": "python",
   "name": "python3"
  },
  "language_info": {
   "codemirror_mode": {
    "name": "ipython",
    "version": 3
   },
   "file_extension": ".py",
   "mimetype": "text/x-python",
   "name": "python",
   "nbconvert_exporter": "python",
   "pygments_lexer": "ipython3",
   "version": "3.9.12"
  }
 },
 "nbformat": 4,
 "nbformat_minor": 4
}
