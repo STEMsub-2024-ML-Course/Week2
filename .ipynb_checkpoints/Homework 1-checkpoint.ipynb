{
 "cells": [
  {
   "cell_type": "markdown",
   "id": "93f0dc2a",
   "metadata": {},
   "source": [
    "<h1><center>UW STEMsub ML Homework 1 </center></h1>\n",
    "<center><b>Instructor:</b> Amanda Worthy</center>\n",
    "<center><b>Date:</b> July 8th, 2024</center>\n",
    "<center><b>Edited by Amanda Worthy from material by:</b> Anne Wagner and Ronak Mehta</center>\n"
   ]
  },
  {
   "cell_type": "markdown",
   "id": "473edfda",
   "metadata": {},
   "source": [
    "# Homework 1 will explore... \n",
    "\n",
    "    a. bigfoot sightings \n",
    "    b. building energy consumption data on the UW campus"
   ]
  },
  {
   "cell_type": "code",
   "execution_count": null,
   "id": "981d9e35",
   "metadata": {},
   "outputs": [],
   "source": [
    "# Conventionally people rename the pandas import to pd for brevity\n",
    "import pandas as pd"
   ]
  },
  {
   "cell_type": "markdown",
   "id": "cb4e4b3e",
   "metadata": {},
   "source": [
    "## Part 1: We will explore bigfoot sightings, plotting, correlation, and summary statistics ('BigFoot.csv')"
   ]
  },
  {
   "cell_type": "markdown",
   "id": "e18c33b0",
   "metadata": {},
   "source": [
    "### Exploring the data \n",
    "\n",
    "These question asks you to explore the dataset we will be using. Answer the following three sentences by writing code to compute the described values in the given variables names."
   ]
  },
  {
   "cell_type": "markdown",
   "id": "bb59b8fa",
   "metadata": {},
   "source": [
    "## Q 1.1) Exploring the data: Bigfoot Sightings questions \n",
    "\n",
    "1.1 How does the number of sightings vary by month or season?\n",
    "\n",
    "1.2 What time of day do most sightings occur?\n",
    "\n",
    "1.3 Where do most sightings occur?\n",
    "\n",
    "1.4 Does temperature seem to have any effect on sightings? If so, what is the correlation coefficient? \n"
   ]
  },
  {
   "cell_type": "code",
   "execution_count": null,
   "id": "e46a0d6a",
   "metadata": {},
   "outputs": [],
   "source": [
    "#1.1\n",
    "\n",
    "## TODO "
   ]
  },
  {
   "cell_type": "code",
   "execution_count": null,
   "id": "0a4e88bc",
   "metadata": {},
   "outputs": [],
   "source": [
    "#1.2\n",
    "\n",
    "## TODO "
   ]
  },
  {
   "cell_type": "code",
   "execution_count": 12,
   "id": "4b1cd626",
   "metadata": {},
   "outputs": [],
   "source": [
    "#1.3\n",
    "\n",
    "## TODO"
   ]
  },
  {
   "cell_type": "code",
   "execution_count": null,
   "id": "548c14cd",
   "metadata": {},
   "outputs": [],
   "source": [
    "##1.4 \n",
    "\n",
    "## TODO "
   ]
  },
  {
   "cell_type": "markdown",
   "id": "44a6bdde",
   "metadata": {},
   "source": [
    "## Part 2: We will explore regression using the energy consumption dataset ('UW_building_energy.csv')"
   ]
  },
  {
   "cell_type": "code",
   "execution_count": 13,
   "id": "cbd85b22",
   "metadata": {},
   "outputs": [
    {
     "data": {
      "text/html": [
       "<div>\n",
       "<style scoped>\n",
       "    .dataframe tbody tr th:only-of-type {\n",
       "        vertical-align: middle;\n",
       "    }\n",
       "\n",
       "    .dataframe tbody tr th {\n",
       "        vertical-align: top;\n",
       "    }\n",
       "\n",
       "    .dataframe thead th {\n",
       "        text-align: right;\n",
       "    }\n",
       "</style>\n",
       "<table border=\"1\" class=\"dataframe\">\n",
       "  <thead>\n",
       "    <tr style=\"text-align: right;\">\n",
       "      <th></th>\n",
       "      <th>Total__Annual_Energye_Use__kWh</th>\n",
       "      <th>Height</th>\n",
       "      <th>yearbuilt</th>\n",
       "      <th>XCoord</th>\n",
       "      <th>YCoord</th>\n",
       "      <th>facname</th>\n",
       "      <th>Area (m)</th>\n",
       "      <th>Occupants</th>\n",
       "      <th>apartments</th>\n",
       "      <th>parking</th>\n",
       "      <th>stadium</th>\n",
       "      <th>university</th>\n",
       "      <th>utility</th>\n",
       "      <th>warehouse</th>\n",
       "      <th>Length (m)</th>\n",
       "      <th>Orientation (degrees north)</th>\n",
       "      <th>Relative Compactness</th>\n",
       "      <th>Tree_Canopy</th>\n",
       "      <th>Land_Surface_Temp</th>\n",
       "    </tr>\n",
       "  </thead>\n",
       "  <tbody>\n",
       "    <tr>\n",
       "      <th>0</th>\n",
       "      <td>1.370845e+06</td>\n",
       "      <td>21.38</td>\n",
       "      <td>1966</td>\n",
       "      <td>-122.312915</td>\n",
       "      <td>47.649894</td>\n",
       "      <td>Marine Sciences</td>\n",
       "      <td>5534.231710</td>\n",
       "      <td>297.741666</td>\n",
       "      <td>0</td>\n",
       "      <td>0</td>\n",
       "      <td>0</td>\n",
       "      <td>1</td>\n",
       "      <td>0</td>\n",
       "      <td>0</td>\n",
       "      <td>146</td>\n",
       "      <td>47</td>\n",
       "      <td>0.03</td>\n",
       "      <td>0</td>\n",
       "      <td>25.048282</td>\n",
       "    </tr>\n",
       "    <tr>\n",
       "      <th>1</th>\n",
       "      <td>1.609484e+06</td>\n",
       "      <td>21.16</td>\n",
       "      <td>1969</td>\n",
       "      <td>-122.312300</td>\n",
       "      <td>47.650258</td>\n",
       "      <td>Ocean Teach Building</td>\n",
       "      <td>4789.335456</td>\n",
       "      <td>257.666247</td>\n",
       "      <td>0</td>\n",
       "      <td>0</td>\n",
       "      <td>0</td>\n",
       "      <td>1</td>\n",
       "      <td>0</td>\n",
       "      <td>0</td>\n",
       "      <td>163</td>\n",
       "      <td>143</td>\n",
       "      <td>0.03</td>\n",
       "      <td>21</td>\n",
       "      <td>26.473881</td>\n",
       "    </tr>\n",
       "    <tr>\n",
       "      <th>2</th>\n",
       "      <td>2.460280e+06</td>\n",
       "      <td>24.35</td>\n",
       "      <td>1999</td>\n",
       "      <td>-122.316275</td>\n",
       "      <td>47.653158</td>\n",
       "      <td>Fishery Sciences</td>\n",
       "      <td>12105.911220</td>\n",
       "      <td>651.298024</td>\n",
       "      <td>0</td>\n",
       "      <td>0</td>\n",
       "      <td>0</td>\n",
       "      <td>1</td>\n",
       "      <td>0</td>\n",
       "      <td>0</td>\n",
       "      <td>329</td>\n",
       "      <td>89</td>\n",
       "      <td>0.03</td>\n",
       "      <td>0</td>\n",
       "      <td>27.987935</td>\n",
       "    </tr>\n",
       "    <tr>\n",
       "      <th>3</th>\n",
       "      <td>2.257484e+05</td>\n",
       "      <td>11.72</td>\n",
       "      <td>1976</td>\n",
       "      <td>-122.314870</td>\n",
       "      <td>47.653039</td>\n",
       "      <td>John M Wallace Hall</td>\n",
       "      <td>2830.568604</td>\n",
       "      <td>152.284591</td>\n",
       "      <td>0</td>\n",
       "      <td>0</td>\n",
       "      <td>0</td>\n",
       "      <td>1</td>\n",
       "      <td>0</td>\n",
       "      <td>0</td>\n",
       "      <td>164</td>\n",
       "      <td>179</td>\n",
       "      <td>0.06</td>\n",
       "      <td>0</td>\n",
       "      <td>26.457905</td>\n",
       "    </tr>\n",
       "    <tr>\n",
       "      <th>4</th>\n",
       "      <td>3.879320e+06</td>\n",
       "      <td>28.76</td>\n",
       "      <td>1999</td>\n",
       "      <td>-122.312677</td>\n",
       "      <td>47.651256</td>\n",
       "      <td>Ocean Sciences Building</td>\n",
       "      <td>10337.874230</td>\n",
       "      <td>556.177634</td>\n",
       "      <td>0</td>\n",
       "      <td>0</td>\n",
       "      <td>0</td>\n",
       "      <td>1</td>\n",
       "      <td>0</td>\n",
       "      <td>0</td>\n",
       "      <td>252</td>\n",
       "      <td>54</td>\n",
       "      <td>0.02</td>\n",
       "      <td>0</td>\n",
       "      <td>26.452933</td>\n",
       "    </tr>\n",
       "  </tbody>\n",
       "</table>\n",
       "</div>"
      ],
      "text/plain": [
       "   Total__Annual_Energye_Use__kWh  Height  yearbuilt      XCoord     YCoord  \\\n",
       "0                    1.370845e+06   21.38       1966 -122.312915  47.649894   \n",
       "1                    1.609484e+06   21.16       1969 -122.312300  47.650258   \n",
       "2                    2.460280e+06   24.35       1999 -122.316275  47.653158   \n",
       "3                    2.257484e+05   11.72       1976 -122.314870  47.653039   \n",
       "4                    3.879320e+06   28.76       1999 -122.312677  47.651256   \n",
       "\n",
       "                   facname     Area (m)    Occupants  apartments  parking  \\\n",
       "0          Marine Sciences   5534.231710  297.741666           0        0   \n",
       "1     Ocean Teach Building   4789.335456  257.666247           0        0   \n",
       "2         Fishery Sciences  12105.911220  651.298024           0        0   \n",
       "3      John M Wallace Hall   2830.568604  152.284591           0        0   \n",
       "4  Ocean Sciences Building  10337.874230  556.177634           0        0   \n",
       "\n",
       "   stadium  university  utility  warehouse  Length (m)   \\\n",
       "0        0           1        0          0          146   \n",
       "1        0           1        0          0          163   \n",
       "2        0           1        0          0          329   \n",
       "3        0           1        0          0          164   \n",
       "4        0           1        0          0          252   \n",
       "\n",
       "   Orientation (degrees north)   Relative Compactness  Tree_Canopy  \\\n",
       "0                            47                  0.03            0   \n",
       "1                           143                  0.03           21   \n",
       "2                            89                  0.03            0   \n",
       "3                           179                  0.06            0   \n",
       "4                            54                  0.02            0   \n",
       "\n",
       "   Land_Surface_Temp  \n",
       "0          25.048282  \n",
       "1          26.473881  \n",
       "2          27.987935  \n",
       "3          26.457905  \n",
       "4          26.452933  "
      ]
     },
     "execution_count": 13,
     "metadata": {},
     "output_type": "execute_result"
    }
   ],
   "source": [
    "# Load in the data and preview it\n",
    "\n",
    "#use pd.read_csv('') and .head on the imported dataset \n",
    "\n",
    "df= pd.read_csv('UW_building_energy.csv')  \n",
    "\n",
    "df.head()"
   ]
  },
  {
   "cell_type": "markdown",
   "id": "a520ac53",
   "metadata": {},
   "source": [
    "---\n",
    "### Exploring the data \n",
    "\n",
    "These question asks you to explore the dataset we will be using. Answer the following three sentences by writing code to compute the described values in the given variables names.\n",
    "\n",
    "## Q 2.1) Exploring the data\n",
    "\n",
    "1. Lets start by looking at the dataframe column names.\n",
    "2. How many buildings do we have in our data set? This should correspond to the number of rows in the dataset. Save the number of rows in a variable called `num_rows`.\n",
    "3. Which column are we trying to predict given the other features (i.e. what's our output `y`)? Save the column values in a variable called `y`. Hint: its the first column name. \n",
    "4. How many inputs do we have in total in the data set (i.e. what is the size of our input `x`)? Save the number of inputs in a variable called `num_inputs`. Lets use the `shape` built in function. "
   ]
  },
  {
   "cell_type": "code",
   "execution_count": 14,
   "id": "d311d7c9",
   "metadata": {},
   "outputs": [],
   "source": [
    "# 2.1.1\n",
    "\n",
    "###TODO"
   ]
  },
  {
   "cell_type": "code",
   "execution_count": 15,
   "id": "d8e7734c",
   "metadata": {},
   "outputs": [],
   "source": [
    "#2.1.2 \n",
    "\n",
    "###TODO"
   ]
  },
  {
   "cell_type": "code",
   "execution_count": 16,
   "id": "f36ee273",
   "metadata": {},
   "outputs": [],
   "source": [
    "#2.1.3 \n",
    "\n",
    "####TODO "
   ]
  },
  {
   "cell_type": "markdown",
   "id": "2f303a33",
   "metadata": {},
   "source": [
    "## Q 2.2) What is the average height of buildings built after 2000?\n",
    "\n",
    "Compute the average height of buildings built after 2000. Save the result in `avg_height_new_build`."
   ]
  },
  {
   "cell_type": "code",
   "execution_count": 17,
   "id": "f31ebe94",
   "metadata": {},
   "outputs": [],
   "source": [
    "#2.2\n",
    "\n",
    "###TODO"
   ]
  },
  {
   "cell_type": "markdown",
   "id": "7d415fc8",
   "metadata": {},
   "source": [
    "## Q 2.3) What is the average height of buildings built before 2000?\n",
    "\n",
    "Compute the average height of buildings built before 2000. Save the result in `avg_height_old_build`."
   ]
  },
  {
   "cell_type": "code",
   "execution_count": 18,
   "id": "92d26e8c",
   "metadata": {},
   "outputs": [],
   "source": [
    "#2.3 \n",
    "\n",
    "###TODO"
   ]
  },
  {
   "cell_type": "markdown",
   "id": "4b254e6e",
   "metadata": {},
   "source": [
    "---\n",
    "# Training Linear Regression Models\n",
    "\n",
    "## Q 2.4) Training a Linear Regression Model.\n",
    "\n",
    "We will now train a linear regression model to make useful predictions. Work through the steps below and then answer the following questions. Even though a lot of the code is pre-written, you should understand what it is doing! You may be asked to write some of this code on future assignments.\n",
    "\n",
    "First we split the data into a training set and a test set.\n"
   ]
  },
  {
   "cell_type": "code",
   "execution_count": 20,
   "id": "8001fc7a",
   "metadata": {},
   "outputs": [],
   "source": [
    "from sklearn.model_selection import train_test_split\n",
    "\n",
    "# Split data into 80% train and 20% test\n",
    "\n",
    "\n",
    "#train_data, test_data = train_test_split(---replace_data_frame_here--- , test_size=0.2)\n"
   ]
  },
  {
   "cell_type": "markdown",
   "id": "f3d243c2",
   "metadata": {},
   "source": [
    "For this problem, we will look at using two sets of features derived from the data inputs. The basic set of features only contains a few data inputs while the advanced features contain them and more."
   ]
  },
  {
   "cell_type": "markdown",
   "id": "980d7a5a",
   "metadata": {},
   "source": [
    "## "
   ]
  },
  {
   "cell_type": "code",
   "execution_count": null,
   "id": "e60096bc",
   "metadata": {},
   "outputs": [],
   "source": []
  },
  {
   "cell_type": "code",
   "execution_count": null,
   "id": "55d4cc98",
   "metadata": {},
   "outputs": [],
   "source": []
  }
 ],
 "metadata": {
  "kernelspec": {
   "display_name": "Python 3 (ipykernel)",
   "language": "python",
   "name": "python3"
  },
  "language_info": {
   "codemirror_mode": {
    "name": "ipython",
    "version": 3
   },
   "file_extension": ".py",
   "mimetype": "text/x-python",
   "name": "python",
   "nbconvert_exporter": "python",
   "pygments_lexer": "ipython3",
   "version": "3.9.12"
  }
 },
 "nbformat": 4,
 "nbformat_minor": 5
}
