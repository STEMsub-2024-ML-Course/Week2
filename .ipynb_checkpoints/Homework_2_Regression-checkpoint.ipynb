{
 "cells": [
  {
   "cell_type": "markdown",
   "id": "856a95d2",
   "metadata": {},
   "source": [
    "<h1><center>UW STEMsub ML Homework 2</center></h1>\n",
    "<center><b>Instructor:</b> Amanda Worthy</center>\n",
    "<center><b>Student:</b> INSERT NAME HERE</center>\n",
    "<center><b>Date:</b> July 16th, 2024</center>\n"
   ]
  },
  {
   "cell_type": "markdown",
   "id": "3e24cef0",
   "metadata": {},
   "source": [
    "## Homework 2: Regression\n",
    "\n"
   ]
  },
  {
   "cell_type": "code",
   "execution_count": 54,
   "id": "8f45cc4a",
   "metadata": {},
   "outputs": [],
   "source": [
    "# Import Packages \n",
    "import pandas as pd\n",
    "import seaborn as sn\n",
    "import plotly.express as px\n",
    "import numpy as np\n",
    "import matplotlib.pyplot as plt\n",
    "import fiona\n",
    "import pyproj\n",
    "import os\n",
    "import requests\n",
    "import matplotlib.ticker as ticker\n",
    "import glob\n",
    "import openpyxl\n",
    "import gdown"
   ]
  },
  {
   "cell_type": "markdown",
   "id": "332f6e40",
   "metadata": {},
   "source": [
    "## We will explore regression using the energy consumption dataset ('UW_building_energy.csv')"
   ]
  },
  {
   "cell_type": "code",
   "execution_count": 56,
   "id": "62d6b505",
   "metadata": {},
   "outputs": [
    {
     "name": "stdout",
     "output_type": "stream",
     "text": [
      "/Users/amandaworthy/opt/anaconda3/envs/uwgda2022/lib/python3.9/site-packages/gdown/__main__.py:140: FutureWarning: Option `--id` was deprecated in version 4.3.1 and will be removed in 5.0. You don't need to pass it anymore to use a file ID.\n",
      "  warnings.warn(\n",
      "Downloading...\n",
      "From: https://drive.google.com/uc?id=1BO-YCiSkgy_fJlqgK5kZdFdNzSKLJ_St\n",
      "To: /Users/amandaworthy/2024_STEMsub/Week2/UW_building_energy.csv\n",
      "100%|██████████████████████████████████████| 15.5k/15.5k [00:00<00:00, 9.95MB/s]\n"
     ]
    }
   ],
   "source": [
    "## NOTE: MAKE SURE YOU RUN THIS CELL\n",
    "\n",
    "# Lets import the data from my google drive\n",
    "# I am using this for sharing purposes, we can also import datasets on our own\n",
    "\n",
    "#https://drive.google.com/file/d/1BO-YCiSkgy_fJlqgK5kZdFdNzSKLJ_St/view?usp=sharing\n",
    "\n",
    "!gdown --id 1BO-YCiSkgy_fJlqgK5kZdFdNzSKLJ_St #this is a bash command, you are welcome to read more about them!\n"
   ]
  },
  {
   "cell_type": "code",
   "execution_count": 57,
   "id": "97e215dd",
   "metadata": {},
   "outputs": [
    {
     "name": "stdout",
     "output_type": "stream",
     "text": [
      "BigFoot.csv                           README.md\r\n",
      "Credit.csv                            Regression_house_prices.ipynb\r\n",
      "Exploratory_Analysis_In_Pandas.ipynb  Regression_house_prices_ANSWERS.ipynb\r\n",
      "Homework 1.ipynb                      UW_building_energy.csv\r\n",
      "Homework_2_Regression.ipynb           home_data.csv\r\n"
     ]
    }
   ],
   "source": [
    "! ls\n",
    "\n",
    "\n",
    "# IF IT WORKED 'UW_building_energy.csv' will show up "
   ]
  },
  {
   "cell_type": "code",
   "execution_count": 58,
   "id": "148d9b84",
   "metadata": {},
   "outputs": [
    {
     "data": {
      "text/html": [
       "<div>\n",
       "<style scoped>\n",
       "    .dataframe tbody tr th:only-of-type {\n",
       "        vertical-align: middle;\n",
       "    }\n",
       "\n",
       "    .dataframe tbody tr th {\n",
       "        vertical-align: top;\n",
       "    }\n",
       "\n",
       "    .dataframe thead th {\n",
       "        text-align: right;\n",
       "    }\n",
       "</style>\n",
       "<table border=\"1\" class=\"dataframe\">\n",
       "  <thead>\n",
       "    <tr style=\"text-align: right;\">\n",
       "      <th></th>\n",
       "      <th>Energy_Use_kWh</th>\n",
       "      <th>Height</th>\n",
       "      <th>Year_Built</th>\n",
       "      <th>Longitude</th>\n",
       "      <th>Latitude</th>\n",
       "      <th>Name</th>\n",
       "      <th>Area_m</th>\n",
       "      <th>Occupants</th>\n",
       "      <th>apartments</th>\n",
       "      <th>parking</th>\n",
       "      <th>stadium</th>\n",
       "      <th>university</th>\n",
       "      <th>utility</th>\n",
       "      <th>warehouse</th>\n",
       "      <th>Building_Length_m</th>\n",
       "      <th>Orientation (degrees north)</th>\n",
       "      <th>Relative Compactness</th>\n",
       "      <th>Tree_Canopy</th>\n",
       "      <th>Land_Surface_Temp</th>\n",
       "    </tr>\n",
       "  </thead>\n",
       "  <tbody>\n",
       "    <tr>\n",
       "      <th>0</th>\n",
       "      <td>1.370845e+06</td>\n",
       "      <td>21.38</td>\n",
       "      <td>1966</td>\n",
       "      <td>-122.312915</td>\n",
       "      <td>47.649894</td>\n",
       "      <td>Marine Sciences</td>\n",
       "      <td>5534.231710</td>\n",
       "      <td>297.741666</td>\n",
       "      <td>0</td>\n",
       "      <td>0</td>\n",
       "      <td>0</td>\n",
       "      <td>1</td>\n",
       "      <td>0</td>\n",
       "      <td>0</td>\n",
       "      <td>146</td>\n",
       "      <td>47</td>\n",
       "      <td>0.03</td>\n",
       "      <td>0</td>\n",
       "      <td>25.048282</td>\n",
       "    </tr>\n",
       "    <tr>\n",
       "      <th>1</th>\n",
       "      <td>1.609484e+06</td>\n",
       "      <td>21.16</td>\n",
       "      <td>1969</td>\n",
       "      <td>-122.312300</td>\n",
       "      <td>47.650258</td>\n",
       "      <td>Ocean Teach Building</td>\n",
       "      <td>4789.335456</td>\n",
       "      <td>257.666247</td>\n",
       "      <td>0</td>\n",
       "      <td>0</td>\n",
       "      <td>0</td>\n",
       "      <td>1</td>\n",
       "      <td>0</td>\n",
       "      <td>0</td>\n",
       "      <td>163</td>\n",
       "      <td>143</td>\n",
       "      <td>0.03</td>\n",
       "      <td>21</td>\n",
       "      <td>26.473881</td>\n",
       "    </tr>\n",
       "    <tr>\n",
       "      <th>2</th>\n",
       "      <td>2.460280e+06</td>\n",
       "      <td>24.35</td>\n",
       "      <td>1999</td>\n",
       "      <td>-122.316275</td>\n",
       "      <td>47.653158</td>\n",
       "      <td>Fishery Sciences</td>\n",
       "      <td>12105.911220</td>\n",
       "      <td>651.298024</td>\n",
       "      <td>0</td>\n",
       "      <td>0</td>\n",
       "      <td>0</td>\n",
       "      <td>1</td>\n",
       "      <td>0</td>\n",
       "      <td>0</td>\n",
       "      <td>329</td>\n",
       "      <td>89</td>\n",
       "      <td>0.03</td>\n",
       "      <td>0</td>\n",
       "      <td>27.987935</td>\n",
       "    </tr>\n",
       "    <tr>\n",
       "      <th>3</th>\n",
       "      <td>2.257484e+05</td>\n",
       "      <td>11.72</td>\n",
       "      <td>1976</td>\n",
       "      <td>-122.314870</td>\n",
       "      <td>47.653039</td>\n",
       "      <td>John M Wallace Hall</td>\n",
       "      <td>2830.568604</td>\n",
       "      <td>152.284591</td>\n",
       "      <td>0</td>\n",
       "      <td>0</td>\n",
       "      <td>0</td>\n",
       "      <td>1</td>\n",
       "      <td>0</td>\n",
       "      <td>0</td>\n",
       "      <td>164</td>\n",
       "      <td>179</td>\n",
       "      <td>0.06</td>\n",
       "      <td>0</td>\n",
       "      <td>26.457905</td>\n",
       "    </tr>\n",
       "    <tr>\n",
       "      <th>4</th>\n",
       "      <td>3.879320e+06</td>\n",
       "      <td>28.76</td>\n",
       "      <td>1999</td>\n",
       "      <td>-122.312677</td>\n",
       "      <td>47.651256</td>\n",
       "      <td>Ocean Sciences Building</td>\n",
       "      <td>10337.874230</td>\n",
       "      <td>556.177634</td>\n",
       "      <td>0</td>\n",
       "      <td>0</td>\n",
       "      <td>0</td>\n",
       "      <td>1</td>\n",
       "      <td>0</td>\n",
       "      <td>0</td>\n",
       "      <td>252</td>\n",
       "      <td>54</td>\n",
       "      <td>0.02</td>\n",
       "      <td>0</td>\n",
       "      <td>26.452933</td>\n",
       "    </tr>\n",
       "    <tr>\n",
       "      <th>...</th>\n",
       "      <td>...</td>\n",
       "      <td>...</td>\n",
       "      <td>...</td>\n",
       "      <td>...</td>\n",
       "      <td>...</td>\n",
       "      <td>...</td>\n",
       "      <td>...</td>\n",
       "      <td>...</td>\n",
       "      <td>...</td>\n",
       "      <td>...</td>\n",
       "      <td>...</td>\n",
       "      <td>...</td>\n",
       "      <td>...</td>\n",
       "      <td>...</td>\n",
       "      <td>...</td>\n",
       "      <td>...</td>\n",
       "      <td>...</td>\n",
       "      <td>...</td>\n",
       "      <td>...</td>\n",
       "    </tr>\n",
       "    <tr>\n",
       "      <th>116</th>\n",
       "      <td>1.530269e+04</td>\n",
       "      <td>32.71</td>\n",
       "      <td>1909</td>\n",
       "      <td>-122.303675</td>\n",
       "      <td>47.653711</td>\n",
       "      <td>Power Plant</td>\n",
       "      <td>16236.378600</td>\n",
       "      <td>873.517169</td>\n",
       "      <td>0</td>\n",
       "      <td>0</td>\n",
       "      <td>0</td>\n",
       "      <td>1</td>\n",
       "      <td>0</td>\n",
       "      <td>0</td>\n",
       "      <td>529</td>\n",
       "      <td>179</td>\n",
       "      <td>0.03</td>\n",
       "      <td>0</td>\n",
       "      <td>28.012560</td>\n",
       "    </tr>\n",
       "    <tr>\n",
       "      <th>117</th>\n",
       "      <td>0.000000e+00</td>\n",
       "      <td>19.04</td>\n",
       "      <td>1895</td>\n",
       "      <td>-122.309281</td>\n",
       "      <td>47.660345</td>\n",
       "      <td>Jacobsen Observatory</td>\n",
       "      <td>199.462741</td>\n",
       "      <td>10.731095</td>\n",
       "      <td>0</td>\n",
       "      <td>0</td>\n",
       "      <td>0</td>\n",
       "      <td>1</td>\n",
       "      <td>0</td>\n",
       "      <td>0</td>\n",
       "      <td>56</td>\n",
       "      <td>180</td>\n",
       "      <td>0.28</td>\n",
       "      <td>34</td>\n",
       "      <td>24.177153</td>\n",
       "    </tr>\n",
       "    <tr>\n",
       "      <th>118</th>\n",
       "      <td>0.000000e+00</td>\n",
       "      <td>20.71</td>\n",
       "      <td>1940</td>\n",
       "      <td>-122.308112</td>\n",
       "      <td>47.660715</td>\n",
       "      <td>Hughes Penthouse</td>\n",
       "      <td>1426.432662</td>\n",
       "      <td>76.742077</td>\n",
       "      <td>0</td>\n",
       "      <td>0</td>\n",
       "      <td>0</td>\n",
       "      <td>1</td>\n",
       "      <td>0</td>\n",
       "      <td>0</td>\n",
       "      <td>114</td>\n",
       "      <td>27</td>\n",
       "      <td>0.08</td>\n",
       "      <td>14</td>\n",
       "      <td>25.199452</td>\n",
       "    </tr>\n",
       "    <tr>\n",
       "      <th>119</th>\n",
       "      <td>0.000000e+00</td>\n",
       "      <td>47.21</td>\n",
       "      <td>1963</td>\n",
       "      <td>-122.302941</td>\n",
       "      <td>47.660131</td>\n",
       "      <td>NPL Van De Graaff</td>\n",
       "      <td>3451.160644</td>\n",
       "      <td>185.672443</td>\n",
       "      <td>0</td>\n",
       "      <td>0</td>\n",
       "      <td>0</td>\n",
       "      <td>1</td>\n",
       "      <td>0</td>\n",
       "      <td>0</td>\n",
       "      <td>333</td>\n",
       "      <td>32</td>\n",
       "      <td>0.10</td>\n",
       "      <td>16</td>\n",
       "      <td>25.007835</td>\n",
       "    </tr>\n",
       "    <tr>\n",
       "      <th>120</th>\n",
       "      <td>1.414895e+05</td>\n",
       "      <td>24.88</td>\n",
       "      <td>1969</td>\n",
       "      <td>-122.304502</td>\n",
       "      <td>47.654633</td>\n",
       "      <td>Engineering Library</td>\n",
       "      <td>3767.123747</td>\n",
       "      <td>202.671258</td>\n",
       "      <td>0</td>\n",
       "      <td>0</td>\n",
       "      <td>0</td>\n",
       "      <td>1</td>\n",
       "      <td>0</td>\n",
       "      <td>0</td>\n",
       "      <td>106</td>\n",
       "      <td>24</td>\n",
       "      <td>0.03</td>\n",
       "      <td>13</td>\n",
       "      <td>27.197077</td>\n",
       "    </tr>\n",
       "  </tbody>\n",
       "</table>\n",
       "<p>121 rows × 19 columns</p>\n",
       "</div>"
      ],
      "text/plain": [
       "     Energy_Use_kWh  Height  Year_Built   Longitude   Latitude  \\\n",
       "0      1.370845e+06   21.38        1966 -122.312915  47.649894   \n",
       "1      1.609484e+06   21.16        1969 -122.312300  47.650258   \n",
       "2      2.460280e+06   24.35        1999 -122.316275  47.653158   \n",
       "3      2.257484e+05   11.72        1976 -122.314870  47.653039   \n",
       "4      3.879320e+06   28.76        1999 -122.312677  47.651256   \n",
       "..              ...     ...         ...         ...        ...   \n",
       "116    1.530269e+04   32.71        1909 -122.303675  47.653711   \n",
       "117    0.000000e+00   19.04        1895 -122.309281  47.660345   \n",
       "118    0.000000e+00   20.71        1940 -122.308112  47.660715   \n",
       "119    0.000000e+00   47.21        1963 -122.302941  47.660131   \n",
       "120    1.414895e+05   24.88        1969 -122.304502  47.654633   \n",
       "\n",
       "                        Name        Area_m   Occupants  apartments  parking  \\\n",
       "0            Marine Sciences   5534.231710  297.741666           0        0   \n",
       "1       Ocean Teach Building   4789.335456  257.666247           0        0   \n",
       "2           Fishery Sciences  12105.911220  651.298024           0        0   \n",
       "3        John M Wallace Hall   2830.568604  152.284591           0        0   \n",
       "4    Ocean Sciences Building  10337.874230  556.177634           0        0   \n",
       "..                       ...           ...         ...         ...      ...   \n",
       "116              Power Plant  16236.378600  873.517169           0        0   \n",
       "117     Jacobsen Observatory    199.462741   10.731095           0        0   \n",
       "118         Hughes Penthouse   1426.432662   76.742077           0        0   \n",
       "119        NPL Van De Graaff   3451.160644  185.672443           0        0   \n",
       "120      Engineering Library   3767.123747  202.671258           0        0   \n",
       "\n",
       "     stadium  university  utility  warehouse  Building_Length_m  \\\n",
       "0          0           1        0          0                146   \n",
       "1          0           1        0          0                163   \n",
       "2          0           1        0          0                329   \n",
       "3          0           1        0          0                164   \n",
       "4          0           1        0          0                252   \n",
       "..       ...         ...      ...        ...                ...   \n",
       "116        0           1        0          0                529   \n",
       "117        0           1        0          0                 56   \n",
       "118        0           1        0          0                114   \n",
       "119        0           1        0          0                333   \n",
       "120        0           1        0          0                106   \n",
       "\n",
       "     Orientation (degrees north)   Relative Compactness  Tree_Canopy  \\\n",
       "0                              47                  0.03            0   \n",
       "1                             143                  0.03           21   \n",
       "2                              89                  0.03            0   \n",
       "3                             179                  0.06            0   \n",
       "4                              54                  0.02            0   \n",
       "..                            ...                   ...          ...   \n",
       "116                           179                  0.03            0   \n",
       "117                           180                  0.28           34   \n",
       "118                            27                  0.08           14   \n",
       "119                            32                  0.10           16   \n",
       "120                            24                  0.03           13   \n",
       "\n",
       "     Land_Surface_Temp  \n",
       "0            25.048282  \n",
       "1            26.473881  \n",
       "2            27.987935  \n",
       "3            26.457905  \n",
       "4            26.452933  \n",
       "..                 ...  \n",
       "116          28.012560  \n",
       "117          24.177153  \n",
       "118          25.199452  \n",
       "119          25.007835  \n",
       "120          27.197077  \n",
       "\n",
       "[121 rows x 19 columns]"
      ]
     },
     "execution_count": 58,
     "metadata": {},
     "output_type": "execute_result"
    }
   ],
   "source": [
    "# Load in the data and preview it\n",
    "\n",
    "#use pd.read_csv('') and .head on the imported dataset \n",
    "\n",
    "df= pd.read_csv('UW_building_energy.csv')  \n",
    "\n",
    "df"
   ]
  },
  {
   "cell_type": "code",
   "execution_count": 59,
   "id": "07881b68",
   "metadata": {},
   "outputs": [
    {
     "name": "stdout",
     "output_type": "stream",
     "text": [
      "<class 'pandas.core.frame.DataFrame'>\n",
      "RangeIndex: 121 entries, 0 to 120\n",
      "Data columns (total 19 columns):\n",
      " #   Column                        Non-Null Count  Dtype  \n",
      "---  ------                        --------------  -----  \n",
      " 0   Energy_Use_kWh                121 non-null    float64\n",
      " 1   Height                        121 non-null    float64\n",
      " 2   Year_Built                    121 non-null    int64  \n",
      " 3   Longitude                     121 non-null    float64\n",
      " 4   Latitude                      121 non-null    float64\n",
      " 5   Name                          121 non-null    object \n",
      " 6   Area_m                        121 non-null    float64\n",
      " 7   Occupants                     121 non-null    float64\n",
      " 8   apartments                    121 non-null    int64  \n",
      " 9   parking                       121 non-null    int64  \n",
      " 10  stadium                       121 non-null    int64  \n",
      " 11  university                    121 non-null    int64  \n",
      " 12  utility                       121 non-null    int64  \n",
      " 13  warehouse                     121 non-null    int64  \n",
      " 14  Building_Length_m             121 non-null    int64  \n",
      " 15  Orientation (degrees north)   121 non-null    int64  \n",
      " 16  Relative Compactness          121 non-null    float64\n",
      " 17  Tree_Canopy                   121 non-null    int64  \n",
      " 18  Land_Surface_Temp             121 non-null    float64\n",
      "dtypes: float64(8), int64(10), object(1)\n",
      "memory usage: 18.1+ KB\n"
     ]
    }
   ],
   "source": [
    "df.info()"
   ]
  },
  {
   "cell_type": "markdown",
   "id": "51d931d4",
   "metadata": {},
   "source": [
    "---\n",
    "### Exploring the data \n",
    "\n",
    "These question asks you to explore the dataset we will be using. Answer the following three sentences by writing code to compute the described values in the given variables names.\n",
    "\n",
    "## Q 2.1) Exploring the data\n",
    "\n",
    "1. Lets start by looking at the dataframe column names.\n",
    "2. How many buildings do we have in our data set? This should correspond to the number of rows in the dataset. Save the number of rows in a variable called `num_rows`.\n",
    "3. Which column are we trying to predict given the other features (i.e. what's our output `y`)? Save the column values in a variable called `y`. Hint: its the first column name. \n",
    "4. How many inputs do we have in total in the data set (i.e. what is the size of our input `x`)? Save the number of inputs in a variable called `num_inputs`. Lets use the `shape` built in function. "
   ]
  },
  {
   "cell_type": "code",
   "execution_count": 60,
   "id": "dde706c2",
   "metadata": {},
   "outputs": [],
   "source": [
    "# 2.1.1\n",
    "\n",
    "###TODO"
   ]
  },
  {
   "cell_type": "code",
   "execution_count": 61,
   "id": "9130fee6",
   "metadata": {},
   "outputs": [],
   "source": [
    "#2.1.2 \n",
    "\n",
    "###TODO"
   ]
  },
  {
   "cell_type": "code",
   "execution_count": 62,
   "id": "4b5b15d6",
   "metadata": {},
   "outputs": [],
   "source": [
    "#2.1.3 \n",
    "\n",
    "####TODO "
   ]
  },
  {
   "cell_type": "markdown",
   "id": "ebd7b972",
   "metadata": {},
   "source": [
    "## Q 2.2) What is the average height of buildings built after 2000?\n",
    "\n",
    "Compute the average height of buildings built after 2000. Save the result in `avg_height_new_build`."
   ]
  },
  {
   "cell_type": "code",
   "execution_count": 63,
   "id": "98c07773",
   "metadata": {},
   "outputs": [],
   "source": [
    "#2.2\n",
    "\n",
    "###TODO"
   ]
  },
  {
   "cell_type": "markdown",
   "id": "59d88cb5",
   "metadata": {},
   "source": [
    "## Q 2.3) What is the average height of buildings built before 2000?\n",
    "\n",
    "Compute the average height of buildings built before 2000. Save the result in `avg_height_old_build`."
   ]
  },
  {
   "cell_type": "code",
   "execution_count": 64,
   "id": "1bbd9a73",
   "metadata": {},
   "outputs": [],
   "source": [
    "#2.3 \n",
    "\n",
    "###TODO\n"
   ]
  },
  {
   "cell_type": "markdown",
   "id": "5b98477b",
   "metadata": {},
   "source": [
    "## Q 2.4) Are buildings getting taller or shorter? \n",
    "Justify your responce by comparing the answers to 2.2 and 2.3"
   ]
  },
  {
   "cell_type": "code",
   "execution_count": 65,
   "id": "3a83131a",
   "metadata": {},
   "outputs": [],
   "source": [
    "#2.4  \n",
    "\n",
    "###TODO\n",
    "\n"
   ]
  },
  {
   "cell_type": "markdown",
   "id": "6512e840",
   "metadata": {},
   "source": [
    "---\n",
    "# Training Linear Regression Models\n",
    "\n",
    "## Q 2.5) Training a Linear Regression Model.\n",
    "\n",
    "We will now train a linear regression model to make useful predictions. Work through the steps below and then answer the following questions. Even though a lot of the code is pre-written, you should understand what it is doing! \n"
   ]
  },
  {
   "cell_type": "markdown",
   "id": "78a65e9d",
   "metadata": {},
   "source": [
    "### First we split the data into a training set and a test set."
   ]
  },
  {
   "cell_type": "code",
   "execution_count": 66,
   "id": "9439067e",
   "metadata": {},
   "outputs": [],
   "source": [
    "from sklearn.model_selection import train_test_split\n",
    "\n",
    "# Split data into 80% train and 20% test\n",
    "\n",
    "train_data, test_data = train_test_split(df , test_size=0.2)\n"
   ]
  },
  {
   "cell_type": "markdown",
   "id": "a04b0fae",
   "metadata": {},
   "source": [
    "For this problem, we will look at using two sets of features derived from the data inputs. The basic set of features only contains a few data inputs while the advanced features contain them and more.\n",
    "\n",
    "### THIS IS VERY SIMILAR TO THE REGRESSION NOTEBOOK WE WORKED ON IN CLASS "
   ]
  },
  {
   "cell_type": "markdown",
   "id": "b5b45899",
   "metadata": {},
   "source": [
    "### We will create a linear model together to predict building energy consumption given a small amount of features. "
   ]
  },
  {
   "cell_type": "code",
   "execution_count": 67,
   "id": "c93a8565",
   "metadata": {},
   "outputs": [
    {
     "data": {
      "text/plain": [
       "Index(['Energy_Use_kWh', 'Height', 'Year_Built', 'Longitude', 'Latitude',\n",
       "       'Name', 'Area_m', 'Occupants', 'apartments', 'parking', 'stadium',\n",
       "       'university', 'utility', 'warehouse', 'Building_Length_m',\n",
       "       'Orientation (degrees north) ', 'Relative Compactness', 'Tree_Canopy',\n",
       "       'Land_Surface_Temp'],\n",
       "      dtype='object')"
      ]
     },
     "execution_count": 67,
     "metadata": {},
     "output_type": "execute_result"
    }
   ],
   "source": [
    "df.columns"
   ]
  },
  {
   "cell_type": "markdown",
   "id": "ee3ab76c",
   "metadata": {},
   "source": [
    "### Lets define the basic features model"
   ]
  },
  {
   "cell_type": "code",
   "execution_count": 68,
   "id": "dbaaec44",
   "metadata": {},
   "outputs": [],
   "source": [
    "basic_features = ['Area_m','Occupants', ]"
   ]
  },
  {
   "cell_type": "markdown",
   "id": "fccc8e6b",
   "metadata": {},
   "source": [
    "### Now we will train the basic model "
   ]
  },
  {
   "cell_type": "code",
   "execution_count": 69,
   "id": "81548a0e",
   "metadata": {},
   "outputs": [
    {
     "data": {
      "text/plain": [
       "array([  1150.70564966, -31080.95654172])"
      ]
     },
     "execution_count": 69,
     "metadata": {},
     "output_type": "execute_result"
    }
   ],
   "source": [
    "import numpy as np\n",
    "from sklearn.linear_model import LinearRegression\n",
    "from sklearn import datasets, linear_model\n",
    "from sklearn.metrics import mean_squared_error, r2_score\n",
    "\n",
    "#basic model\n",
    "y_basic= train_data['Energy_Use_kWh']\n",
    "x_basic= train_data[basic_features]\n",
    "regr = linear_model.LinearRegression()\n",
    "\n",
    "basic_model= regr.fit(x_basic, y_basic)\n",
    "basic_model\n",
    "\n",
    "basic_model.coef_"
   ]
  },
  {
   "cell_type": "markdown",
   "id": "b486a513",
   "metadata": {},
   "source": [
    "### Now we will make predictions with the model we trained "
   ]
  },
  {
   "cell_type": "code",
   "execution_count": 70,
   "id": "6bd1c152",
   "metadata": {},
   "outputs": [],
   "source": [
    "basic_model_Y_train = basic_model.predict(train_data[basic_features])\n",
    "basic_model_Y_train\n",
    "\n",
    "train_data['basic']= basic_model_Y_train"
   ]
  },
  {
   "cell_type": "markdown",
   "id": "80afe94e",
   "metadata": {},
   "source": [
    "### Now, we will evaluate the basic model predictions to see how they perform.\n",
    "\n",
    "---\n",
    "### Root Mean Square Error (RMSE) of trained predictors\n",
    "\n",
    "\n",
    "Use the basic model you trained in last section to predict what it thinks the values for the data points should be. You can look at the documentation from the `LinearRegression` model to see how to make predictions. \n",
    "\n",
    "The RMSE is another commonly reported metric used for regression models. The RMSE is similar to RSS but is modified slightly to scale the number down. The RMSE is defined as $$RMSE = \\sqrt{\\frac{1}{n}RSS}$$\n",
    "\n",
    "where the thing inside the square root is refered to as the Mean Square Error (MSE). You will also need to use the `mean_squared_error` function from sklearn (documentation [here](https://scikit-learn.org/stable/modules/generated/sklearn.metrics.mean_squared_error.html#sklearn.metrics.mean_squared_error)) which you'll have to import as well. "
   ]
  },
  {
   "cell_type": "markdown",
   "id": "9edc5c0a",
   "metadata": {},
   "source": [
    "### Lets look at the RMSE for the basic model for the TRAINING errors"
   ]
  },
  {
   "cell_type": "code",
   "execution_count": 71,
   "id": "30f2a912",
   "metadata": {},
   "outputs": [
    {
     "data": {
      "text/plain": [
       "39488331.16690736"
      ]
     },
     "execution_count": 71,
     "metadata": {},
     "output_type": "execute_result"
    }
   ],
   "source": [
    "from sklearn.metrics import mean_squared_error\n",
    "\n",
    "train_rmse_basic = mean_squared_error(train_data['Energy_Use_kWh'], train_data['basic'], squared=False)\n",
    "train_rmse_basic"
   ]
  },
  {
   "cell_type": "markdown",
   "id": "ed23616c",
   "metadata": {},
   "source": [
    "### Now we will make predictions with the model we are TESTING"
   ]
  },
  {
   "cell_type": "code",
   "execution_count": 72,
   "id": "25b50ee6",
   "metadata": {},
   "outputs": [],
   "source": [
    "basic_model_Y_test = basic_model.predict(test_data[basic_features])\n",
    "basic_model_Y_test\n",
    "\n",
    "test_data['basic']= basic_model_Y_test"
   ]
  },
  {
   "cell_type": "markdown",
   "id": "de0d1c1b",
   "metadata": {},
   "source": [
    "### Lets look at the RMSE for the basic model for the TESTING errors"
   ]
  },
  {
   "cell_type": "code",
   "execution_count": 73,
   "id": "462cd684",
   "metadata": {},
   "outputs": [
    {
     "data": {
      "text/plain": [
       "14275254.7645856"
      ]
     },
     "execution_count": 73,
     "metadata": {},
     "output_type": "execute_result"
    }
   ],
   "source": [
    "test_rmse_basic = mean_squared_error(test_data['Energy_Use_kWh'], test_data['basic'], squared=False)\n",
    "test_rmse_basic"
   ]
  },
  {
   "cell_type": "markdown",
   "id": "a508579b",
   "metadata": {},
   "source": [
    "## Now create an advanced model that performs BETTER than the basic model (and has a lower test RMSE \n",
    "\n",
    "1. First you will want to define the columns you want to examine and save these as advanced_features\n",
    "2. Then you will want to train the advanced_features model \n",
    "3. Then you will make predictions with the advanced model you trained using the TRANING dataset\n",
    "4. Then you will look at the RMSE for the advanced_model TRAINING errors\n",
    "5. Then you will make predictions with the advanced model you trained using the TRANING dataset\n",
    "6. Then you will look at the RMSE for the advanced_model TESTING errors"
   ]
  },
  {
   "cell_type": "markdown",
   "id": "d44a3eb7",
   "metadata": {},
   "source": [
    "### 1. First you will want to define the columns you want to examine and save these as advanced_features"
   ]
  },
  {
   "cell_type": "code",
   "execution_count": 74,
   "id": "28350a1d",
   "metadata": {},
   "outputs": [],
   "source": [
    "## TODO "
   ]
  },
  {
   "cell_type": "markdown",
   "id": "7f57a88f",
   "metadata": {},
   "source": [
    "### 2. Then you will want to train the advanced_features model "
   ]
  },
  {
   "cell_type": "code",
   "execution_count": 75,
   "id": "a89dd7a1",
   "metadata": {},
   "outputs": [],
   "source": [
    "## TODO "
   ]
  },
  {
   "cell_type": "markdown",
   "id": "04089c08",
   "metadata": {},
   "source": [
    "### 3. Then you will make predictions with the advanced model you trained using the TRANING dataset"
   ]
  },
  {
   "cell_type": "code",
   "execution_count": 76,
   "id": "a0ca1a0c",
   "metadata": {},
   "outputs": [],
   "source": [
    "## TODO "
   ]
  },
  {
   "cell_type": "markdown",
   "id": "e690816d",
   "metadata": {},
   "source": [
    "### 4. Then you will look at the RMSE for the advanced_model TRAINING errors"
   ]
  },
  {
   "cell_type": "code",
   "execution_count": 77,
   "id": "8562df45",
   "metadata": {},
   "outputs": [],
   "source": [
    "## TODO "
   ]
  },
  {
   "cell_type": "markdown",
   "id": "78ea0ae8",
   "metadata": {},
   "source": [
    "### 5. Then you will make predictions with the advanced model you trained using the TRANING dataset"
   ]
  },
  {
   "cell_type": "code",
   "execution_count": 78,
   "id": "64e581b0",
   "metadata": {},
   "outputs": [],
   "source": [
    "## TODO "
   ]
  },
  {
   "cell_type": "markdown",
   "id": "424ada0d",
   "metadata": {},
   "source": [
    "### 6. Then you will look at the RMSE for the advanced_model TESTING errors"
   ]
  },
  {
   "cell_type": "code",
   "execution_count": 79,
   "id": "982b4579",
   "metadata": {},
   "outputs": [],
   "source": [
    "## TODO "
   ]
  },
  {
   "cell_type": "markdown",
   "id": "1f342c8e",
   "metadata": {},
   "source": [
    "## Q 2.6) Reflection \n",
    "\n",
    "1. Which features did you include in your advanced model? \n",
    "2. How did you choose them? \n",
    "3. Please report your TESTING RMSE of your advanced model. Make sure this is lower than the TESTING RMSE of the basic model (7999288.5). "
   ]
  },
  {
   "cell_type": "code",
   "execution_count": 80,
   "id": "c1644d8c",
   "metadata": {},
   "outputs": [],
   "source": [
    "# 1. Which features did you include in your advanced model? \n",
    "\n",
    "## TODO "
   ]
  },
  {
   "cell_type": "code",
   "execution_count": 81,
   "id": "8e9e5f1e",
   "metadata": {},
   "outputs": [],
   "source": [
    "# 2. How did you choose them? \n",
    "\n",
    "## TODO "
   ]
  },
  {
   "cell_type": "code",
   "execution_count": 82,
   "id": "90992f93",
   "metadata": {},
   "outputs": [],
   "source": [
    "# 3. Please report your TESTING RMSE of your advanced model. \n",
    "# Make sure this is lower than the TESTING RMSE of the basic model (7999288.5). \n",
    "\n",
    "## TODO "
   ]
  },
  {
   "cell_type": "code",
   "execution_count": null,
   "id": "6a002e88",
   "metadata": {},
   "outputs": [],
   "source": []
  },
  {
   "cell_type": "code",
   "execution_count": null,
   "id": "81b8c0a4",
   "metadata": {},
   "outputs": [],
   "source": []
  }
 ],
 "metadata": {
  "kernelspec": {
   "display_name": "Python 3 (ipykernel)",
   "language": "python",
   "name": "python3"
  },
  "language_info": {
   "codemirror_mode": {
    "name": "ipython",
    "version": 3
   },
   "file_extension": ".py",
   "mimetype": "text/x-python",
   "name": "python",
   "nbconvert_exporter": "python",
   "pygments_lexer": "ipython3",
   "version": "3.9.12"
  }
 },
 "nbformat": 4,
 "nbformat_minor": 5
}
