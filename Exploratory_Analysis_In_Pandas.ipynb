{
 "cells": [
  {
   "cell_type": "markdown",
   "id": "1b40f071",
   "metadata": {},
   "source": [
    "<h1><center>Exploratory Data Analysis in Pandas</center></h1>\n",
    "<center><b>Instructor:</b> Amanda Worthy</center>\n",
    "<center><b>Date:</b> July 8th, 2024</center>\n",
    "<center><b>Edited by Amanda Worthy from material by:</b> Ronak Mehta and Anne Wagner</center>\n"
   ]
  },
  {
   "cell_type": "markdown",
   "id": "bcfd119e",
   "metadata": {},
   "source": [
    "## 1. Introduction\n",
    "\n",
    "Welcome to the course! The course labs will focus on the python techniques and tools that will be required to complete the course materials. Today we will be discussing basics of the course and the `pandas` package for processing tabular data in Python. \n",
    "\n",
    "### 1.1. Jupyter notebooks\n",
    "\n",
    "Jupyter is **markdown** software, or a program used to write and render formatted text, such as plain text, code, and mathematical notation. Not only is Jupyter a text editor, but it also has the ability to run Python code. Specifically, \n",
    "- A Jupyter **notebook** is a document that contains a list of **cells**, each containing some text. \n",
    "- These can either be **markdown cells** or **code cells**.\n",
    "- Cells can be **run** or **executed**, which means rendering the text for markdown cells and running the code for code cells.\n",
    "- Unlike a typical Python script that is written in a `.py` file and run from start to finish, arranging code into cells allows you to run little chunks at a time and is more readable. \n",
    "- Variables and functions defined within cells are **saved into memory** when they are run, so they can be referenced in subsequent cells. \n",
    "- Cells can be run in any order, not necessarily the displayed order. "
   ]
  },
  {
   "cell_type": "markdown",
   "id": "b505f81f",
   "metadata": {},
   "source": [
    "## Some shorthands commands\n",
    "- use esc AND a to add a cell above the current cell (mac)\n",
    "- use esc AND b to add a cell bellow the current cell (mac)\n",
    "- use command AND s to save the notebook (mac)\n",
    "- use shift AND return to run a cell (mac)\n",
    "\n",
    "\n",
    "Please see the following resources for more introductory information:\n",
    "- https://jakevdp.github.io/WhirlwindTourOfPython/ (great book by a UW alum, a good portion of this tutiorial was adapted from this book)\n",
    "- https://www.dataquest.io/blog/jupyter-notebook-tutorial/ (basic webpage tutorial)\n",
    "- https://colab.research.google.com/github/data-psl/lectures2020/blob/master/notebooks/01_python_basics.ipynb (made by google research, more comprehensive)\n",
    "\n",
    "\n",
    " ** Things can get complicated kind of quickly\n",
    "\n",
    " **** Google will be your best friend if you need syntax help!\n",
    "\n",
    "### When searching for resources on google - include the library that you are working with in your search term\n",
    "\n",
    " EXAMPLES:  \n",
    " - \"matricies in numpy\"\n",
    " - \"rename dataframe columns in pandas\"\n",
    " - \"merge dataframes in pandas\""
   ]
  },
  {
   "cell_type": "markdown",
   "id": "29b4dace",
   "metadata": {},
   "source": [
    "**Exercise 1.1:** Create a markdown cell below and add three lines of text (double space them):\n",
    "- Your name in monospace (code) font.\n",
    "- Your major in boldface.\n",
    "- Your hometown italicized.\n",
    "\n",
    "You might find cheat sheets such as [this one](https://ingeh.medium.com/markdown-for-jupyter-notebooks-cheatsheet-386c05aeebed) helpful."
   ]
  },
  {
   "cell_type": "code",
   "execution_count": 6,
   "id": "b8f715e0",
   "metadata": {},
   "outputs": [],
   "source": [
    "## EXERCISE 1.1 \n",
    "\n",
    "### TODO \n",
    "\n",
    "\n"
   ]
  },
  {
   "cell_type": "markdown",
   "id": "592056ac",
   "metadata": {},
   "source": [
    "## 2. Pandas"
   ]
  },
  {
   "cell_type": "markdown",
   "id": "4bd7db15",
   "metadata": {},
   "source": [
    "`pandas` is a software package for processing tabular data, i.e. data that comes in a table of rows and columns in which rows represent different items and columns represent different attributes. Run the cells to learn the syntax of the package."
   ]
  },
  {
   "cell_type": "markdown",
   "id": "0f04ac02",
   "metadata": {},
   "source": [
    "### 3.1. Basics"
   ]
  },
  {
   "cell_type": "code",
   "execution_count": 11,
   "id": "49ea707b",
   "metadata": {},
   "outputs": [
    {
     "name": "stdout",
     "output_type": "stream",
     "text": [
      "Requirement already satisfied: gdown in /Users/amandaworthy/opt/anaconda3/envs/uwgda2022/lib/python3.9/site-packages (5.2.0)\n",
      "Requirement already satisfied: filelock in /Users/amandaworthy/opt/anaconda3/envs/uwgda2022/lib/python3.9/site-packages (from gdown) (3.15.4)\n",
      "Requirement already satisfied: tqdm in /Users/amandaworthy/opt/anaconda3/envs/uwgda2022/lib/python3.9/site-packages (from gdown) (4.63.1)\n",
      "Requirement already satisfied: requests[socks] in /Users/amandaworthy/opt/anaconda3/envs/uwgda2022/lib/python3.9/site-packages (from gdown) (2.31.0)\n",
      "Requirement already satisfied: beautifulsoup4 in /Users/amandaworthy/opt/anaconda3/envs/uwgda2022/lib/python3.9/site-packages (from gdown) (4.10.0)\n",
      "Requirement already satisfied: soupsieve>1.2 in /Users/amandaworthy/opt/anaconda3/envs/uwgda2022/lib/python3.9/site-packages (from beautifulsoup4->gdown) (2.3.1)\n",
      "Requirement already satisfied: idna<4,>=2.5 in /Users/amandaworthy/opt/anaconda3/envs/uwgda2022/lib/python3.9/site-packages (from requests[socks]->gdown) (3.3)\n",
      "Requirement already satisfied: urllib3<3,>=1.21.1 in /Users/amandaworthy/opt/anaconda3/envs/uwgda2022/lib/python3.9/site-packages (from requests[socks]->gdown) (1.26.9)\n",
      "Requirement already satisfied: certifi>=2017.4.17 in /Users/amandaworthy/opt/anaconda3/envs/uwgda2022/lib/python3.9/site-packages (from requests[socks]->gdown) (2021.10.8)\n",
      "Requirement already satisfied: charset-normalizer<4,>=2 in /Users/amandaworthy/opt/anaconda3/envs/uwgda2022/lib/python3.9/site-packages (from requests[socks]->gdown) (2.0.12)\n",
      "Requirement already satisfied: PySocks!=1.5.7,>=1.5.6 in /Users/amandaworthy/opt/anaconda3/envs/uwgda2022/lib/python3.9/site-packages (from requests[socks]->gdown) (1.7.1)\n"
     ]
    }
   ],
   "source": [
    "# Import the package, usually abbreviated as \"pd\".\n",
    "import pandas as pd\n",
    "import seaborn as sn\n",
    "import plotly.express as px\n",
    "import numpy as np\n",
    "import matplotlib.pyplot as plt\n",
    "import fiona\n",
    "import pyproj\n",
    "import os\n",
    "import requests\n",
    "import matplotlib.ticker as ticker\n",
    "import glob\n",
    "import openpyxl\n",
    "\n",
    "!pip install gdown\n",
    "import gdown"
   ]
  },
  {
   "cell_type": "markdown",
   "id": "f7b2b246",
   "metadata": {},
   "source": [
    "We import the commonly-used Credit dataset, which contains credit-related information on $n = 400$ individuals. The table is represented as a `pandas` object called a `DataFrame`."
   ]
  },
  {
   "cell_type": "markdown",
   "id": "111d3eb6",
   "metadata": {},
   "source": [
    "### Add the file to the google colab workspace"
   ]
  },
  {
   "cell_type": "code",
   "execution_count": 70,
   "id": "734552b1",
   "metadata": {},
   "outputs": [
    {
     "name": "stdout",
     "output_type": "stream",
     "text": [
      "/Users/amandaworthy/opt/anaconda3/envs/uwgda2022/lib/python3.9/site-packages/gdown/__main__.py:140: FutureWarning: Option `--id` was deprecated in version 4.3.1 and will be removed in 5.0. You don't need to pass it anymore to use a file ID.\n",
      "  warnings.warn(\n",
      "Downloading...\n",
      "From: https://drive.google.com/uc?id=1cuz3C3Z2_6iCBrW0S94pDaJZXSJiVUko\n",
      "To: /Users/amandaworthy/2024_STEMsub/Week2/BigFoot.csv\n",
      "100%|██████████████████████████████████████| 11.2M/11.2M [00:00<00:00, 40.5MB/s]\n"
     ]
    }
   ],
   "source": [
    "## NOTE: MAKE SURE YOU RUN THIS CELL\n",
    "\n",
    "# Lets import the data from my google drive\n",
    "# I am using this for sharing purposes, we can also import datasets on our own\n",
    "\n",
    "\n",
    "#https://drive.google.com/file/d/1uOFgQFBUxVjH6T2NZfu6xSpDt1tIwZaX/view?usp=sharing\n",
    "\n",
    "!gdown --id 1uOFgQFBUxVjH6T2NZfu6xSpDt1tIwZaX #this is a bash command, you are welcome to read more about them!\n"
   ]
  },
  {
   "cell_type": "code",
   "execution_count": 71,
   "id": "87edf06f",
   "metadata": {},
   "outputs": [
    {
     "name": "stdout",
     "output_type": "stream",
     "text": [
      "BigFoot.csv                          README.md\r\n",
      "Credit.csv                           Regression_house_prices.ipynb\r\n",
      "Exploratory_Analysis_In_Pandas.ipynb UW_building_energy.csv\r\n",
      "Homework 1 and 2.ipynb               home_data.csv\r\n",
      "Homework 1.ipynb\r\n"
     ]
    }
   ],
   "source": [
    "! ls\n",
    "\n",
    "\n",
    "# IF IT WORKED 'Credit.csv' will show up "
   ]
  },
  {
   "cell_type": "code",
   "execution_count": 20,
   "id": "4a5dce39",
   "metadata": {},
   "outputs": [],
   "source": [
    "# Read from a .csv file.\n",
    "credit = pd.read_csv(\"Credit.csv\", index_col=0)"
   ]
  },
  {
   "cell_type": "code",
   "execution_count": 21,
   "id": "2e91e898",
   "metadata": {},
   "outputs": [
    {
     "data": {
      "text/html": [
       "<div>\n",
       "<style scoped>\n",
       "    .dataframe tbody tr th:only-of-type {\n",
       "        vertical-align: middle;\n",
       "    }\n",
       "\n",
       "    .dataframe tbody tr th {\n",
       "        vertical-align: top;\n",
       "    }\n",
       "\n",
       "    .dataframe thead th {\n",
       "        text-align: right;\n",
       "    }\n",
       "</style>\n",
       "<table border=\"1\" class=\"dataframe\">\n",
       "  <thead>\n",
       "    <tr style=\"text-align: right;\">\n",
       "      <th></th>\n",
       "      <th>Income</th>\n",
       "      <th>Limit</th>\n",
       "      <th>Rating</th>\n",
       "      <th>Cards</th>\n",
       "      <th>Age</th>\n",
       "      <th>Education</th>\n",
       "      <th>Gender</th>\n",
       "      <th>Student</th>\n",
       "      <th>Married</th>\n",
       "      <th>Ethnicity</th>\n",
       "      <th>Balance</th>\n",
       "    </tr>\n",
       "  </thead>\n",
       "  <tbody>\n",
       "    <tr>\n",
       "      <th>1</th>\n",
       "      <td>14.891</td>\n",
       "      <td>3606</td>\n",
       "      <td>283</td>\n",
       "      <td>2</td>\n",
       "      <td>34</td>\n",
       "      <td>11</td>\n",
       "      <td>Male</td>\n",
       "      <td>No</td>\n",
       "      <td>Yes</td>\n",
       "      <td>Caucasian</td>\n",
       "      <td>333</td>\n",
       "    </tr>\n",
       "    <tr>\n",
       "      <th>2</th>\n",
       "      <td>106.025</td>\n",
       "      <td>6645</td>\n",
       "      <td>483</td>\n",
       "      <td>3</td>\n",
       "      <td>82</td>\n",
       "      <td>15</td>\n",
       "      <td>Female</td>\n",
       "      <td>Yes</td>\n",
       "      <td>Yes</td>\n",
       "      <td>Asian</td>\n",
       "      <td>903</td>\n",
       "    </tr>\n",
       "    <tr>\n",
       "      <th>3</th>\n",
       "      <td>104.593</td>\n",
       "      <td>7075</td>\n",
       "      <td>514</td>\n",
       "      <td>4</td>\n",
       "      <td>71</td>\n",
       "      <td>11</td>\n",
       "      <td>Male</td>\n",
       "      <td>No</td>\n",
       "      <td>No</td>\n",
       "      <td>Asian</td>\n",
       "      <td>580</td>\n",
       "    </tr>\n",
       "    <tr>\n",
       "      <th>4</th>\n",
       "      <td>148.924</td>\n",
       "      <td>9504</td>\n",
       "      <td>681</td>\n",
       "      <td>3</td>\n",
       "      <td>36</td>\n",
       "      <td>11</td>\n",
       "      <td>Female</td>\n",
       "      <td>No</td>\n",
       "      <td>No</td>\n",
       "      <td>Asian</td>\n",
       "      <td>964</td>\n",
       "    </tr>\n",
       "    <tr>\n",
       "      <th>5</th>\n",
       "      <td>55.882</td>\n",
       "      <td>4897</td>\n",
       "      <td>357</td>\n",
       "      <td>2</td>\n",
       "      <td>68</td>\n",
       "      <td>16</td>\n",
       "      <td>Male</td>\n",
       "      <td>No</td>\n",
       "      <td>Yes</td>\n",
       "      <td>Caucasian</td>\n",
       "      <td>331</td>\n",
       "    </tr>\n",
       "    <tr>\n",
       "      <th>...</th>\n",
       "      <td>...</td>\n",
       "      <td>...</td>\n",
       "      <td>...</td>\n",
       "      <td>...</td>\n",
       "      <td>...</td>\n",
       "      <td>...</td>\n",
       "      <td>...</td>\n",
       "      <td>...</td>\n",
       "      <td>...</td>\n",
       "      <td>...</td>\n",
       "      <td>...</td>\n",
       "    </tr>\n",
       "    <tr>\n",
       "      <th>396</th>\n",
       "      <td>12.096</td>\n",
       "      <td>4100</td>\n",
       "      <td>307</td>\n",
       "      <td>3</td>\n",
       "      <td>32</td>\n",
       "      <td>13</td>\n",
       "      <td>Male</td>\n",
       "      <td>No</td>\n",
       "      <td>Yes</td>\n",
       "      <td>Caucasian</td>\n",
       "      <td>560</td>\n",
       "    </tr>\n",
       "    <tr>\n",
       "      <th>397</th>\n",
       "      <td>13.364</td>\n",
       "      <td>3838</td>\n",
       "      <td>296</td>\n",
       "      <td>5</td>\n",
       "      <td>65</td>\n",
       "      <td>17</td>\n",
       "      <td>Male</td>\n",
       "      <td>No</td>\n",
       "      <td>No</td>\n",
       "      <td>African American</td>\n",
       "      <td>480</td>\n",
       "    </tr>\n",
       "    <tr>\n",
       "      <th>398</th>\n",
       "      <td>57.872</td>\n",
       "      <td>4171</td>\n",
       "      <td>321</td>\n",
       "      <td>5</td>\n",
       "      <td>67</td>\n",
       "      <td>12</td>\n",
       "      <td>Female</td>\n",
       "      <td>No</td>\n",
       "      <td>Yes</td>\n",
       "      <td>Caucasian</td>\n",
       "      <td>138</td>\n",
       "    </tr>\n",
       "    <tr>\n",
       "      <th>399</th>\n",
       "      <td>37.728</td>\n",
       "      <td>2525</td>\n",
       "      <td>192</td>\n",
       "      <td>1</td>\n",
       "      <td>44</td>\n",
       "      <td>13</td>\n",
       "      <td>Male</td>\n",
       "      <td>No</td>\n",
       "      <td>Yes</td>\n",
       "      <td>Caucasian</td>\n",
       "      <td>0</td>\n",
       "    </tr>\n",
       "    <tr>\n",
       "      <th>400</th>\n",
       "      <td>18.701</td>\n",
       "      <td>5524</td>\n",
       "      <td>415</td>\n",
       "      <td>5</td>\n",
       "      <td>64</td>\n",
       "      <td>7</td>\n",
       "      <td>Female</td>\n",
       "      <td>No</td>\n",
       "      <td>No</td>\n",
       "      <td>Asian</td>\n",
       "      <td>966</td>\n",
       "    </tr>\n",
       "  </tbody>\n",
       "</table>\n",
       "<p>400 rows × 11 columns</p>\n",
       "</div>"
      ],
      "text/plain": [
       "      Income  Limit  Rating  Cards  Age  Education  Gender Student Married  \\\n",
       "1     14.891   3606     283      2   34         11    Male      No     Yes   \n",
       "2    106.025   6645     483      3   82         15  Female     Yes     Yes   \n",
       "3    104.593   7075     514      4   71         11    Male      No      No   \n",
       "4    148.924   9504     681      3   36         11  Female      No      No   \n",
       "5     55.882   4897     357      2   68         16    Male      No     Yes   \n",
       "..       ...    ...     ...    ...  ...        ...     ...     ...     ...   \n",
       "396   12.096   4100     307      3   32         13    Male      No     Yes   \n",
       "397   13.364   3838     296      5   65         17    Male      No      No   \n",
       "398   57.872   4171     321      5   67         12  Female      No     Yes   \n",
       "399   37.728   2525     192      1   44         13    Male      No     Yes   \n",
       "400   18.701   5524     415      5   64          7  Female      No      No   \n",
       "\n",
       "            Ethnicity  Balance  \n",
       "1           Caucasian      333  \n",
       "2               Asian      903  \n",
       "3               Asian      580  \n",
       "4               Asian      964  \n",
       "5           Caucasian      331  \n",
       "..                ...      ...  \n",
       "396         Caucasian      560  \n",
       "397  African American      480  \n",
       "398         Caucasian      138  \n",
       "399         Caucasian        0  \n",
       "400             Asian      966  \n",
       "\n",
       "[400 rows x 11 columns]"
      ]
     },
     "execution_count": 21,
     "metadata": {},
     "output_type": "execute_result"
    }
   ],
   "source": [
    "# Display the top and bottom of the data frame.\n",
    "credit"
   ]
  },
  {
   "cell_type": "code",
   "execution_count": 22,
   "id": "bd834582",
   "metadata": {},
   "outputs": [
    {
     "data": {
      "text/plain": [
       "pandas.core.frame.DataFrame"
      ]
     },
     "execution_count": 22,
     "metadata": {},
     "output_type": "execute_result"
    }
   ],
   "source": [
    "# Display the data type of the \"credit\" variable.\n",
    "type(credit)"
   ]
  },
  {
   "cell_type": "code",
   "execution_count": 51,
   "id": "277c0b36",
   "metadata": {},
   "outputs": [],
   "source": [
    "## What about info??\n",
    "\n",
    "## TODO \n"
   ]
  },
  {
   "cell_type": "code",
   "execution_count": 52,
   "id": "275ac03f",
   "metadata": {},
   "outputs": [],
   "source": [
    "## What about column names??\n",
    "\n",
    "## TODO \n"
   ]
  },
  {
   "cell_type": "code",
   "execution_count": 23,
   "id": "c159d089",
   "metadata": {},
   "outputs": [
    {
     "data": {
      "text/plain": [
       "(400, 11)"
      ]
     },
     "execution_count": 23,
     "metadata": {},
     "output_type": "execute_result"
    }
   ],
   "source": [
    "# Number of rows and columns.\n",
    "credit.shape"
   ]
  },
  {
   "cell_type": "code",
   "execution_count": 24,
   "id": "fe95821b",
   "metadata": {},
   "outputs": [
    {
     "data": {
      "text/plain": [
       "400"
      ]
     },
     "execution_count": 24,
     "metadata": {},
     "output_type": "execute_result"
    }
   ],
   "source": [
    "# Number of rows (two ways). \"len\" counts the first axis of any iterable Python object (lists, tuples, etc).\n",
    "\n",
    "len(credit)\n",
    "\n",
    "# credit.shape[0]"
   ]
  },
  {
   "cell_type": "markdown",
   "id": "38b36e86",
   "metadata": {},
   "source": [
    "**Exercise 2.1:** In the code cell below, write code to display the number of columns in `credit`."
   ]
  },
  {
   "cell_type": "code",
   "execution_count": 48,
   "id": "8c1a04a1",
   "metadata": {},
   "outputs": [],
   "source": [
    "#Exercise 2.1 \n",
    "\n",
    "## TODO \n",
    "\n",
    "\n"
   ]
  },
  {
   "cell_type": "markdown",
   "id": "422e6821",
   "metadata": {},
   "source": [
    "### 3.2. Indexing\n",
    "\n",
    "\"Indexing\" refers to selecting elements of the data frame based on their row and column indices."
   ]
  },
  {
   "cell_type": "code",
   "execution_count": 11,
   "id": "e032c79f",
   "metadata": {},
   "outputs": [
    {
     "data": {
      "text/plain": [
       "1      283\n",
       "2      483\n",
       "3      514\n",
       "4      681\n",
       "5      357\n",
       "      ... \n",
       "396    307\n",
       "397    296\n",
       "398    321\n",
       "399    192\n",
       "400    415\n",
       "Name: Rating, Length: 400, dtype: int64"
      ]
     },
     "execution_count": 11,
     "metadata": {},
     "output_type": "execute_result"
    }
   ],
   "source": [
    "# Index the \"Rating\" column (two ways).\n",
    "\n",
    "credit['Rating']"
   ]
  },
  {
   "cell_type": "code",
   "execution_count": 12,
   "id": "d570f3e1",
   "metadata": {},
   "outputs": [
    {
     "data": {
      "text/plain": [
       "1      283\n",
       "2      483\n",
       "3      514\n",
       "4      681\n",
       "5      357\n",
       "      ... \n",
       "396    307\n",
       "397    296\n",
       "398    321\n",
       "399    192\n",
       "400    415\n",
       "Name: Rating, Length: 400, dtype: int64"
      ]
     },
     "execution_count": 12,
     "metadata": {},
     "output_type": "execute_result"
    }
   ],
   "source": [
    "credit.Rating"
   ]
  },
  {
   "cell_type": "markdown",
   "id": "a0d6b480",
   "metadata": {},
   "source": [
    "I prefer the former, as it makes clear that `\"Rating\"` is just a string that identifies a column, and is not a variable itself. A single column is of type `Series` instead of `DataFrame`, but behaves basically the same."
   ]
  },
  {
   "cell_type": "code",
   "execution_count": 27,
   "id": "58216060",
   "metadata": {},
   "outputs": [
    {
     "data": {
      "text/plain": [
       "pandas.core.series.Series"
      ]
     },
     "execution_count": 27,
     "metadata": {},
     "output_type": "execute_result"
    }
   ],
   "source": [
    "type(credit['Rating'])"
   ]
  },
  {
   "cell_type": "markdown",
   "id": "0cd881c0",
   "metadata": {},
   "source": [
    "If we instead want to know what the datatypes of the individual elements in the series are, we need to use the dtypes command."
   ]
  },
  {
   "cell_type": "code",
   "execution_count": 28,
   "id": "521a5545",
   "metadata": {},
   "outputs": [
    {
     "data": {
      "text/plain": [
       "Income       float64\n",
       "Limit          int64\n",
       "Rating         int64\n",
       "Cards          int64\n",
       "Age            int64\n",
       "Education      int64\n",
       "Gender        object\n",
       "Student       object\n",
       "Married       object\n",
       "Ethnicity     object\n",
       "Balance        int64\n",
       "dtype: object"
      ]
     },
     "execution_count": 28,
     "metadata": {},
     "output_type": "execute_result"
    }
   ],
   "source": [
    "credit.dtypes"
   ]
  },
  {
   "cell_type": "markdown",
   "id": "705915d4",
   "metadata": {},
   "source": [
    "If we want to run commands on one of these series, we can append the function to the end of the variable as follows."
   ]
  },
  {
   "cell_type": "code",
   "execution_count": 68,
   "id": "82b7d9bf",
   "metadata": {},
   "outputs": [
    {
     "name": "stdout",
     "output_type": "stream",
     "text": [
      "Minimum rating: 93\n"
     ]
    }
   ],
   "source": [
    "# Compute column statistics.\n",
    "rating = credit['Rating']\n",
    "\n",
    "print(\"Minimum rating: {}\".format(rating.min()))\n",
    "\n",
    "\n",
    "#Careful not to use \" \" here as the print statement is inside \" \"."
   ]
  },
  {
   "cell_type": "code",
   "execution_count": 69,
   "id": "c99da25f",
   "metadata": {},
   "outputs": [],
   "source": [
    "## What about the max rating? \n",
    "\n",
    "## TODO"
   ]
  },
  {
   "cell_type": "markdown",
   "id": "3154fd20",
   "metadata": {},
   "source": [
    "Data frames can also be indexed numerically to select certain rows and columns, using the `iloc` function."
   ]
  },
  {
   "cell_type": "code",
   "execution_count": 57,
   "id": "37f561ea",
   "metadata": {},
   "outputs": [
    {
     "data": {
      "text/html": [
       "<div>\n",
       "<style scoped>\n",
       "    .dataframe tbody tr th:only-of-type {\n",
       "        vertical-align: middle;\n",
       "    }\n",
       "\n",
       "    .dataframe tbody tr th {\n",
       "        vertical-align: top;\n",
       "    }\n",
       "\n",
       "    .dataframe thead th {\n",
       "        text-align: right;\n",
       "    }\n",
       "</style>\n",
       "<table border=\"1\" class=\"dataframe\">\n",
       "  <thead>\n",
       "    <tr style=\"text-align: right;\">\n",
       "      <th></th>\n",
       "      <th>Income</th>\n",
       "      <th>Limit</th>\n",
       "      <th>Rating</th>\n",
       "      <th>Cards</th>\n",
       "      <th>Age</th>\n",
       "      <th>Education</th>\n",
       "      <th>Gender</th>\n",
       "      <th>Student</th>\n",
       "      <th>Married</th>\n",
       "      <th>Ethnicity</th>\n",
       "      <th>Balance</th>\n",
       "    </tr>\n",
       "  </thead>\n",
       "  <tbody>\n",
       "    <tr>\n",
       "      <th>1</th>\n",
       "      <td>14.891</td>\n",
       "      <td>3606</td>\n",
       "      <td>283</td>\n",
       "      <td>2</td>\n",
       "      <td>34</td>\n",
       "      <td>11</td>\n",
       "      <td>Male</td>\n",
       "      <td>No</td>\n",
       "      <td>Yes</td>\n",
       "      <td>Caucasian</td>\n",
       "      <td>333</td>\n",
       "    </tr>\n",
       "    <tr>\n",
       "      <th>2</th>\n",
       "      <td>106.025</td>\n",
       "      <td>6645</td>\n",
       "      <td>483</td>\n",
       "      <td>3</td>\n",
       "      <td>82</td>\n",
       "      <td>15</td>\n",
       "      <td>Female</td>\n",
       "      <td>Yes</td>\n",
       "      <td>Yes</td>\n",
       "      <td>Asian</td>\n",
       "      <td>903</td>\n",
       "    </tr>\n",
       "    <tr>\n",
       "      <th>3</th>\n",
       "      <td>104.593</td>\n",
       "      <td>7075</td>\n",
       "      <td>514</td>\n",
       "      <td>4</td>\n",
       "      <td>71</td>\n",
       "      <td>11</td>\n",
       "      <td>Male</td>\n",
       "      <td>No</td>\n",
       "      <td>No</td>\n",
       "      <td>Asian</td>\n",
       "      <td>580</td>\n",
       "    </tr>\n",
       "    <tr>\n",
       "      <th>4</th>\n",
       "      <td>148.924</td>\n",
       "      <td>9504</td>\n",
       "      <td>681</td>\n",
       "      <td>3</td>\n",
       "      <td>36</td>\n",
       "      <td>11</td>\n",
       "      <td>Female</td>\n",
       "      <td>No</td>\n",
       "      <td>No</td>\n",
       "      <td>Asian</td>\n",
       "      <td>964</td>\n",
       "    </tr>\n",
       "    <tr>\n",
       "      <th>5</th>\n",
       "      <td>55.882</td>\n",
       "      <td>4897</td>\n",
       "      <td>357</td>\n",
       "      <td>2</td>\n",
       "      <td>68</td>\n",
       "      <td>16</td>\n",
       "      <td>Male</td>\n",
       "      <td>No</td>\n",
       "      <td>Yes</td>\n",
       "      <td>Caucasian</td>\n",
       "      <td>331</td>\n",
       "    </tr>\n",
       "  </tbody>\n",
       "</table>\n",
       "</div>"
      ],
      "text/plain": [
       "    Income  Limit  Rating  Cards  Age  Education  Gender Student Married  \\\n",
       "1   14.891   3606     283      2   34         11    Male      No     Yes   \n",
       "2  106.025   6645     483      3   82         15  Female     Yes     Yes   \n",
       "3  104.593   7075     514      4   71         11    Male      No      No   \n",
       "4  148.924   9504     681      3   36         11  Female      No      No   \n",
       "5   55.882   4897     357      2   68         16    Male      No     Yes   \n",
       "\n",
       "   Ethnicity  Balance  \n",
       "1  Caucasian      333  \n",
       "2      Asian      903  \n",
       "3      Asian      580  \n",
       "4      Asian      964  \n",
       "5  Caucasian      331  "
      ]
     },
     "execution_count": 57,
     "metadata": {},
     "output_type": "execute_result"
    }
   ],
   "source": [
    "# First five rows.\n",
    "credit.iloc[0:5]"
   ]
  },
  {
   "cell_type": "code",
   "execution_count": 58,
   "id": "889ec5b0",
   "metadata": {},
   "outputs": [
    {
     "data": {
      "text/html": [
       "<div>\n",
       "<style scoped>\n",
       "    .dataframe tbody tr th:only-of-type {\n",
       "        vertical-align: middle;\n",
       "    }\n",
       "\n",
       "    .dataframe tbody tr th {\n",
       "        vertical-align: top;\n",
       "    }\n",
       "\n",
       "    .dataframe thead th {\n",
       "        text-align: right;\n",
       "    }\n",
       "</style>\n",
       "<table border=\"1\" class=\"dataframe\">\n",
       "  <thead>\n",
       "    <tr style=\"text-align: right;\">\n",
       "      <th></th>\n",
       "      <th>Income</th>\n",
       "      <th>Limit</th>\n",
       "      <th>Rating</th>\n",
       "      <th>Cards</th>\n",
       "      <th>Age</th>\n",
       "    </tr>\n",
       "  </thead>\n",
       "  <tbody>\n",
       "    <tr>\n",
       "      <th>1</th>\n",
       "      <td>14.891</td>\n",
       "      <td>3606</td>\n",
       "      <td>283</td>\n",
       "      <td>2</td>\n",
       "      <td>34</td>\n",
       "    </tr>\n",
       "    <tr>\n",
       "      <th>2</th>\n",
       "      <td>106.025</td>\n",
       "      <td>6645</td>\n",
       "      <td>483</td>\n",
       "      <td>3</td>\n",
       "      <td>82</td>\n",
       "    </tr>\n",
       "    <tr>\n",
       "      <th>3</th>\n",
       "      <td>104.593</td>\n",
       "      <td>7075</td>\n",
       "      <td>514</td>\n",
       "      <td>4</td>\n",
       "      <td>71</td>\n",
       "    </tr>\n",
       "    <tr>\n",
       "      <th>4</th>\n",
       "      <td>148.924</td>\n",
       "      <td>9504</td>\n",
       "      <td>681</td>\n",
       "      <td>3</td>\n",
       "      <td>36</td>\n",
       "    </tr>\n",
       "    <tr>\n",
       "      <th>5</th>\n",
       "      <td>55.882</td>\n",
       "      <td>4897</td>\n",
       "      <td>357</td>\n",
       "      <td>2</td>\n",
       "      <td>68</td>\n",
       "    </tr>\n",
       "    <tr>\n",
       "      <th>6</th>\n",
       "      <td>80.180</td>\n",
       "      <td>8047</td>\n",
       "      <td>569</td>\n",
       "      <td>4</td>\n",
       "      <td>77</td>\n",
       "    </tr>\n",
       "    <tr>\n",
       "      <th>7</th>\n",
       "      <td>20.996</td>\n",
       "      <td>3388</td>\n",
       "      <td>259</td>\n",
       "      <td>2</td>\n",
       "      <td>37</td>\n",
       "    </tr>\n",
       "    <tr>\n",
       "      <th>8</th>\n",
       "      <td>71.408</td>\n",
       "      <td>7114</td>\n",
       "      <td>512</td>\n",
       "      <td>2</td>\n",
       "      <td>87</td>\n",
       "    </tr>\n",
       "    <tr>\n",
       "      <th>9</th>\n",
       "      <td>15.125</td>\n",
       "      <td>3300</td>\n",
       "      <td>266</td>\n",
       "      <td>5</td>\n",
       "      <td>66</td>\n",
       "    </tr>\n",
       "    <tr>\n",
       "      <th>10</th>\n",
       "      <td>71.061</td>\n",
       "      <td>6819</td>\n",
       "      <td>491</td>\n",
       "      <td>3</td>\n",
       "      <td>41</td>\n",
       "    </tr>\n",
       "  </tbody>\n",
       "</table>\n",
       "</div>"
      ],
      "text/plain": [
       "     Income  Limit  Rating  Cards  Age\n",
       "1    14.891   3606     283      2   34\n",
       "2   106.025   6645     483      3   82\n",
       "3   104.593   7075     514      4   71\n",
       "4   148.924   9504     681      3   36\n",
       "5    55.882   4897     357      2   68\n",
       "6    80.180   8047     569      4   77\n",
       "7    20.996   3388     259      2   37\n",
       "8    71.408   7114     512      2   87\n",
       "9    15.125   3300     266      5   66\n",
       "10   71.061   6819     491      3   41"
      ]
     },
     "execution_count": 58,
     "metadata": {},
     "output_type": "execute_result"
    }
   ],
   "source": [
    "# First ten rows and first five columns.\n",
    "credit.iloc[0:10, 0:5]"
   ]
  },
  {
   "cell_type": "markdown",
   "id": "2c0f54ed",
   "metadata": {},
   "source": [
    "Note the indexing here, where `0:5` represents the rows (or columns) indexed by 0 to 4 (not including 5). Thus `0:n` would include n elements and terminate with `n-1`."
   ]
  },
  {
   "cell_type": "markdown",
   "id": "627f41e8",
   "metadata": {},
   "source": [
    "**Exercise 3.2:** Create a code cell below and display the the third through the tenth (inclusive) rows of the `\"Limit\"` column. "
   ]
  },
  {
   "cell_type": "code",
   "execution_count": 59,
   "id": "ea6be923",
   "metadata": {},
   "outputs": [],
   "source": [
    "## Exercise 3.2\n",
    "\n",
    "## TODO "
   ]
  },
  {
   "cell_type": "markdown",
   "id": "8e8c54ea",
   "metadata": {},
   "source": [
    "### 3.3 Filtering\n",
    "\n",
    "Finally, we may want to select elements of our data frame using conditions on the values in the table."
   ]
  },
  {
   "cell_type": "code",
   "execution_count": 33,
   "id": "16e88979",
   "metadata": {},
   "outputs": [
    {
     "data": {
      "text/html": [
       "<div>\n",
       "<style scoped>\n",
       "    .dataframe tbody tr th:only-of-type {\n",
       "        vertical-align: middle;\n",
       "    }\n",
       "\n",
       "    .dataframe tbody tr th {\n",
       "        vertical-align: top;\n",
       "    }\n",
       "\n",
       "    .dataframe thead th {\n",
       "        text-align: right;\n",
       "    }\n",
       "</style>\n",
       "<table border=\"1\" class=\"dataframe\">\n",
       "  <thead>\n",
       "    <tr style=\"text-align: right;\">\n",
       "      <th></th>\n",
       "      <th>Income</th>\n",
       "      <th>Limit</th>\n",
       "      <th>Rating</th>\n",
       "      <th>Cards</th>\n",
       "      <th>Age</th>\n",
       "      <th>Education</th>\n",
       "      <th>Gender</th>\n",
       "      <th>Student</th>\n",
       "      <th>Married</th>\n",
       "      <th>Ethnicity</th>\n",
       "      <th>Balance</th>\n",
       "    </tr>\n",
       "  </thead>\n",
       "  <tbody>\n",
       "    <tr>\n",
       "      <th>29</th>\n",
       "      <td>186.634</td>\n",
       "      <td>13414</td>\n",
       "      <td>949</td>\n",
       "      <td>2</td>\n",
       "      <td>41</td>\n",
       "      <td>14</td>\n",
       "      <td>Female</td>\n",
       "      <td>No</td>\n",
       "      <td>Yes</td>\n",
       "      <td>African American</td>\n",
       "      <td>1809</td>\n",
       "    </tr>\n",
       "    <tr>\n",
       "      <th>86</th>\n",
       "      <td>152.298</td>\n",
       "      <td>12066</td>\n",
       "      <td>828</td>\n",
       "      <td>4</td>\n",
       "      <td>41</td>\n",
       "      <td>12</td>\n",
       "      <td>Female</td>\n",
       "      <td>No</td>\n",
       "      <td>Yes</td>\n",
       "      <td>Asian</td>\n",
       "      <td>1779</td>\n",
       "    </tr>\n",
       "    <tr>\n",
       "      <th>140</th>\n",
       "      <td>107.841</td>\n",
       "      <td>10384</td>\n",
       "      <td>728</td>\n",
       "      <td>3</td>\n",
       "      <td>87</td>\n",
       "      <td>7</td>\n",
       "      <td>Male</td>\n",
       "      <td>No</td>\n",
       "      <td>No</td>\n",
       "      <td>African American</td>\n",
       "      <td>1597</td>\n",
       "    </tr>\n",
       "    <tr>\n",
       "      <th>175</th>\n",
       "      <td>121.834</td>\n",
       "      <td>10673</td>\n",
       "      <td>750</td>\n",
       "      <td>3</td>\n",
       "      <td>54</td>\n",
       "      <td>16</td>\n",
       "      <td>Male</td>\n",
       "      <td>No</td>\n",
       "      <td>No</td>\n",
       "      <td>African American</td>\n",
       "      <td>1573</td>\n",
       "    </tr>\n",
       "    <tr>\n",
       "      <th>185</th>\n",
       "      <td>158.889</td>\n",
       "      <td>11589</td>\n",
       "      <td>805</td>\n",
       "      <td>1</td>\n",
       "      <td>62</td>\n",
       "      <td>17</td>\n",
       "      <td>Female</td>\n",
       "      <td>No</td>\n",
       "      <td>Yes</td>\n",
       "      <td>Caucasian</td>\n",
       "      <td>1448</td>\n",
       "    </tr>\n",
       "    <tr>\n",
       "      <th>192</th>\n",
       "      <td>124.290</td>\n",
       "      <td>9560</td>\n",
       "      <td>701</td>\n",
       "      <td>3</td>\n",
       "      <td>52</td>\n",
       "      <td>17</td>\n",
       "      <td>Female</td>\n",
       "      <td>Yes</td>\n",
       "      <td>No</td>\n",
       "      <td>Asian</td>\n",
       "      <td>1687</td>\n",
       "    </tr>\n",
       "    <tr>\n",
       "      <th>194</th>\n",
       "      <td>130.209</td>\n",
       "      <td>10088</td>\n",
       "      <td>730</td>\n",
       "      <td>7</td>\n",
       "      <td>39</td>\n",
       "      <td>19</td>\n",
       "      <td>Female</td>\n",
       "      <td>No</td>\n",
       "      <td>Yes</td>\n",
       "      <td>Caucasian</td>\n",
       "      <td>1426</td>\n",
       "    </tr>\n",
       "    <tr>\n",
       "      <th>294</th>\n",
       "      <td>140.672</td>\n",
       "      <td>11200</td>\n",
       "      <td>817</td>\n",
       "      <td>7</td>\n",
       "      <td>46</td>\n",
       "      <td>9</td>\n",
       "      <td>Male</td>\n",
       "      <td>No</td>\n",
       "      <td>Yes</td>\n",
       "      <td>African American</td>\n",
       "      <td>1677</td>\n",
       "    </tr>\n",
       "    <tr>\n",
       "      <th>324</th>\n",
       "      <td>182.728</td>\n",
       "      <td>13913</td>\n",
       "      <td>982</td>\n",
       "      <td>4</td>\n",
       "      <td>98</td>\n",
       "      <td>17</td>\n",
       "      <td>Male</td>\n",
       "      <td>No</td>\n",
       "      <td>Yes</td>\n",
       "      <td>Caucasian</td>\n",
       "      <td>1999</td>\n",
       "    </tr>\n",
       "    <tr>\n",
       "      <th>327</th>\n",
       "      <td>125.480</td>\n",
       "      <td>10230</td>\n",
       "      <td>721</td>\n",
       "      <td>3</td>\n",
       "      <td>82</td>\n",
       "      <td>16</td>\n",
       "      <td>Male</td>\n",
       "      <td>No</td>\n",
       "      <td>Yes</td>\n",
       "      <td>Caucasian</td>\n",
       "      <td>1361</td>\n",
       "    </tr>\n",
       "    <tr>\n",
       "      <th>340</th>\n",
       "      <td>149.316</td>\n",
       "      <td>10278</td>\n",
       "      <td>707</td>\n",
       "      <td>1</td>\n",
       "      <td>80</td>\n",
       "      <td>16</td>\n",
       "      <td>Male</td>\n",
       "      <td>No</td>\n",
       "      <td>No</td>\n",
       "      <td>African American</td>\n",
       "      <td>1107</td>\n",
       "    </tr>\n",
       "    <tr>\n",
       "      <th>348</th>\n",
       "      <td>160.231</td>\n",
       "      <td>10748</td>\n",
       "      <td>754</td>\n",
       "      <td>2</td>\n",
       "      <td>69</td>\n",
       "      <td>17</td>\n",
       "      <td>Male</td>\n",
       "      <td>No</td>\n",
       "      <td>No</td>\n",
       "      <td>Caucasian</td>\n",
       "      <td>1192</td>\n",
       "    </tr>\n",
       "    <tr>\n",
       "      <th>356</th>\n",
       "      <td>180.682</td>\n",
       "      <td>11966</td>\n",
       "      <td>832</td>\n",
       "      <td>2</td>\n",
       "      <td>58</td>\n",
       "      <td>8</td>\n",
       "      <td>Female</td>\n",
       "      <td>No</td>\n",
       "      <td>Yes</td>\n",
       "      <td>African American</td>\n",
       "      <td>1405</td>\n",
       "    </tr>\n",
       "    <tr>\n",
       "      <th>391</th>\n",
       "      <td>135.118</td>\n",
       "      <td>10578</td>\n",
       "      <td>747</td>\n",
       "      <td>3</td>\n",
       "      <td>81</td>\n",
       "      <td>15</td>\n",
       "      <td>Female</td>\n",
       "      <td>No</td>\n",
       "      <td>Yes</td>\n",
       "      <td>Asian</td>\n",
       "      <td>1393</td>\n",
       "    </tr>\n",
       "  </tbody>\n",
       "</table>\n",
       "</div>"
      ],
      "text/plain": [
       "      Income  Limit  Rating  Cards  Age  Education  Gender Student Married  \\\n",
       "29   186.634  13414     949      2   41         14  Female      No     Yes   \n",
       "86   152.298  12066     828      4   41         12  Female      No     Yes   \n",
       "140  107.841  10384     728      3   87          7    Male      No      No   \n",
       "175  121.834  10673     750      3   54         16    Male      No      No   \n",
       "185  158.889  11589     805      1   62         17  Female      No     Yes   \n",
       "192  124.290   9560     701      3   52         17  Female     Yes      No   \n",
       "194  130.209  10088     730      7   39         19  Female      No     Yes   \n",
       "294  140.672  11200     817      7   46          9    Male      No     Yes   \n",
       "324  182.728  13913     982      4   98         17    Male      No     Yes   \n",
       "327  125.480  10230     721      3   82         16    Male      No     Yes   \n",
       "340  149.316  10278     707      1   80         16    Male      No      No   \n",
       "348  160.231  10748     754      2   69         17    Male      No      No   \n",
       "356  180.682  11966     832      2   58          8  Female      No     Yes   \n",
       "391  135.118  10578     747      3   81         15  Female      No     Yes   \n",
       "\n",
       "            Ethnicity  Balance  \n",
       "29   African American     1809  \n",
       "86              Asian     1779  \n",
       "140  African American     1597  \n",
       "175  African American     1573  \n",
       "185         Caucasian     1448  \n",
       "192             Asian     1687  \n",
       "194         Caucasian     1426  \n",
       "294  African American     1677  \n",
       "324         Caucasian     1999  \n",
       "327         Caucasian     1361  \n",
       "340  African American     1107  \n",
       "348         Caucasian     1192  \n",
       "356  African American     1405  \n",
       "391             Asian     1393  "
      ]
     },
     "execution_count": 33,
     "metadata": {},
     "output_type": "execute_result"
    }
   ],
   "source": [
    "# Find the individuals with credit rating over 700.\n",
    "credit[credit.Rating >= 700]"
   ]
  },
  {
   "cell_type": "markdown",
   "id": "965afd6a",
   "metadata": {},
   "source": [
    "What is really going on here? The conditions are actually `Series` objects themselves, but just `boolean` lists indicating whether or not the condition is satisfied for each row. Take a look at the original data frame."
   ]
  },
  {
   "cell_type": "code",
   "execution_count": 34,
   "id": "c9a13d3a",
   "metadata": {},
   "outputs": [
    {
     "data": {
      "text/html": [
       "<div>\n",
       "<style scoped>\n",
       "    .dataframe tbody tr th:only-of-type {\n",
       "        vertical-align: middle;\n",
       "    }\n",
       "\n",
       "    .dataframe tbody tr th {\n",
       "        vertical-align: top;\n",
       "    }\n",
       "\n",
       "    .dataframe thead th {\n",
       "        text-align: right;\n",
       "    }\n",
       "</style>\n",
       "<table border=\"1\" class=\"dataframe\">\n",
       "  <thead>\n",
       "    <tr style=\"text-align: right;\">\n",
       "      <th></th>\n",
       "      <th>Income</th>\n",
       "      <th>Limit</th>\n",
       "      <th>Rating</th>\n",
       "      <th>Cards</th>\n",
       "      <th>Age</th>\n",
       "      <th>Education</th>\n",
       "      <th>Gender</th>\n",
       "      <th>Student</th>\n",
       "      <th>Married</th>\n",
       "      <th>Ethnicity</th>\n",
       "      <th>Balance</th>\n",
       "    </tr>\n",
       "  </thead>\n",
       "  <tbody>\n",
       "    <tr>\n",
       "      <th>1</th>\n",
       "      <td>14.891</td>\n",
       "      <td>3606</td>\n",
       "      <td>283</td>\n",
       "      <td>2</td>\n",
       "      <td>34</td>\n",
       "      <td>11</td>\n",
       "      <td>Male</td>\n",
       "      <td>No</td>\n",
       "      <td>Yes</td>\n",
       "      <td>Caucasian</td>\n",
       "      <td>333</td>\n",
       "    </tr>\n",
       "    <tr>\n",
       "      <th>2</th>\n",
       "      <td>106.025</td>\n",
       "      <td>6645</td>\n",
       "      <td>483</td>\n",
       "      <td>3</td>\n",
       "      <td>82</td>\n",
       "      <td>15</td>\n",
       "      <td>Female</td>\n",
       "      <td>Yes</td>\n",
       "      <td>Yes</td>\n",
       "      <td>Asian</td>\n",
       "      <td>903</td>\n",
       "    </tr>\n",
       "    <tr>\n",
       "      <th>3</th>\n",
       "      <td>104.593</td>\n",
       "      <td>7075</td>\n",
       "      <td>514</td>\n",
       "      <td>4</td>\n",
       "      <td>71</td>\n",
       "      <td>11</td>\n",
       "      <td>Male</td>\n",
       "      <td>No</td>\n",
       "      <td>No</td>\n",
       "      <td>Asian</td>\n",
       "      <td>580</td>\n",
       "    </tr>\n",
       "    <tr>\n",
       "      <th>4</th>\n",
       "      <td>148.924</td>\n",
       "      <td>9504</td>\n",
       "      <td>681</td>\n",
       "      <td>3</td>\n",
       "      <td>36</td>\n",
       "      <td>11</td>\n",
       "      <td>Female</td>\n",
       "      <td>No</td>\n",
       "      <td>No</td>\n",
       "      <td>Asian</td>\n",
       "      <td>964</td>\n",
       "    </tr>\n",
       "    <tr>\n",
       "      <th>5</th>\n",
       "      <td>55.882</td>\n",
       "      <td>4897</td>\n",
       "      <td>357</td>\n",
       "      <td>2</td>\n",
       "      <td>68</td>\n",
       "      <td>16</td>\n",
       "      <td>Male</td>\n",
       "      <td>No</td>\n",
       "      <td>Yes</td>\n",
       "      <td>Caucasian</td>\n",
       "      <td>331</td>\n",
       "    </tr>\n",
       "  </tbody>\n",
       "</table>\n",
       "</div>"
      ],
      "text/plain": [
       "    Income  Limit  Rating  Cards  Age  Education  Gender Student Married  \\\n",
       "1   14.891   3606     283      2   34         11    Male      No     Yes   \n",
       "2  106.025   6645     483      3   82         15  Female     Yes     Yes   \n",
       "3  104.593   7075     514      4   71         11    Male      No      No   \n",
       "4  148.924   9504     681      3   36         11  Female      No      No   \n",
       "5   55.882   4897     357      2   68         16    Male      No     Yes   \n",
       "\n",
       "   Ethnicity  Balance  \n",
       "1  Caucasian      333  \n",
       "2      Asian      903  \n",
       "3      Asian      580  \n",
       "4      Asian      964  \n",
       "5  Caucasian      331  "
      ]
     },
     "execution_count": 34,
     "metadata": {},
     "output_type": "execute_result"
    }
   ],
   "source": [
    "credit.head()"
   ]
  },
  {
   "cell_type": "code",
   "execution_count": 35,
   "id": "124a7a78",
   "metadata": {},
   "outputs": [
    {
     "name": "stdout",
     "output_type": "stream",
     "text": [
      "<class 'pandas.core.series.Series'>\n"
     ]
    },
    {
     "data": {
      "text/plain": [
       "1     True\n",
       "2    False\n",
       "3    False\n",
       "4    False\n",
       "5     True\n",
       "Name: Cards, dtype: bool"
      ]
     },
     "execution_count": 35,
     "metadata": {},
     "output_type": "execute_result"
    }
   ],
   "source": [
    "condition = (credit.Cards == 2)\n",
    "\n",
    "print(type(condition))\n",
    "condition.head() # prints first five rows."
   ]
  },
  {
   "cell_type": "markdown",
   "id": "0b74bd35",
   "metadata": {},
   "source": [
    "**Exercise 3.3:** Find the average incomes for both students and non-students in the dataset."
   ]
  },
  {
   "cell_type": "code",
   "execution_count": 36,
   "id": "9c5879ce",
   "metadata": {},
   "outputs": [
    {
     "data": {
      "text/plain": [
       "47.29205"
      ]
     },
     "execution_count": 36,
     "metadata": {},
     "output_type": "execute_result"
    }
   ],
   "source": [
    "stud= credit[credit.Student == 'Yes']\n",
    "\n",
    "stud\n",
    "stud.Income.mean()"
   ]
  },
  {
   "cell_type": "code",
   "execution_count": 37,
   "id": "fccc79e2-002b-482f-a601-f596f50bc00c",
   "metadata": {},
   "outputs": [
    {
     "data": {
      "text/plain": [
       "44.988533333333336"
      ]
     },
     "execution_count": 37,
     "metadata": {},
     "output_type": "execute_result"
    }
   ],
   "source": [
    "## And the non student? \n",
    "\n",
    "## TODO "
   ]
  },
  {
   "cell_type": "markdown",
   "id": "86e2e2a6",
   "metadata": {},
   "source": [
    "You can also combine multiple conditions using the `&` (and) and `|` (or) operators. Make sure to put the conditions in parantheses, because logical operators are evaluated before comparison operators like `>`, `<` and `==`."
   ]
  },
  {
   "cell_type": "code",
   "execution_count": 38,
   "id": "ebf97592",
   "metadata": {},
   "outputs": [
    {
     "data": {
      "text/html": [
       "<div>\n",
       "<style scoped>\n",
       "    .dataframe tbody tr th:only-of-type {\n",
       "        vertical-align: middle;\n",
       "    }\n",
       "\n",
       "    .dataframe tbody tr th {\n",
       "        vertical-align: top;\n",
       "    }\n",
       "\n",
       "    .dataframe thead th {\n",
       "        text-align: right;\n",
       "    }\n",
       "</style>\n",
       "<table border=\"1\" class=\"dataframe\">\n",
       "  <thead>\n",
       "    <tr style=\"text-align: right;\">\n",
       "      <th></th>\n",
       "      <th>Income</th>\n",
       "      <th>Limit</th>\n",
       "      <th>Rating</th>\n",
       "      <th>Cards</th>\n",
       "      <th>Age</th>\n",
       "      <th>Education</th>\n",
       "      <th>Gender</th>\n",
       "      <th>Student</th>\n",
       "      <th>Married</th>\n",
       "      <th>Ethnicity</th>\n",
       "      <th>Balance</th>\n",
       "    </tr>\n",
       "  </thead>\n",
       "  <tbody>\n",
       "    <tr>\n",
       "      <th>1</th>\n",
       "      <td>14.891</td>\n",
       "      <td>3606</td>\n",
       "      <td>283</td>\n",
       "      <td>2</td>\n",
       "      <td>34</td>\n",
       "      <td>11</td>\n",
       "      <td>Male</td>\n",
       "      <td>No</td>\n",
       "      <td>Yes</td>\n",
       "      <td>Caucasian</td>\n",
       "      <td>333</td>\n",
       "    </tr>\n",
       "    <tr>\n",
       "      <th>2</th>\n",
       "      <td>106.025</td>\n",
       "      <td>6645</td>\n",
       "      <td>483</td>\n",
       "      <td>3</td>\n",
       "      <td>82</td>\n",
       "      <td>15</td>\n",
       "      <td>Female</td>\n",
       "      <td>Yes</td>\n",
       "      <td>Yes</td>\n",
       "      <td>Asian</td>\n",
       "      <td>903</td>\n",
       "    </tr>\n",
       "    <tr>\n",
       "      <th>5</th>\n",
       "      <td>55.882</td>\n",
       "      <td>4897</td>\n",
       "      <td>357</td>\n",
       "      <td>2</td>\n",
       "      <td>68</td>\n",
       "      <td>16</td>\n",
       "      <td>Male</td>\n",
       "      <td>No</td>\n",
       "      <td>Yes</td>\n",
       "      <td>Caucasian</td>\n",
       "      <td>331</td>\n",
       "    </tr>\n",
       "    <tr>\n",
       "      <th>10</th>\n",
       "      <td>71.061</td>\n",
       "      <td>6819</td>\n",
       "      <td>491</td>\n",
       "      <td>3</td>\n",
       "      <td>41</td>\n",
       "      <td>19</td>\n",
       "      <td>Female</td>\n",
       "      <td>Yes</td>\n",
       "      <td>Yes</td>\n",
       "      <td>African American</td>\n",
       "      <td>1350</td>\n",
       "    </tr>\n",
       "    <tr>\n",
       "      <th>11</th>\n",
       "      <td>63.095</td>\n",
       "      <td>8117</td>\n",
       "      <td>589</td>\n",
       "      <td>4</td>\n",
       "      <td>30</td>\n",
       "      <td>14</td>\n",
       "      <td>Male</td>\n",
       "      <td>No</td>\n",
       "      <td>Yes</td>\n",
       "      <td>Caucasian</td>\n",
       "      <td>1407</td>\n",
       "    </tr>\n",
       "    <tr>\n",
       "      <th>...</th>\n",
       "      <td>...</td>\n",
       "      <td>...</td>\n",
       "      <td>...</td>\n",
       "      <td>...</td>\n",
       "      <td>...</td>\n",
       "      <td>...</td>\n",
       "      <td>...</td>\n",
       "      <td>...</td>\n",
       "      <td>...</td>\n",
       "      <td>...</td>\n",
       "      <td>...</td>\n",
       "    </tr>\n",
       "    <tr>\n",
       "      <th>382</th>\n",
       "      <td>101.788</td>\n",
       "      <td>8029</td>\n",
       "      <td>574</td>\n",
       "      <td>2</td>\n",
       "      <td>84</td>\n",
       "      <td>11</td>\n",
       "      <td>Male</td>\n",
       "      <td>No</td>\n",
       "      <td>Yes</td>\n",
       "      <td>Caucasian</td>\n",
       "      <td>849</td>\n",
       "    </tr>\n",
       "    <tr>\n",
       "      <th>384</th>\n",
       "      <td>14.292</td>\n",
       "      <td>3274</td>\n",
       "      <td>282</td>\n",
       "      <td>9</td>\n",
       "      <td>64</td>\n",
       "      <td>9</td>\n",
       "      <td>Male</td>\n",
       "      <td>No</td>\n",
       "      <td>Yes</td>\n",
       "      <td>Caucasian</td>\n",
       "      <td>382</td>\n",
       "    </tr>\n",
       "    <tr>\n",
       "      <th>396</th>\n",
       "      <td>12.096</td>\n",
       "      <td>4100</td>\n",
       "      <td>307</td>\n",
       "      <td>3</td>\n",
       "      <td>32</td>\n",
       "      <td>13</td>\n",
       "      <td>Male</td>\n",
       "      <td>No</td>\n",
       "      <td>Yes</td>\n",
       "      <td>Caucasian</td>\n",
       "      <td>560</td>\n",
       "    </tr>\n",
       "    <tr>\n",
       "      <th>398</th>\n",
       "      <td>57.872</td>\n",
       "      <td>4171</td>\n",
       "      <td>321</td>\n",
       "      <td>5</td>\n",
       "      <td>67</td>\n",
       "      <td>12</td>\n",
       "      <td>Female</td>\n",
       "      <td>No</td>\n",
       "      <td>Yes</td>\n",
       "      <td>Caucasian</td>\n",
       "      <td>138</td>\n",
       "    </tr>\n",
       "    <tr>\n",
       "      <th>399</th>\n",
       "      <td>37.728</td>\n",
       "      <td>2525</td>\n",
       "      <td>192</td>\n",
       "      <td>1</td>\n",
       "      <td>44</td>\n",
       "      <td>13</td>\n",
       "      <td>Male</td>\n",
       "      <td>No</td>\n",
       "      <td>Yes</td>\n",
       "      <td>Caucasian</td>\n",
       "      <td>0</td>\n",
       "    </tr>\n",
       "  </tbody>\n",
       "</table>\n",
       "<p>236 rows × 11 columns</p>\n",
       "</div>"
      ],
      "text/plain": [
       "      Income  Limit  Rating  Cards  Age  Education  Gender Student Married  \\\n",
       "1     14.891   3606     283      2   34         11    Male      No     Yes   \n",
       "2    106.025   6645     483      3   82         15  Female     Yes     Yes   \n",
       "5     55.882   4897     357      2   68         16    Male      No     Yes   \n",
       "10    71.061   6819     491      3   41         19  Female     Yes     Yes   \n",
       "11    63.095   8117     589      4   30         14    Male      No     Yes   \n",
       "..       ...    ...     ...    ...  ...        ...     ...     ...     ...   \n",
       "382  101.788   8029     574      2   84         11    Male      No     Yes   \n",
       "384   14.292   3274     282      9   64          9    Male      No     Yes   \n",
       "396   12.096   4100     307      3   32         13    Male      No     Yes   \n",
       "398   57.872   4171     321      5   67         12  Female      No     Yes   \n",
       "399   37.728   2525     192      1   44         13    Male      No     Yes   \n",
       "\n",
       "            Ethnicity  Balance  \n",
       "1           Caucasian      333  \n",
       "2               Asian      903  \n",
       "5           Caucasian      331  \n",
       "10   African American     1350  \n",
       "11          Caucasian     1407  \n",
       "..                ...      ...  \n",
       "382         Caucasian      849  \n",
       "384         Caucasian      382  \n",
       "396         Caucasian      560  \n",
       "398         Caucasian      138  \n",
       "399         Caucasian        0  \n",
       "\n",
       "[236 rows x 11 columns]"
      ]
     },
     "execution_count": 38,
     "metadata": {},
     "output_type": "execute_result"
    }
   ],
   "source": [
    "# Find the married individuals with a limit less than 10k.\n",
    "credit[(credit.Married == \"Yes\") & (credit.Limit < 10000)]"
   ]
  },
  {
   "cell_type": "markdown",
   "id": "a81c1b14",
   "metadata": {},
   "source": [
    "**Exercise 3.4:** Find the individuals who are not between 30 and 60 years old."
   ]
  },
  {
   "cell_type": "code",
   "execution_count": null,
   "id": "240225f7",
   "metadata": {},
   "outputs": [],
   "source": [
    "## Exercise 3.4 \n",
    "\n",
    "### TODO "
   ]
  },
  {
   "cell_type": "markdown",
   "id": "f3347f2a",
   "metadata": {},
   "source": [
    "## 4. Data Visulization \n",
    "\n",
    "### Links to some visulization resources\n",
    "- Seaborn plots: https://seaborn.pydata.org/tutorial/introduction.html\n",
    "- Matplotlib: https://matplotlib.org/stable/plot_types/index.html\n",
    "\n",
    "\n"
   ]
  },
  {
   "cell_type": "markdown",
   "id": "e99c871b",
   "metadata": {},
   "source": [
    "### Make a histogram of the students credit card scores"
   ]
  },
  {
   "cell_type": "code",
   "execution_count": 39,
   "id": "be6aa016",
   "metadata": {},
   "outputs": [
    {
     "data": {
      "text/html": [
       "<div>\n",
       "<style scoped>\n",
       "    .dataframe tbody tr th:only-of-type {\n",
       "        vertical-align: middle;\n",
       "    }\n",
       "\n",
       "    .dataframe tbody tr th {\n",
       "        vertical-align: top;\n",
       "    }\n",
       "\n",
       "    .dataframe thead th {\n",
       "        text-align: right;\n",
       "    }\n",
       "</style>\n",
       "<table border=\"1\" class=\"dataframe\">\n",
       "  <thead>\n",
       "    <tr style=\"text-align: right;\">\n",
       "      <th></th>\n",
       "      <th>Income</th>\n",
       "      <th>Limit</th>\n",
       "      <th>Rating</th>\n",
       "      <th>Cards</th>\n",
       "      <th>Age</th>\n",
       "      <th>Education</th>\n",
       "      <th>Gender</th>\n",
       "      <th>Student</th>\n",
       "      <th>Married</th>\n",
       "      <th>Ethnicity</th>\n",
       "      <th>Balance</th>\n",
       "    </tr>\n",
       "  </thead>\n",
       "  <tbody>\n",
       "    <tr>\n",
       "      <th>2</th>\n",
       "      <td>106.025</td>\n",
       "      <td>6645</td>\n",
       "      <td>483</td>\n",
       "      <td>3</td>\n",
       "      <td>82</td>\n",
       "      <td>15</td>\n",
       "      <td>Female</td>\n",
       "      <td>Yes</td>\n",
       "      <td>Yes</td>\n",
       "      <td>Asian</td>\n",
       "      <td>903</td>\n",
       "    </tr>\n",
       "    <tr>\n",
       "      <th>10</th>\n",
       "      <td>71.061</td>\n",
       "      <td>6819</td>\n",
       "      <td>491</td>\n",
       "      <td>3</td>\n",
       "      <td>41</td>\n",
       "      <td>19</td>\n",
       "      <td>Female</td>\n",
       "      <td>Yes</td>\n",
       "      <td>Yes</td>\n",
       "      <td>African American</td>\n",
       "      <td>1350</td>\n",
       "    </tr>\n",
       "    <tr>\n",
       "      <th>27</th>\n",
       "      <td>42.471</td>\n",
       "      <td>3625</td>\n",
       "      <td>289</td>\n",
       "      <td>6</td>\n",
       "      <td>44</td>\n",
       "      <td>12</td>\n",
       "      <td>Female</td>\n",
       "      <td>Yes</td>\n",
       "      <td>No</td>\n",
       "      <td>Caucasian</td>\n",
       "      <td>654</td>\n",
       "    </tr>\n",
       "    <tr>\n",
       "      <th>36</th>\n",
       "      <td>23.350</td>\n",
       "      <td>2558</td>\n",
       "      <td>220</td>\n",
       "      <td>3</td>\n",
       "      <td>49</td>\n",
       "      <td>12</td>\n",
       "      <td>Female</td>\n",
       "      <td>Yes</td>\n",
       "      <td>No</td>\n",
       "      <td>Caucasian</td>\n",
       "      <td>419</td>\n",
       "    </tr>\n",
       "    <tr>\n",
       "      <th>42</th>\n",
       "      <td>113.659</td>\n",
       "      <td>7659</td>\n",
       "      <td>538</td>\n",
       "      <td>2</td>\n",
       "      <td>66</td>\n",
       "      <td>15</td>\n",
       "      <td>Male</td>\n",
       "      <td>Yes</td>\n",
       "      <td>Yes</td>\n",
       "      <td>African American</td>\n",
       "      <td>1155</td>\n",
       "    </tr>\n",
       "  </tbody>\n",
       "</table>\n",
       "</div>"
      ],
      "text/plain": [
       "     Income  Limit  Rating  Cards  Age  Education  Gender Student Married  \\\n",
       "2   106.025   6645     483      3   82         15  Female     Yes     Yes   \n",
       "10   71.061   6819     491      3   41         19  Female     Yes     Yes   \n",
       "27   42.471   3625     289      6   44         12  Female     Yes      No   \n",
       "36   23.350   2558     220      3   49         12  Female     Yes      No   \n",
       "42  113.659   7659     538      2   66         15    Male     Yes     Yes   \n",
       "\n",
       "           Ethnicity  Balance  \n",
       "2              Asian      903  \n",
       "10  African American     1350  \n",
       "27         Caucasian      654  \n",
       "36         Caucasian      419  \n",
       "42  African American     1155  "
      ]
     },
     "execution_count": 39,
     "metadata": {},
     "output_type": "execute_result"
    }
   ],
   "source": [
    "stud.head()"
   ]
  },
  {
   "cell_type": "code",
   "execution_count": 41,
   "id": "63d64d37",
   "metadata": {},
   "outputs": [
    {
     "data": {
      "image/png": "[encoded data removed]",
      "text/plain": [
       "<Figure size 432x288 with 1 Axes>"
      ]
     },
     "metadata": {
      "needs_background": "light"
     },
     "output_type": "display_data"
    }
   ],
   "source": [
    "\n",
    "n_bins=20\n",
    "plt.hist(stud['Rating'], bins = n_bins);\n",
    "plt.title('Histogram of Credit Raiting for Students');\n",
    "plt.xlabel('Credit Rating')\n",
    "plt.ylabel('Number of people');\n",
    "\n"
   ]
  },
  {
   "cell_type": "markdown",
   "id": "91fc4b91",
   "metadata": {},
   "source": [
    "**Exercise 4.1:** Make a histogram of the non-students income. "
   ]
  },
  {
   "cell_type": "code",
   "execution_count": 47,
   "id": "b8e46989",
   "metadata": {},
   "outputs": [],
   "source": [
    "## Exercise 4.1 \n",
    "\n",
    "## TODO "
   ]
  },
  {
   "cell_type": "markdown",
   "id": "831be6ad",
   "metadata": {},
   "source": [
    "## Is there a relationship between Age and Rating?  Lets make a scatter plot to check. "
   ]
  },
  {
   "cell_type": "code",
   "execution_count": 45,
   "id": "68ae8156",
   "metadata": {},
   "outputs": [
    {
     "data": {
      "image/png": "[encoded data removed]",
      "text/plain": [
       "<Figure size 432x288 with 1 Axes>"
      ]
     },
     "metadata": {
      "needs_background": "light"
     },
     "output_type": "display_data"
    }
   ],
   "source": [
    "#lets make a plot of the relationship \n",
    "\n",
    "plt.scatter(y= stud['Rating'], x= stud['Age'])\n",
    "plt.title('Age vs Creidt Rating');\n",
    "plt.xlabel('Age')\n",
    "plt.ylabel('Rating');\n",
    "plt.show()"
   ]
  },
  {
   "cell_type": "markdown",
   "id": "7b0ef594",
   "metadata": {},
   "source": [
    "**Exercise 4.2:** Explore the relationship between age and rating by making a scatterplot "
   ]
  },
  {
   "cell_type": "code",
   "execution_count": 46,
   "id": "7f38a378",
   "metadata": {},
   "outputs": [],
   "source": [
    "## Exercise 4.2 \n",
    "\n",
    "##TODO "
   ]
  },
  {
   "cell_type": "markdown",
   "id": "4b0287a7",
   "metadata": {},
   "source": [
    "## What about the correlation of the entire dataset "
   ]
  },
  {
   "cell_type": "code",
   "execution_count": 66,
   "id": "faf24f25",
   "metadata": {},
   "outputs": [
    {
     "name": "stdout",
     "output_type": "stream",
     "text": [
      "<class 'pandas.core.frame.DataFrame'>\n",
      "Index: 400 entries, 1 to 400\n",
      "Data columns (total 11 columns):\n",
      " #   Column     Non-Null Count  Dtype  \n",
      "---  ------     --------------  -----  \n",
      " 0   Income     400 non-null    float64\n",
      " 1   Limit      400 non-null    int64  \n",
      " 2   Rating     400 non-null    int64  \n",
      " 3   Cards      400 non-null    int64  \n",
      " 4   Age        400 non-null    int64  \n",
      " 5   Education  400 non-null    int64  \n",
      " 6   Gender     400 non-null    object \n",
      " 7   Student    400 non-null    object \n",
      " 8   Married    400 non-null    object \n",
      " 9   Ethnicity  400 non-null    object \n",
      " 10  Balance    400 non-null    int64  \n",
      "dtypes: float64(1), int64(6), object(4)\n",
      "memory usage: 37.5+ KB\n"
     ]
    }
   ],
   "source": [
    "credit.info()"
   ]
  },
  {
   "cell_type": "code",
   "execution_count": 67,
   "id": "5ba49475",
   "metadata": {},
   "outputs": [
    {
     "data": {
      "text/html": [
       "<div>\n",
       "<style scoped>\n",
       "    .dataframe tbody tr th:only-of-type {\n",
       "        vertical-align: middle;\n",
       "    }\n",
       "\n",
       "    .dataframe tbody tr th {\n",
       "        vertical-align: top;\n",
       "    }\n",
       "\n",
       "    .dataframe thead th {\n",
       "        text-align: right;\n",
       "    }\n",
       "</style>\n",
       "<table border=\"1\" class=\"dataframe\">\n",
       "  <thead>\n",
       "    <tr style=\"text-align: right;\">\n",
       "      <th></th>\n",
       "      <th>Income</th>\n",
       "      <th>Limit</th>\n",
       "      <th>Rating</th>\n",
       "      <th>Cards</th>\n",
       "      <th>Age</th>\n",
       "      <th>Education</th>\n",
       "      <th>Balance</th>\n",
       "    </tr>\n",
       "  </thead>\n",
       "  <tbody>\n",
       "    <tr>\n",
       "      <th>Income</th>\n",
       "      <td>1.000000</td>\n",
       "      <td>0.792088</td>\n",
       "      <td>0.791378</td>\n",
       "      <td>-0.018273</td>\n",
       "      <td>0.175338</td>\n",
       "      <td>-0.027692</td>\n",
       "      <td>0.463656</td>\n",
       "    </tr>\n",
       "    <tr>\n",
       "      <th>Limit</th>\n",
       "      <td>0.792088</td>\n",
       "      <td>1.000000</td>\n",
       "      <td>0.996880</td>\n",
       "      <td>0.010231</td>\n",
       "      <td>0.100888</td>\n",
       "      <td>-0.023549</td>\n",
       "      <td>0.861697</td>\n",
       "    </tr>\n",
       "    <tr>\n",
       "      <th>Rating</th>\n",
       "      <td>0.791378</td>\n",
       "      <td>0.996880</td>\n",
       "      <td>1.000000</td>\n",
       "      <td>0.053239</td>\n",
       "      <td>0.103165</td>\n",
       "      <td>-0.030136</td>\n",
       "      <td>0.863625</td>\n",
       "    </tr>\n",
       "    <tr>\n",
       "      <th>Cards</th>\n",
       "      <td>-0.018273</td>\n",
       "      <td>0.010231</td>\n",
       "      <td>0.053239</td>\n",
       "      <td>1.000000</td>\n",
       "      <td>0.042948</td>\n",
       "      <td>-0.051084</td>\n",
       "      <td>0.086456</td>\n",
       "    </tr>\n",
       "    <tr>\n",
       "      <th>Age</th>\n",
       "      <td>0.175338</td>\n",
       "      <td>0.100888</td>\n",
       "      <td>0.103165</td>\n",
       "      <td>0.042948</td>\n",
       "      <td>1.000000</td>\n",
       "      <td>0.003619</td>\n",
       "      <td>0.001835</td>\n",
       "    </tr>\n",
       "    <tr>\n",
       "      <th>Education</th>\n",
       "      <td>-0.027692</td>\n",
       "      <td>-0.023549</td>\n",
       "      <td>-0.030136</td>\n",
       "      <td>-0.051084</td>\n",
       "      <td>0.003619</td>\n",
       "      <td>1.000000</td>\n",
       "      <td>-0.008062</td>\n",
       "    </tr>\n",
       "    <tr>\n",
       "      <th>Balance</th>\n",
       "      <td>0.463656</td>\n",
       "      <td>0.861697</td>\n",
       "      <td>0.863625</td>\n",
       "      <td>0.086456</td>\n",
       "      <td>0.001835</td>\n",
       "      <td>-0.008062</td>\n",
       "      <td>1.000000</td>\n",
       "    </tr>\n",
       "  </tbody>\n",
       "</table>\n",
       "</div>"
      ],
      "text/plain": [
       "             Income     Limit    Rating     Cards       Age  Education  \\\n",
       "Income     1.000000  0.792088  0.791378 -0.018273  0.175338  -0.027692   \n",
       "Limit      0.792088  1.000000  0.996880  0.010231  0.100888  -0.023549   \n",
       "Rating     0.791378  0.996880  1.000000  0.053239  0.103165  -0.030136   \n",
       "Cards     -0.018273  0.010231  0.053239  1.000000  0.042948  -0.051084   \n",
       "Age        0.175338  0.100888  0.103165  0.042948  1.000000   0.003619   \n",
       "Education -0.027692 -0.023549 -0.030136 -0.051084  0.003619   1.000000   \n",
       "Balance    0.463656  0.861697  0.863625  0.086456  0.001835  -0.008062   \n",
       "\n",
       "            Balance  \n",
       "Income     0.463656  \n",
       "Limit      0.861697  \n",
       "Rating     0.863625  \n",
       "Cards      0.086456  \n",
       "Age        0.001835  \n",
       "Education -0.008062  \n",
       "Balance    1.000000  "
      ]
     },
     "execution_count": 67,
     "metadata": {},
     "output_type": "execute_result"
    }
   ],
   "source": [
    "credit.corr(numeric_only = True)"
   ]
  },
  {
   "cell_type": "markdown",
   "id": "29316f34",
   "metadata": {},
   "source": [
    "**Exercise 4.3:** What varriables are most correlated? Does this make since? Which should we then choose for our prediction model? "
   ]
  },
  {
   "cell_type": "code",
   "execution_count": null,
   "id": "8fcd8bbe",
   "metadata": {},
   "outputs": [],
   "source": [
    "## Exercsie 4.3 \n",
    "\n",
    "## TODO "
   ]
  },
  {
   "cell_type": "markdown",
   "id": "cc9f973e",
   "metadata": {},
   "source": [
    "## 5. sklearn example\n",
    "\n",
    "Many libraries, such as `sklearn` used on the first assignment, can be used with pandas data objects. \n",
    "\n",
    "For example, we can attempt to predict an individuals credit score as a function of their income and age. "
   ]
  },
  {
   "cell_type": "code",
   "execution_count": 28,
   "id": "f2c5c23b",
   "metadata": {},
   "outputs": [
    {
     "name": "stdout",
     "output_type": "stream",
     "text": [
      "214.89921532426328 3.5024550562410477 -0.3293901779331881\n"
     ]
    }
   ],
   "source": [
    "from sklearn import linear_model\n",
    "\n",
    "y=credit.Rating\n",
    "X=credit[['Income','Age']]\n",
    "\n",
    "credit_model=linear_model.LinearRegression().fit(X, y)\n",
    "print(credit_model.intercept_, credit_model.coef_[0], credit_model.coef_[1])"
   ]
  },
  {
   "cell_type": "markdown",
   "id": "9f582488",
   "metadata": {},
   "source": [
    "This indicates that our best estimate of someone's credit score follows the function \n",
    "\n",
    "$$\\hat{score}=214.9+3.5\\times income - 0.33\\times age.$$\n",
    "\n",
    "(Note that income is not measured in dollars)\n",
    "\n",
    "You can find more about the `linear_model` function needed for your assignment in the documentation: \n",
    "- https://scikit-learn.org/stable/modules/generated/sklearn.linear_model.LinearRegression.html."
   ]
  },
  {
   "cell_type": "markdown",
   "id": "afcd1ff2",
   "metadata": {},
   "source": [
    "## 5. Resources\n",
    "\n",
    "If you would like to get a deeper introduction to all of the tools used in data science, I highly recommend [Python for Data Analysis](https://bedford-computing.co.uk/learning/wp-content/uploads/2015/10/Python-for-Data-Analysis.pdf), which is written by the creator of `pandas` himself. "
   ]
  },
  {
   "cell_type": "code",
   "execution_count": null,
   "id": "289746ef-75ff-460d-95d7-930620af37d7",
   "metadata": {},
   "outputs": [],
   "source": []
  }
 ],
 "metadata": {
  "kernelspec": {
   "display_name": "Python 3 (ipykernel)",
   "language": "python",
   "name": "python3"
  },
  "language_info": {
   "codemirror_mode": {
    "name": "ipython",
    "version": 3
   },
   "file_extension": ".py",
   "mimetype": "text/x-python",
   "name": "python",
   "nbconvert_exporter": "python",
   "pygments_lexer": "ipython3",
   "version": "3.9.12"
  }
 },
 "nbformat": 4,
 "nbformat_minor": 5
}
