{
 "cells": [
  {
   "cell_type": "markdown",
   "id": "4573af2a",
   "metadata": {},
   "source": [
    "# This notebook will introduce us to python, the pandas library, and jupyter notebooks (Part 2) \n",
    "\n",
    "by Amanda Worthy, PhD student, University of Washington "
   ]
  },
  {
   "cell_type": "code",
   "execution_count": 1,
   "id": "f3abc4aa",
   "metadata": {},
   "outputs": [
    {
     "name": "stderr",
     "output_type": "stream",
     "text": [
      "/Users/amandaworthy/opt/anaconda3/envs/uwgda2022/lib/python3.9/site-packages/xarray/backends/cfgrib_.py:27: UserWarning: Failed to load cfgrib - most likely there is a problem accessing the ecCodes library. Try `import cfgrib` to get the full error message\n",
      "  warnings.warn(\n"
     ]
    }
   ],
   "source": [
    "# We will be a running a python kernel for our jupyter\n",
    "# First we will start off by importing the python packages that we need\n",
    "\n",
    "import seaborn as sn\n",
    "import plotly.express as px\n",
    "import numpy as np\n",
    "import matplotlib.pyplot as plt\n",
    "import pandas as pd\n",
    "import geopandas as gpd\n",
    "from shapely.geometry import Point, Polygon, box\n",
    "import fiona\n",
    "import pyproj\n",
    "import os\n",
    "import requests\n",
    "import matplotlib.ticker as ticker\n",
    "import glob\n",
    "import openpyxl"
   ]
  },
  {
   "cell_type": "markdown",
   "id": "b6f15f6b",
   "metadata": {},
   "source": [
    "# Some introductory resources\n",
    "- jupyter notebooks can have text/ markdown cells\n",
    "- jupyter notebooks can have code cells\n",
    "\n",
    "\n",
    "# Some shorthands commands\n",
    "- use esc AND a to add a cell above the current cell (mac)\n",
    "- use esc AND b to add a cell bellow the current cell (mac)\n",
    "- use command AND s to save the notebook (mac)\n",
    "- use shift AND return to run a cell (mac)\n",
    "\n",
    "\n",
    "Please see the following resources for more introductory information:\n",
    "- https://jakevdp.github.io/WhirlwindTourOfPython/ (great book by a UW alum, a good portion of this tutiorial was adapted from this book)\n",
    "- https://www.dataquest.io/blog/jupyter-notebook-tutorial/ (basic webpage tutorial)\n",
    "- https://colab.research.google.com/github/data-psl/lectures2020/blob/master/notebooks/01_python_basics.ipynb (made by google research, more comprehensive)\n",
    "\n",
    "\n",
    " ** Things can get complicated kind of quickly\n",
    "\n",
    " **** Google will be your best friend if you need syntax help!\n",
    "\n",
    "### When searching for resources on google - include the library that you are working with in your search term\n",
    "\n",
    " EXAMPLES:  \n",
    " - \"matricies in numpy\"\n",
    " - \"rename dataframe columns in pandas\"\n",
    " - \"merge dataframes in pandas\""
   ]
  },
  {
   "cell_type": "code",
   "execution_count": null,
   "id": "728a3611",
   "metadata": {},
   "outputs": [],
   "source": [
    "## JUST SO WE REMEMBER--- import pandas again\n",
    "\n",
    "import pandas as pd"
   ]
  },
  {
   "cell_type": "code",
   "execution_count": null,
   "id": "ab7b3587",
   "metadata": {},
   "outputs": [],
   "source": [
    "df = pd.DataFrame({'label': ['A', 'B', 'C', 'A', 'B', 'C'],\n",
    "                   'value': [1, 2, 3, 4, 5, 6]})\n",
    "df\n"
   ]
  },
  {
   "cell_type": "code",
   "execution_count": null,
   "id": "76cc377e",
   "metadata": {},
   "outputs": [],
   "source": [
    "# lets create a new data frame with the amount of visitors per animal at the zoo \n",
    "\n"
   ]
  },
  {
   "cell_type": "code",
   "execution_count": null,
   "id": "31213758",
   "metadata": {},
   "outputs": [],
   "source": [
    "# lets print the column names with .columns \n",
    "\n"
   ]
  },
  {
   "cell_type": "code",
   "execution_count": null,
   "id": "7f2d78b5",
   "metadata": {},
   "outputs": [],
   "source": [
    "#lets print or index on one column \n",
    "\n"
   ]
  },
  {
   "cell_type": "code",
   "execution_count": null,
   "id": "958b004d",
   "metadata": {},
   "outputs": [],
   "source": [
    "#get all of the ages of the animals \n",
    "\n"
   ]
  },
  {
   "cell_type": "code",
   "execution_count": null,
   "id": "0f5b6de6",
   "metadata": {},
   "outputs": [],
   "source": [
    "#now lets only look at one animal \n"
   ]
  },
  {
   "cell_type": "code",
   "execution_count": null,
   "id": "f6f913b9",
   "metadata": {},
   "outputs": [],
   "source": [
    "#lets make a dataframe for those who are older\n",
    "\n"
   ]
  },
  {
   "cell_type": "code",
   "execution_count": null,
   "id": "a919ff5d",
   "metadata": {},
   "outputs": [],
   "source": [
    "#now the ones who live in the ocean \n",
    "\n"
   ]
  },
  {
   "cell_type": "code",
   "execution_count": null,
   "id": "ea3782e1",
   "metadata": {},
   "outputs": [],
   "source": [
    "#lets make a plot of the relationship \n",
    "\n",
    "plt.scatter()\n",
    "plt.title('');\n",
    "plt.xlabel('')\n",
    "plt.ylabel('');\n",
    "plt.show()\n"
   ]
  },
  {
   "cell_type": "markdown",
   "id": "4eecdc15",
   "metadata": {},
   "source": [
    "## Okay now we will import an actual dataset \n",
    "\n"
   ]
  },
  {
   "cell_type": "code",
   "execution_count": 2,
   "id": "32a5b51c",
   "metadata": {},
   "outputs": [],
   "source": [
    "# Look at histograms \n",
    "\n",
    "# Look at correlation "
   ]
  },
  {
   "cell_type": "code",
   "execution_count": null,
   "id": "f31eb547",
   "metadata": {},
   "outputs": [],
   "source": []
  },
  {
   "cell_type": "code",
   "execution_count": null,
   "id": "2ee72a71",
   "metadata": {},
   "outputs": [],
   "source": []
  }
 ],
 "metadata": {
  "kernelspec": {
   "display_name": "Python 3 (ipykernel)",
   "language": "python",
   "name": "python3"
  },
  "language_info": {
   "codemirror_mode": {
    "name": "ipython",
    "version": 3
   },
   "file_extension": ".py",
   "mimetype": "text/x-python",
   "name": "python",
   "nbconvert_exporter": "python",
   "pygments_lexer": "ipython3",
   "version": "3.9.12"
  }
 },
 "nbformat": 4,
 "nbformat_minor": 5
}
