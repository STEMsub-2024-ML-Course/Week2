{
 "cells": [
  {
   "cell_type": "markdown",
   "id": "856a95d2",
   "metadata": {},
   "source": [
    "<h1><center>UW STEMsub ML Homework 1 </center></h1>\n",
    "<center><b>Instructor:</b> Amanda Worthy</center>\n",
    "<center><b>Date:</b> July 8th, 2024</center>\n",
    "<center><b>Due:</b> Monday July 15th, 2024 at 11:59 pm</center>\n"
   ]
  },
  {
   "cell_type": "markdown",
   "id": "3e24cef0",
   "metadata": {},
   "source": [
    "# Homework 1 will explore... Bigfoot sightings "
   ]
  },
  {
   "cell_type": "code",
   "execution_count": 8,
   "id": "8f45cc4a",
   "metadata": {},
   "outputs": [],
   "source": [
    "# Lets import our packages \n",
    "import pandas as pd\n",
    "import seaborn as sn\n",
    "import plotly.express as px\n",
    "import numpy as np\n",
    "import matplotlib.pyplot as plt\n",
    "import fiona\n",
    "import pyproj\n",
    "import os\n",
    "import requests\n",
    "import matplotlib.ticker as ticker\n",
    "import glob\n",
    "import openpyxl"
   ]
  },
  {
   "cell_type": "markdown",
   "id": "25d7bc9c",
   "metadata": {},
   "source": [
    "## We will explore bigfoot sightings, plotting, correlation, and summary statistics ('BigFoot.csv')"
   ]
  },
  {
   "cell_type": "markdown",
   "id": "88d09bf4",
   "metadata": {},
   "source": [
    "### Exploring the data \n",
    "\n",
    "These question asks you to explore the dataset we will be using. Answer the following three sentences by writing code to compute the described values in the given variables names."
   ]
  },
  {
   "cell_type": "markdown",
   "id": "1b1f937c",
   "metadata": {},
   "source": [
    "## Q 1.1) Exploratory Data Analysis: Bigfoot Sighting Questions \n",
    "\n",
    "For each of these questions make sure you doccument your thought process for solving the problem in a markdown cell. Then, perform the calculations and create graphs that help you justify your responce. \n",
    "\n",
    "#### 1.1 How does the number of sightings vary by month or season? \n",
    "- hint: histogram! \n",
    "\n",
    "#### 1.2 What time of day do most sightings occur?\n",
    "\n",
    "#### 1.3 Where do most sightings occur?\n",
    "\n",
    "#### 1.4 Does temperature seem to have any effect on sightings? If so, what is the correlation coefficient? \n",
    "\n",
    "#### 1.5 Think of your own analysis question and answer it. \n",
    "\n",
    "###### For question 1.5 please doccument...  \n",
    "- a. Your analysis question \n",
    "- b. Your thought process for solving it\n",
    "- c. The answer to your analysis question (with plots and numbers to justify) \n",
    "\n",
    "\n",
    "\n"
   ]
  },
  {
   "cell_type": "code",
   "execution_count": 9,
   "id": "2a472b4e",
   "metadata": {},
   "outputs": [
    {
     "name": "stdout",
     "output_type": "stream",
     "text": [
      "/Users/amandaworthy/opt/anaconda3/envs/uwgda2022/lib/python3.9/site-packages/gdown/__main__.py:140: FutureWarning: Option `--id` was deprecated in version 4.3.1 and will be removed in 5.0. You don't need to pass it anymore to use a file ID.\n",
      "  warnings.warn(\n",
      "Downloading...\n",
      "From: https://drive.google.com/uc?id=1cuz3C3Z2_6iCBrW0S94pDaJZXSJiVUko\n",
      "To: /Users/amandaworthy/2024_STEMsub/Week2/BigFoot.csv\n",
      "100%|██████████████████████████████████████| 11.2M/11.2M [00:00<00:00, 15.9MB/s]\n"
     ]
    }
   ],
   "source": [
    "# Import the dataset into google colab like we did in class \n",
    "\n",
    "## NOTE: MAKE SURE YOU RUN THIS CELL\n",
    "\n",
    "# Lets import the data from my google drive\n",
    "# I am using this for sharing purposes, we can also import datasets on our own\n",
    "\n",
    "#https://drive.google.com/file/d/1cuz3C3Z2_6iCBrW0S94pDaJZXSJiVUko/view?usp=sharing\n",
    "\n",
    "!gdown --id 1cuz3C3Z2_6iCBrW0S94pDaJZXSJiVUko #this is a bash command, you are welcome to read more about them!\n"
   ]
  },
  {
   "cell_type": "code",
   "execution_count": 10,
   "id": "dc4c67fc",
   "metadata": {},
   "outputs": [
    {
     "name": "stdout",
     "output_type": "stream",
     "text": [
      "BigFoot.csv                          README.md\r\n",
      "Credit.csv                           Regression_house_prices.ipynb\r\n",
      "Exploratory_Analysis_In_Pandas.ipynb UW_building_energy.csv\r\n",
      "Homework 1 and 2.ipynb               home_data.csv\r\n",
      "Homework 1.ipynb\r\n"
     ]
    }
   ],
   "source": [
    "# Did it work? \n",
    "\n",
    "!ls\n",
    "\n",
    "## BigFoot.csv should show up with the !ls command if it did "
   ]
  },
  {
   "cell_type": "code",
   "execution_count": 13,
   "id": "b6ff81d6",
   "metadata": {},
   "outputs": [
    {
     "data": {
      "text/html": [
       "<div>\n",
       "<style scoped>\n",
       "    .dataframe tbody tr th:only-of-type {\n",
       "        vertical-align: middle;\n",
       "    }\n",
       "\n",
       "    .dataframe tbody tr th {\n",
       "        vertical-align: top;\n",
       "    }\n",
       "\n",
       "    .dataframe thead th {\n",
       "        text-align: right;\n",
       "    }\n",
       "</style>\n",
       "<table border=\"1\" class=\"dataframe\">\n",
       "  <thead>\n",
       "    <tr style=\"text-align: right;\">\n",
       "      <th></th>\n",
       "      <th>observed</th>\n",
       "      <th>location_details</th>\n",
       "      <th>county</th>\n",
       "      <th>state</th>\n",
       "      <th>season</th>\n",
       "      <th>title</th>\n",
       "      <th>latitude</th>\n",
       "      <th>longitude</th>\n",
       "      <th>date</th>\n",
       "      <th>number</th>\n",
       "      <th>...</th>\n",
       "      <th>moon_phase</th>\n",
       "      <th>precip_intensity</th>\n",
       "      <th>precip_probability</th>\n",
       "      <th>precip_type</th>\n",
       "      <th>pressure</th>\n",
       "      <th>summary</th>\n",
       "      <th>uv_index</th>\n",
       "      <th>visibility</th>\n",
       "      <th>wind_bearing</th>\n",
       "      <th>wind_speed</th>\n",
       "    </tr>\n",
       "  </thead>\n",
       "  <tbody>\n",
       "    <tr>\n",
       "      <th>0</th>\n",
       "      <td>I was canoeing on the Sipsey river in Alabama....</td>\n",
       "      <td>NaN</td>\n",
       "      <td>Winston County</td>\n",
       "      <td>Alabama</td>\n",
       "      <td>Summer</td>\n",
       "      <td>NaN</td>\n",
       "      <td>NaN</td>\n",
       "      <td>NaN</td>\n",
       "      <td>NaN</td>\n",
       "      <td>30680</td>\n",
       "      <td>...</td>\n",
       "      <td>NaN</td>\n",
       "      <td>NaN</td>\n",
       "      <td>NaN</td>\n",
       "      <td>NaN</td>\n",
       "      <td>NaN</td>\n",
       "      <td>NaN</td>\n",
       "      <td>NaN</td>\n",
       "      <td>NaN</td>\n",
       "      <td>NaN</td>\n",
       "      <td>NaN</td>\n",
       "    </tr>\n",
       "    <tr>\n",
       "      <th>1</th>\n",
       "      <td>Ed L. was salmon fishing with a companion in P...</td>\n",
       "      <td>East side of Prince William Sound</td>\n",
       "      <td>Valdez-Chitina-Whittier County</td>\n",
       "      <td>Alaska</td>\n",
       "      <td>Fall</td>\n",
       "      <td>NaN</td>\n",
       "      <td>NaN</td>\n",
       "      <td>NaN</td>\n",
       "      <td>NaN</td>\n",
       "      <td>1261</td>\n",
       "      <td>...</td>\n",
       "      <td>NaN</td>\n",
       "      <td>NaN</td>\n",
       "      <td>NaN</td>\n",
       "      <td>NaN</td>\n",
       "      <td>NaN</td>\n",
       "      <td>NaN</td>\n",
       "      <td>NaN</td>\n",
       "      <td>NaN</td>\n",
       "      <td>NaN</td>\n",
       "      <td>NaN</td>\n",
       "    </tr>\n",
       "    <tr>\n",
       "      <th>2</th>\n",
       "      <td>While attending U.R.I in the Fall of 1974,I wo...</td>\n",
       "      <td>Great swamp area, Narragansett Indians</td>\n",
       "      <td>Washington County</td>\n",
       "      <td>Rhode Island</td>\n",
       "      <td>Fall</td>\n",
       "      <td>Report 6496: Bicycling student has night encou...</td>\n",
       "      <td>41.45</td>\n",
       "      <td>-71.5</td>\n",
       "      <td>9/20/74</td>\n",
       "      <td>6496</td>\n",
       "      <td>...</td>\n",
       "      <td>0.16</td>\n",
       "      <td>0.0</td>\n",
       "      <td>0.0</td>\n",
       "      <td>NaN</td>\n",
       "      <td>1020.61</td>\n",
       "      <td>Foggy until afternoon.</td>\n",
       "      <td>4.0</td>\n",
       "      <td>2.75</td>\n",
       "      <td>198.0</td>\n",
       "      <td>6.92</td>\n",
       "    </tr>\n",
       "    <tr>\n",
       "      <th>3</th>\n",
       "      <td>Hello, My name is Doug and though I am very re...</td>\n",
       "      <td>I would rather not have exact location (listin...</td>\n",
       "      <td>York County</td>\n",
       "      <td>Pennsylvania</td>\n",
       "      <td>Summer</td>\n",
       "      <td>NaN</td>\n",
       "      <td>NaN</td>\n",
       "      <td>NaN</td>\n",
       "      <td>NaN</td>\n",
       "      <td>8000</td>\n",
       "      <td>...</td>\n",
       "      <td>NaN</td>\n",
       "      <td>NaN</td>\n",
       "      <td>NaN</td>\n",
       "      <td>NaN</td>\n",
       "      <td>NaN</td>\n",
       "      <td>NaN</td>\n",
       "      <td>NaN</td>\n",
       "      <td>NaN</td>\n",
       "      <td>NaN</td>\n",
       "      <td>NaN</td>\n",
       "    </tr>\n",
       "  </tbody>\n",
       "</table>\n",
       "<p>4 rows × 28 columns</p>\n",
       "</div>"
      ],
      "text/plain": [
       "                                            observed  \\\n",
       "0  I was canoeing on the Sipsey river in Alabama....   \n",
       "1  Ed L. was salmon fishing with a companion in P...   \n",
       "2  While attending U.R.I in the Fall of 1974,I wo...   \n",
       "3  Hello, My name is Doug and though I am very re...   \n",
       "\n",
       "                                    location_details  \\\n",
       "0                                                NaN   \n",
       "1                  East side of Prince William Sound   \n",
       "2             Great swamp area, Narragansett Indians   \n",
       "3  I would rather not have exact location (listin...   \n",
       "\n",
       "                           county         state  season  \\\n",
       "0                  Winston County       Alabama  Summer   \n",
       "1  Valdez-Chitina-Whittier County        Alaska    Fall   \n",
       "2               Washington County  Rhode Island    Fall   \n",
       "3                     York County  Pennsylvania  Summer   \n",
       "\n",
       "                                               title  latitude  longitude  \\\n",
       "0                                                NaN       NaN        NaN   \n",
       "1                                                NaN       NaN        NaN   \n",
       "2  Report 6496: Bicycling student has night encou...     41.45      -71.5   \n",
       "3                                                NaN       NaN        NaN   \n",
       "\n",
       "      date  number  ... moon_phase precip_intensity  precip_probability  \\\n",
       "0      NaN   30680  ...        NaN              NaN                 NaN   \n",
       "1      NaN    1261  ...        NaN              NaN                 NaN   \n",
       "2  9/20/74    6496  ...       0.16              0.0                 0.0   \n",
       "3      NaN    8000  ...        NaN              NaN                 NaN   \n",
       "\n",
       "   precip_type  pressure                 summary  uv_index  visibility  \\\n",
       "0          NaN       NaN                     NaN       NaN         NaN   \n",
       "1          NaN       NaN                     NaN       NaN         NaN   \n",
       "2          NaN   1020.61  Foggy until afternoon.       4.0        2.75   \n",
       "3          NaN       NaN                     NaN       NaN         NaN   \n",
       "\n",
       "   wind_bearing  wind_speed  \n",
       "0           NaN         NaN  \n",
       "1           NaN         NaN  \n",
       "2         198.0        6.92  \n",
       "3           NaN         NaN  \n",
       "\n",
       "[4 rows x 28 columns]"
      ]
     },
     "execution_count": 13,
     "metadata": {},
     "output_type": "execute_result"
    }
   ],
   "source": [
    "# Import the dataset as sight\n",
    "\n",
    "sight= pd.read_csv('BigFoot.csv')  \n",
    "\n",
    "sight.head(4)\n"
   ]
  },
  {
   "cell_type": "code",
   "execution_count": 12,
   "id": "d15b6642",
   "metadata": {},
   "outputs": [
    {
     "name": "stdout",
     "output_type": "stream",
     "text": [
      "<class 'pandas.core.frame.DataFrame'>\n",
      "RangeIndex: 5021 entries, 0 to 5020\n",
      "Data columns (total 28 columns):\n",
      " #   Column              Non-Null Count  Dtype  \n",
      "---  ------              --------------  -----  \n",
      " 0   observed            4983 non-null   object \n",
      " 1   location_details    4260 non-null   object \n",
      " 2   county              5021 non-null   object \n",
      " 3   state               5021 non-null   object \n",
      " 4   season              5021 non-null   object \n",
      " 5   title               4045 non-null   object \n",
      " 6   latitude            4045 non-null   float64\n",
      " 7   longitude           4045 non-null   float64\n",
      " 8   date                4045 non-null   object \n",
      " 9   number              5021 non-null   int64  \n",
      " 10  classification      5021 non-null   object \n",
      " 11  geohash             4045 non-null   object \n",
      " 12  temperature_high    3338 non-null   float64\n",
      " 13  temperature_mid     3186 non-null   float64\n",
      " 14  temperature_low     3189 non-null   float64\n",
      " 15  dew_point           3373 non-null   float64\n",
      " 16  humidity            3373 non-null   float64\n",
      " 17  cloud_cover         3084 non-null   float64\n",
      " 18  moon_phase          3396 non-null   float64\n",
      " 19  precip_intensity    2712 non-null   float64\n",
      " 20  precip_probability  2710 non-null   float64\n",
      " 21  precip_type         1723 non-null   object \n",
      " 22  pressure            2619 non-null   float64\n",
      " 23  summary             3366 non-null   object \n",
      " 24  uv_index            3392 non-null   float64\n",
      " 25  visibility          3049 non-null   float64\n",
      " 26  wind_bearing        3387 non-null   float64\n",
      " 27  wind_speed          3389 non-null   float64\n",
      "dtypes: float64(16), int64(1), object(11)\n",
      "memory usage: 1.1+ MB\n"
     ]
    }
   ],
   "source": [
    "# lets explore the dataset contents\n",
    "\n",
    "sight.info()"
   ]
  },
  {
   "cell_type": "code",
   "execution_count": 7,
   "id": "baf297d6",
   "metadata": {},
   "outputs": [
    {
     "data": {
      "text/plain": [
       "Index(['observed', 'location_details', 'county', 'state', 'season', 'title',\n",
       "       'latitude', 'longitude', 'date', 'number', 'classification', 'geohash',\n",
       "       'temperature_high', 'temperature_mid', 'temperature_low', 'dew_point',\n",
       "       'humidity', 'cloud_cover', 'moon_phase', 'precip_intensity',\n",
       "       'precip_probability', 'precip_type', 'pressure', 'summary', 'uv_index',\n",
       "       'visibility', 'wind_bearing', 'wind_speed'],\n",
       "      dtype='object')"
      ]
     },
     "execution_count": 7,
     "metadata": {},
     "output_type": "execute_result"
    }
   ],
   "source": [
    "sight.columns"
   ]
  },
  {
   "cell_type": "code",
   "execution_count": null,
   "id": "067d7172",
   "metadata": {},
   "outputs": [],
   "source": [
    "#1.1 How does the number of sightings vary by month and season?\n",
    "\n",
    "## TODO \n"
   ]
  },
  {
   "cell_type": "code",
   "execution_count": null,
   "id": "452899f6",
   "metadata": {},
   "outputs": [],
   "source": [
    "#1.2 What time of day do most sightings occur?\n",
    "\n",
    "## TODO \n"
   ]
  },
  {
   "cell_type": "code",
   "execution_count": 12,
   "id": "37048bda",
   "metadata": {},
   "outputs": [],
   "source": [
    "#1.3 Where do most sightings occur?\n",
    "\n",
    "## TODO\n"
   ]
  },
  {
   "cell_type": "code",
   "execution_count": null,
   "id": "49b6bb37",
   "metadata": {},
   "outputs": [],
   "source": [
    "#1.4 Does temperature seem to have any effect on sightings? If so, what is the correlation coefficient? \n",
    "\n",
    "## TODO\n"
   ]
  },
  {
   "cell_type": "code",
   "execution_count": null,
   "id": "cf98ab7e",
   "metadata": {},
   "outputs": [],
   "source": [
    "# 1.5 Think of your own analysis question and answer it\n",
    "# a. What is your analysis question? \n",
    "\n",
    "## TODO \n"
   ]
  },
  {
   "cell_type": "code",
   "execution_count": null,
   "id": "5c210907",
   "metadata": {},
   "outputs": [],
   "source": [
    "# 1.5 Think of your own analysis question and answer it\n",
    "# b. What is your thought process for solving your analysis question \n",
    "\n",
    "## TODO \n"
   ]
  },
  {
   "cell_type": "code",
   "execution_count": null,
   "id": "198d5a9b",
   "metadata": {},
   "outputs": [],
   "source": [
    "# 1.5 Think of your own analysis question and answer it\n",
    "# c. What is the answer to your analysis question (please provide plots and numbers to justify) \n",
    "\n",
    "## TODO \n"
   ]
  },
  {
   "cell_type": "markdown",
   "id": "33db36c1",
   "metadata": {},
   "source": [
    "# For your homework submission turn in to canvas.. \n",
    "    a. this completed notebook in (.ipynb) \n",
    "    b. a read only version(.pdf)version of your notebook \n",
    "## This assignmnet is due Monday, July 15th, 2024 at 11:59 pm"
   ]
  },
  {
   "cell_type": "code",
   "execution_count": null,
   "id": "662bf8c6",
   "metadata": {},
   "outputs": [],
   "source": []
  }
 ],
 "metadata": {
  "kernelspec": {
   "display_name": "Python 3 (ipykernel)",
   "language": "python",
   "name": "python3"
  },
  "language_info": {
   "codemirror_mode": {
    "name": "ipython",
    "version": 3
   },
   "file_extension": ".py",
   "mimetype": "text/x-python",
   "name": "python",
   "nbconvert_exporter": "python",
   "pygments_lexer": "ipython3",
   "version": "3.9.12"
  }
 },
 "nbformat": 4,
 "nbformat_minor": 5
}
